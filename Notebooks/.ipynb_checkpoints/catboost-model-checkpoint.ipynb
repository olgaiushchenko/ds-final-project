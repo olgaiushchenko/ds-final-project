{
 "cells": [
  {
   "cell_type": "code",
   "execution_count": 1,
   "metadata": {},
   "outputs": [],
   "source": [
    "%load_ext autoreload\n",
    "%autoreload 2\n",
    "\n",
    "import pandas as pd\n",
    "import numpy as np\n",
    "pd.set_option('display.max_columns', 999)\n",
    "import pickle"
   ]
  },
  {
   "cell_type": "code",
   "execution_count": 2,
   "metadata": {},
   "outputs": [],
   "source": [
    "from sklearn.model_selection import train_test_split\n",
    "from catboost import Pool, CatBoostRegressor, cv\n",
    "from sklearn.metrics import mean_squared_log_error, mean_squared_error, r2_score\n",
    "from sklearn.metrics import mean_absolute_error, median_absolute_error\n",
    "from sklearn.model_selection import TimeSeriesSplit"
   ]
  },
  {
   "cell_type": "code",
   "execution_count": 3,
   "metadata": {},
   "outputs": [],
   "source": [
    "import feature_engineering_multi"
   ]
  },
  {
   "cell_type": "markdown",
   "metadata": {},
   "source": [
    "Reading the dataset from csv file to pandas Dataframe object"
   ]
  },
  {
   "cell_type": "code",
   "execution_count": 4,
   "metadata": {
    "scrolled": true
   },
   "outputs": [
    {
     "name": "stderr",
     "output_type": "stream",
     "text": [
      "/anaconda3/lib/python3.6/site-packages/IPython/core/interactiveshell.py:2728: DtypeWarning: Columns (19,20,25) have mixed types. Specify dtype option on import or set low_memory=False.\n",
      "  interactivity=interactivity, compiler=compiler, result=result)\n"
     ]
    }
   ],
   "source": [
    "df = pd.read_csv('/Users/olia/galvanize/ds-final-project/data_all/Fire_Department_Calls_for_Service.csv')"
   ]
  },
  {
   "cell_type": "markdown",
   "metadata": {},
   "source": [
    "Applying feature engineering script to create/reshape/upddate/drop features. Script is uploaded from outside file."
   ]
  },
  {
   "cell_type": "code",
   "execution_count": 5,
   "metadata": {
    "scrolled": true
   },
   "outputs": [
    {
     "name": "stderr",
     "output_type": "stream",
     "text": [
      "/Users/olia/galvanize/ds-final-project/scripts/feature_engineering_multi.py:97: SettingWithCopyWarning: \n",
      "A value is trying to be set on a copy of a slice from a DataFrame\n",
      "\n",
      "See the caveats in the documentation: http://pandas.pydata.org/pandas-docs/stable/indexing.html#indexing-view-versus-copy\n",
      "  'Location', 'RowID', 'Battalion', 'ALS Unit'], errors='ignore', inplace=True)\n",
      "/Users/olia/galvanize/ds-final-project/scripts/feature_engineering_multi.py:105: SettingWithCopyWarning: \n",
      "A value is trying to be set on a copy of a slice from a DataFrame\n",
      "\n",
      "See the caveats in the documentation: http://pandas.pydata.org/pandas-docs/stable/indexing.html#indexing-view-versus-copy\n",
      "  df.dropna(how='any', inplace=True)\n",
      "/Users/olia/galvanize/ds-final-project/scripts/feature_engineering_multi.py:113: SettingWithCopyWarning: \n",
      "A value is trying to be set on a copy of a slice from a DataFrame.\n",
      "Try using .loc[row_indexer,col_indexer] = value instead\n",
      "\n",
      "See the caveats in the documentation: http://pandas.pydata.org/pandas-docs/stable/indexing.html#indexing-view-versus-copy\n",
      "  df[df['Box'] == 'AI02'] = 0\n",
      "/anaconda3/lib/python3.6/site-packages/pandas/core/indexing.py:537: SettingWithCopyWarning: \n",
      "A value is trying to be set on a copy of a slice from a DataFrame.\n",
      "Try using .loc[row_indexer,col_indexer] = value instead\n",
      "\n",
      "See the caveats in the documentation: http://pandas.pydata.org/pandas-docs/stable/indexing.html#indexing-view-versus-copy\n",
      "  self.obj[item] = s\n",
      "/Users/olia/galvanize/ds-final-project/scripts/feature_engineering_multi.py:114: SettingWithCopyWarning: \n",
      "A value is trying to be set on a copy of a slice from a DataFrame.\n",
      "Try using .loc[row_indexer,col_indexer] = value instead\n",
      "\n",
      "See the caveats in the documentation: http://pandas.pydata.org/pandas-docs/stable/indexing.html#indexing-view-versus-copy\n",
      "  df['Box'] = df['Box'].astype(int)\n"
     ]
    }
   ],
   "source": [
    "df_full=feature_engineering_multi.run_features(df)"
   ]
  },
  {
   "cell_type": "markdown",
   "metadata": {},
   "source": [
    "## MODEL RUN"
   ]
  },
  {
   "cell_type": "markdown",
   "metadata": {},
   "source": [
    "Splitting dataset into X dataframe and y labels."
   ]
  },
  {
   "cell_type": "code",
   "execution_count": 6,
   "metadata": {},
   "outputs": [],
   "source": [
    "y = df_full['Respond to Available']\n",
    "X = df_full.drop(columns=['Respond to Available'])"
   ]
  },
  {
   "cell_type": "markdown",
   "metadata": {},
   "source": [
    "Indeces of categorical features."
   ]
  },
  {
   "cell_type": "code",
   "execution_count": 7,
   "metadata": {},
   "outputs": [],
   "source": [
    "cat_features=[\n",
    "    0,\n",
    "    1,\n",
    "    3,\n",
    "    5,\n",
    "    7,\n",
    "    9\n",
    "]"
   ]
  },
  {
   "cell_type": "markdown",
   "metadata": {},
   "source": [
    "Split X and y into training and testing sets."
   ]
  },
  {
   "cell_type": "code",
   "execution_count": 8,
   "metadata": {},
   "outputs": [],
   "source": [
    "X_train, X_test, y_train, y_test = train_test_split(X, y, test_size=0.25, shuffle=False)"
   ]
  },
  {
   "cell_type": "markdown",
   "metadata": {},
   "source": [
    "Initiating Pools for CatBoost model"
   ]
  },
  {
   "cell_type": "code",
   "execution_count": 9,
   "metadata": {},
   "outputs": [],
   "source": [
    "train_pool = Pool(X_train, y_train, cat_features=cat_features)\n",
    "test_pool = Pool(X_test, cat_features=cat_features)"
   ]
  },
  {
   "cell_type": "code",
   "execution_count": 10,
   "metadata": {},
   "outputs": [
    {
     "name": "stdout",
     "output_type": "stream",
     "text": [
      "0:\tlearn: 40.1500658\ttotal: 19s\tremaining: 47m 18s\n",
      "1:\tlearn: 36.7288139\ttotal: 37.4s\tremaining: 46m 11s\n",
      "2:\tlearn: 33.6985427\ttotal: 57.4s\tremaining: 46m 51s\n",
      "3:\tlearn: 31.0189559\ttotal: 1m 15s\tremaining: 45m 43s\n",
      "4:\tlearn: 28.6537038\ttotal: 1m 35s\tremaining: 45m 57s\n",
      "5:\tlearn: 26.5801226\ttotal: 1m 52s\tremaining: 45m 2s\n",
      "6:\tlearn: 24.7658740\ttotal: 2m 6s\tremaining: 43m 13s\n",
      "7:\tlearn: 23.1815349\ttotal: 2m 22s\tremaining: 42m 9s\n",
      "8:\tlearn: 21.8063493\ttotal: 2m 35s\tremaining: 40m 41s\n",
      "9:\tlearn: 20.6196137\ttotal: 2m 54s\tremaining: 40m 36s\n",
      "10:\tlearn: 19.6029459\ttotal: 3m 8s\tremaining: 39m 43s\n",
      "11:\tlearn: 18.7261375\ttotal: 3m 21s\tremaining: 38m 38s\n",
      "12:\tlearn: 17.9865124\ttotal: 3m 38s\tremaining: 38m 18s\n",
      "13:\tlearn: 17.3515147\ttotal: 3m 58s\tremaining: 38m 35s\n",
      "14:\tlearn: 16.8143028\ttotal: 4m 14s\tremaining: 38m 9s\n",
      "15:\tlearn: 16.3607148\ttotal: 4m 29s\tremaining: 37m 36s\n",
      "16:\tlearn: 15.9811904\ttotal: 4m 45s\tremaining: 37m 13s\n",
      "17:\tlearn: 15.6583182\ttotal: 5m 1s\tremaining: 36m 47s\n",
      "18:\tlearn: 15.3846929\ttotal: 5m 16s\tremaining: 36m 23s\n",
      "19:\tlearn: 15.1539945\ttotal: 5m 30s\tremaining: 35m 48s\n",
      "20:\tlearn: 14.9649792\ttotal: 5m 44s\tremaining: 35m 18s\n",
      "21:\tlearn: 14.7977283\ttotal: 5m 56s\tremaining: 34m 35s\n",
      "22:\tlearn: 14.6625155\ttotal: 6m 10s\tremaining: 34m 3s\n",
      "23:\tlearn: 14.5470007\ttotal: 6m 24s\tremaining: 33m 37s\n",
      "24:\tlearn: 14.4464729\ttotal: 6m 40s\tremaining: 33m 23s\n",
      "25:\tlearn: 14.3577640\ttotal: 6m 56s\tremaining: 33m 4s\n",
      "26:\tlearn: 14.2809430\ttotal: 7m 10s\tremaining: 32m 43s\n",
      "27:\tlearn: 14.2128926\ttotal: 7m 24s\tremaining: 32m 17s\n",
      "28:\tlearn: 14.1537465\ttotal: 7m 38s\tremaining: 31m 53s\n",
      "29:\tlearn: 14.1045801\ttotal: 7m 54s\tremaining: 31m 39s\n",
      "30:\tlearn: 14.0610969\ttotal: 8m 13s\tremaining: 31m 33s\n",
      "31:\tlearn: 14.0241896\ttotal: 8m 31s\tremaining: 31m 24s\n",
      "32:\tlearn: 13.9914490\ttotal: 8m 46s\tremaining: 31m 5s\n",
      "33:\tlearn: 13.9584559\ttotal: 9m 1s\tremaining: 30m 47s\n",
      "34:\tlearn: 13.9288998\ttotal: 9m 24s\tremaining: 30m 53s\n",
      "35:\tlearn: 13.9057202\ttotal: 9m 38s\tremaining: 30m 32s\n",
      "36:\tlearn: 13.8838876\ttotal: 9m 56s\tremaining: 30m 21s\n",
      "37:\tlearn: 13.8617452\ttotal: 10m 13s\tremaining: 30m 9s\n",
      "38:\tlearn: 13.8475933\ttotal: 10m 29s\tremaining: 29m 51s\n",
      "39:\tlearn: 13.8237532\ttotal: 10m 46s\tremaining: 29m 37s\n",
      "40:\tlearn: 13.8024403\ttotal: 11m 1s\tremaining: 29m 19s\n",
      "41:\tlearn: 13.7896658\ttotal: 11m 16s\tremaining: 29m\n",
      "42:\tlearn: 13.7739392\ttotal: 11m 31s\tremaining: 28m 41s\n",
      "43:\tlearn: 13.7539939\ttotal: 11m 48s\tremaining: 28m 25s\n",
      "44:\tlearn: 13.7445073\ttotal: 12m 1s\tremaining: 28m 3s\n",
      "45:\tlearn: 13.7349199\ttotal: 12m 14s\tremaining: 27m 41s\n",
      "46:\tlearn: 13.7236356\ttotal: 12m 28s\tremaining: 27m 21s\n",
      "47:\tlearn: 13.7156041\ttotal: 12m 42s\tremaining: 27m 1s\n",
      "48:\tlearn: 13.7067174\ttotal: 12m 57s\tremaining: 26m 42s\n",
      "49:\tlearn: 13.6854063\ttotal: 13m 15s\tremaining: 26m 31s\n",
      "50:\tlearn: 13.6783437\ttotal: 13m 29s\tremaining: 26m 11s\n",
      "51:\tlearn: 13.6620518\ttotal: 13m 43s\tremaining: 25m 52s\n",
      "52:\tlearn: 13.6513221\ttotal: 13m 57s\tremaining: 25m 32s\n",
      "53:\tlearn: 13.6444940\ttotal: 14m 9s\tremaining: 25m 10s\n",
      "54:\tlearn: 13.6350807\ttotal: 14m 23s\tremaining: 24m 51s\n",
      "55:\tlearn: 13.6224488\ttotal: 14m 36s\tremaining: 24m 31s\n",
      "56:\tlearn: 13.6005561\ttotal: 14m 54s\tremaining: 24m 19s\n",
      "57:\tlearn: 13.5832354\ttotal: 15m 11s\tremaining: 24m 5s\n",
      "58:\tlearn: 13.5716384\ttotal: 15m 27s\tremaining: 23m 49s\n",
      "59:\tlearn: 13.5629102\ttotal: 15m 39s\tremaining: 23m 29s\n",
      "60:\tlearn: 13.5541827\ttotal: 15m 54s\tremaining: 23m 13s\n",
      "61:\tlearn: 13.5452260\ttotal: 16m 9s\tremaining: 22m 55s\n",
      "62:\tlearn: 13.5287968\ttotal: 16m 26s\tremaining: 22m 42s\n",
      "63:\tlearn: 13.5207303\ttotal: 16m 41s\tremaining: 22m 25s\n",
      "64:\tlearn: 13.5128031\ttotal: 16m 54s\tremaining: 22m 6s\n",
      "65:\tlearn: 13.5066098\ttotal: 17m 8s\tremaining: 21m 48s\n",
      "66:\tlearn: 13.4978400\ttotal: 17m 23s\tremaining: 21m 32s\n",
      "67:\tlearn: 13.4853057\ttotal: 17m 38s\tremaining: 21m 16s\n",
      "68:\tlearn: 13.4795207\ttotal: 17m 53s\tremaining: 21m\n",
      "69:\tlearn: 13.4710721\ttotal: 18m 8s\tremaining: 20m 44s\n",
      "70:\tlearn: 13.4566500\ttotal: 18m 24s\tremaining: 20m 29s\n",
      "71:\tlearn: 13.4412831\ttotal: 18m 41s\tremaining: 20m 14s\n",
      "72:\tlearn: 13.4338480\ttotal: 18m 56s\tremaining: 19m 58s\n",
      "73:\tlearn: 13.4274057\ttotal: 19m 13s\tremaining: 19m 44s\n",
      "74:\tlearn: 13.4194123\ttotal: 19m 30s\tremaining: 19m 30s\n",
      "75:\tlearn: 13.4153373\ttotal: 19m 44s\tremaining: 19m 13s\n",
      "76:\tlearn: 13.4115959\ttotal: 19m 57s\tremaining: 18m 55s\n",
      "77:\tlearn: 13.4020850\ttotal: 20m 11s\tremaining: 18m 38s\n",
      "78:\tlearn: 13.3932433\ttotal: 20m 29s\tremaining: 18m 25s\n",
      "79:\tlearn: 13.3839661\ttotal: 20m 46s\tremaining: 18m 10s\n",
      "80:\tlearn: 13.3720782\ttotal: 21m 6s\tremaining: 17m 58s\n",
      "81:\tlearn: 13.3623710\ttotal: 21m 24s\tremaining: 17m 44s\n",
      "82:\tlearn: 13.3455531\ttotal: 21m 40s\tremaining: 17m 29s\n",
      "83:\tlearn: 13.3361302\ttotal: 21m 56s\tremaining: 17m 14s\n",
      "84:\tlearn: 13.3316743\ttotal: 22m 11s\tremaining: 16m 57s\n",
      "85:\tlearn: 13.3249046\ttotal: 22m 27s\tremaining: 16m 42s\n",
      "86:\tlearn: 13.3147812\ttotal: 22m 43s\tremaining: 16m 27s\n",
      "87:\tlearn: 13.2972771\ttotal: 23m 1s\tremaining: 16m 13s\n",
      "88:\tlearn: 13.2904303\ttotal: 23m 18s\tremaining: 15m 58s\n",
      "89:\tlearn: 13.2833089\ttotal: 23m 36s\tremaining: 15m 44s\n",
      "90:\tlearn: 13.2783531\ttotal: 23m 52s\tremaining: 15m 28s\n",
      "91:\tlearn: 13.2695534\ttotal: 24m 7s\tremaining: 15m 12s\n",
      "92:\tlearn: 13.2572040\ttotal: 24m 26s\tremaining: 14m 58s\n",
      "93:\tlearn: 13.2524956\ttotal: 24m 42s\tremaining: 14m 43s\n",
      "94:\tlearn: 13.2445548\ttotal: 24m 59s\tremaining: 14m 28s\n",
      "95:\tlearn: 13.2390485\ttotal: 25m 16s\tremaining: 14m 13s\n",
      "96:\tlearn: 13.2326713\ttotal: 25m 30s\tremaining: 13m 56s\n",
      "97:\tlearn: 13.2227092\ttotal: 25m 54s\tremaining: 13m 44s\n",
      "98:\tlearn: 13.2155235\ttotal: 26m 11s\tremaining: 13m 29s\n",
      "99:\tlearn: 13.2108938\ttotal: 26m 27s\tremaining: 13m 13s\n",
      "100:\tlearn: 13.2060394\ttotal: 26m 48s\tremaining: 13m\n",
      "101:\tlearn: 13.1979171\ttotal: 27m 9s\tremaining: 12m 46s\n",
      "102:\tlearn: 13.1909102\ttotal: 27m 24s\tremaining: 12m 30s\n",
      "103:\tlearn: 13.1832462\ttotal: 27m 42s\tremaining: 12m 15s\n",
      "104:\tlearn: 13.1776850\ttotal: 28m 2s\tremaining: 12m\n",
      "105:\tlearn: 13.1678894\ttotal: 28m 19s\tremaining: 11m 45s\n",
      "106:\tlearn: 13.1610844\ttotal: 28m 34s\tremaining: 11m 29s\n",
      "107:\tlearn: 13.1546011\ttotal: 28m 51s\tremaining: 11m 13s\n",
      "108:\tlearn: 13.1431714\ttotal: 29m 9s\tremaining: 10m 58s\n",
      "109:\tlearn: 13.1376563\ttotal: 29m 23s\tremaining: 10m 41s\n",
      "110:\tlearn: 13.1323939\ttotal: 29m 39s\tremaining: 10m 25s\n",
      "111:\tlearn: 13.1219816\ttotal: 29m 59s\tremaining: 10m 10s\n",
      "112:\tlearn: 13.1127018\ttotal: 30m 18s\tremaining: 9m 55s\n",
      "113:\tlearn: 13.1080657\ttotal: 30m 33s\tremaining: 9m 38s\n",
      "114:\tlearn: 13.1031157\ttotal: 30m 50s\tremaining: 9m 23s\n",
      "115:\tlearn: 13.0883264\ttotal: 31m 8s\tremaining: 9m 7s\n",
      "116:\tlearn: 13.0820209\ttotal: 31m 25s\tremaining: 8m 51s\n",
      "117:\tlearn: 13.0687005\ttotal: 31m 42s\tremaining: 8m 35s\n",
      "118:\tlearn: 13.0579861\ttotal: 32m 1s\tremaining: 8m 20s\n",
      "119:\tlearn: 13.0535816\ttotal: 32m 19s\tremaining: 8m 4s\n",
      "120:\tlearn: 13.0424031\ttotal: 32m 36s\tremaining: 7m 48s\n",
      "121:\tlearn: 13.0358092\ttotal: 32m 52s\tremaining: 7m 32s\n",
      "122:\tlearn: 13.0326232\ttotal: 33m 7s\tremaining: 7m 16s\n",
      "123:\tlearn: 13.0225481\ttotal: 33m 19s\tremaining: 6m 59s\n",
      "124:\tlearn: 13.0083643\ttotal: 33m 35s\tremaining: 6m 43s\n",
      "125:\tlearn: 13.0038831\ttotal: 33m 49s\tremaining: 6m 26s\n",
      "126:\tlearn: 12.9924242\ttotal: 34m 2s\tremaining: 6m 9s\n",
      "127:\tlearn: 12.9896581\ttotal: 34m 18s\tremaining: 5m 53s\n",
      "128:\tlearn: 12.9852622\ttotal: 34m 37s\tremaining: 5m 38s\n",
      "129:\tlearn: 12.9814549\ttotal: 34m 54s\tremaining: 5m 22s\n",
      "130:\tlearn: 12.9768586\ttotal: 35m 9s\tremaining: 5m 5s\n",
      "131:\tlearn: 12.9734712\ttotal: 35m 24s\tremaining: 4m 49s\n",
      "132:\tlearn: 12.9677700\ttotal: 35m 37s\tremaining: 4m 33s\n",
      "133:\tlearn: 12.9648396\ttotal: 35m 50s\tremaining: 4m 16s\n",
      "134:\tlearn: 12.9600878\ttotal: 36m 3s\tremaining: 4m\n",
      "135:\tlearn: 12.9538905\ttotal: 36m 18s\tremaining: 3m 44s\n",
      "136:\tlearn: 12.9495678\ttotal: 36m 30s\tremaining: 3m 27s\n",
      "137:\tlearn: 12.9376385\ttotal: 36m 46s\tremaining: 3m 11s\n",
      "138:\tlearn: 12.9333189\ttotal: 36m 59s\tremaining: 2m 55s\n",
      "139:\tlearn: 12.9293333\ttotal: 37m 12s\tremaining: 2m 39s\n",
      "140:\tlearn: 12.9235645\ttotal: 37m 25s\tremaining: 2m 23s\n",
      "141:\tlearn: 12.9203619\ttotal: 37m 38s\tremaining: 2m 7s\n",
      "142:\tlearn: 12.9172341\ttotal: 37m 51s\tremaining: 1m 51s\n",
      "143:\tlearn: 12.9106277\ttotal: 38m 3s\tremaining: 1m 35s\n",
      "144:\tlearn: 12.9060348\ttotal: 38m 17s\tremaining: 1m 19s\n",
      "145:\tlearn: 12.8964408\ttotal: 38m 33s\tremaining: 1m 3s\n",
      "146:\tlearn: 12.8910218\ttotal: 38m 46s\tremaining: 47.5s\n",
      "147:\tlearn: 12.8839393\ttotal: 39m\tremaining: 31.6s\n",
      "148:\tlearn: 12.8772452\ttotal: 39m 19s\tremaining: 15.8s\n"
     ]
    },
    {
     "name": "stdout",
     "output_type": "stream",
     "text": [
      "149:\tlearn: 12.8736055\ttotal: 39m 35s\tremaining: 0us\n"
     ]
    },
    {
     "data": {
      "text/plain": [
       "<catboost.core.CatBoostRegressor at 0x1a2b1a5f60>"
      ]
     },
     "execution_count": 10,
     "metadata": {},
     "output_type": "execute_result"
    }
   ],
   "source": [
    "model = CatBoostRegressor(iterations=150, depth=16,learning_rate=0.1, one_hot_max_size=3)\n",
    "model.fit(train_pool)"
   ]
  },
  {
   "cell_type": "code",
   "execution_count": 11,
   "metadata": {},
   "outputs": [],
   "source": [
    "pred = model.predict(test_pool)\n",
    "pred[pred < 0] = 0"
   ]
  },
  {
   "cell_type": "markdown",
   "metadata": {},
   "source": [
    "Model parameters"
   ]
  },
  {
   "cell_type": "code",
   "execution_count": 12,
   "metadata": {},
   "outputs": [
    {
     "data": {
      "text/plain": [
       "{'depth': 16,\n",
       " 'iterations': 150,\n",
       " 'learning_rate': 0.1,\n",
       " 'loss_function': 'RMSE',\n",
       " 'one_hot_max_size': 3}"
      ]
     },
     "execution_count": 12,
     "metadata": {},
     "output_type": "execute_result"
    }
   ],
   "source": [
    "model.get_params()"
   ]
  },
  {
   "cell_type": "markdown",
   "metadata": {},
   "source": [
    "Feature importance weights and graph"
   ]
  },
  {
   "cell_type": "code",
   "execution_count": 13,
   "metadata": {},
   "outputs": [
    {
     "data": {
      "text/plain": [
       "[2.9824053467676577,\n",
       " 6.445509412321168,\n",
       " 1.4724269858247578,\n",
       " 0.9929479394959941,\n",
       " 1.3775110429641366,\n",
       " 1.6375924067660035,\n",
       " 1.0906341926309533,\n",
       " 7.723782794334793,\n",
       " 2.581476809433641,\n",
       " 1.9523377165822018,\n",
       " 1.7578876860301689,\n",
       " 29.424551763293945,\n",
       " 1.9861221309388912,\n",
       " 1.483522303280463,\n",
       " 1.7102043660752833,\n",
       " 1.9163580189335176,\n",
       " 8.513687832797228,\n",
       " 11.374071726944514,\n",
       " 13.576969524584687]"
      ]
     },
     "execution_count": 13,
     "metadata": {},
     "output_type": "execute_result"
    }
   ],
   "source": [
    "model.get_feature_importance()"
   ]
  },
  {
   "cell_type": "code",
   "execution_count": 14,
   "metadata": {},
   "outputs": [
    {
     "data": {
      "image/png": "[encoded data removed]",
      "text/plain": [
       "<matplotlib.figure.Figure at 0x1a2b1a0cc0>"
      ]
     },
     "metadata": {},
     "output_type": "display_data"
    }
   ],
   "source": [
    "import matplotlib.pyplot as plt\n",
    "%matplotlib inline\n",
    "feature_importance = model.feature_importances_\n",
    "feature_importance = 100.0 * (feature_importance / feature_importance.max())\n",
    "sorted_idx = np.argsort(feature_importance)\n",
    "pos = np.arange(sorted_idx.shape[0]) + .5\n",
    "plt.figure(figsize=(15,20))\n",
    "plt.subplot(1, 2, 2)\n",
    "plt.barh(pos, feature_importance[sorted_idx], align='center')\n",
    "plt.yticks(pos, X_train.columns[sorted_idx])\n",
    "plt.xlabel('Relative Importance')\n",
    "plt.title('Variable Importance')\n",
    "plt.show()"
   ]
  },
  {
   "cell_type": "markdown",
   "metadata": {},
   "source": [
    "Evaluation of model scores."
   ]
  },
  {
   "cell_type": "code",
   "execution_count": 15,
   "metadata": {},
   "outputs": [],
   "source": [
    "mae = mean_absolute_error(y_test,pred)\n",
    "mse = mean_squared_error(y_test,pred)\n",
    "rmse = model.score(test_pool, y_test)\n",
    "r2_score_value = r2_score(y_test,pred)"
   ]
  },
  {
   "cell_type": "code",
   "execution_count": 16,
   "metadata": {},
   "outputs": [
    {
     "name": "stdout",
     "output_type": "stream",
     "text": [
      "Mean absolute error:  10.576248562683313\n",
      "Mean squared error:  232.46961732049212\n",
      "Root squared eroor:  15.24704643372059\n",
      "Score of determination:  0.79349005011962\n"
     ]
    }
   ],
   "source": [
    "print ('Mean absolute error: ', str(mae))\n",
    "print ('Mean squared error: ', str(mse))\n",
    "print ('Root squared eroor: ', str(rmse))\n",
    "print ('Score of determination: ', str(r2_score_value))"
   ]
  },
  {
   "cell_type": "markdown",
   "metadata": {},
   "source": [
    "Storing model via pickle"
   ]
  },
  {
   "cell_type": "code",
   "execution_count": 83,
   "metadata": {},
   "outputs": [],
   "source": [
    "import pickle\n",
    "with open('model_catboost.pkl', 'wb') as f:\n",
    "    # Write the model to a file.\n",
    "    pickle.dump(model, f)\n"
   ]
  },
  {
   "cell_type": "markdown",
   "metadata": {},
   "source": [
    "Reading model via catboost method"
   ]
  },
  {
   "cell_type": "code",
   "execution_count": 60,
   "metadata": {},
   "outputs": [],
   "source": [
    "model_cbm = model.save_model('catboost_model_cbm.dump')"
   ]
  },
  {
   "cell_type": "code",
   "execution_count": null,
   "metadata": {},
   "outputs": [],
   "source": [
    "Loading models and prediciting values:"
   ]
  },
  {
   "cell_type": "code",
   "execution_count": null,
   "metadata": {
    "scrolled": true
   },
   "outputs": [],
   "source": [
    "loaded_model = pickle.load(open('model_catboost.pkl', 'rb'))  #from pickle file"
   ]
  },
  {
   "cell_type": "code",
   "execution_count": 86,
   "metadata": {},
   "outputs": [
    {
     "data": {
      "text/plain": [
       "array([18.22974696, 69.94062836,  8.03120294, ..., 14.59459362,\n",
       "        7.90667861, 13.21173939])"
      ]
     },
     "execution_count": 86,
     "metadata": {},
     "output_type": "execute_result"
    }
   ],
   "source": [
    "loaded_model.predict(test_pool)"
   ]
  },
  {
   "cell_type": "code",
   "execution_count": 69,
   "metadata": {},
   "outputs": [],
   "source": [
    "loaded_cat = model.load_model('catboost_model_cbm.dump');  #from catboost file"
   ]
  },
  {
   "cell_type": "code",
   "execution_count": 87,
   "metadata": {},
   "outputs": [
    {
     "data": {
      "text/plain": [
       "array([18.22974696, 69.94062836,  8.03120294, ..., 14.59459362,\n",
       "        7.90667861, 13.21173939])"
      ]
     },
     "execution_count": 87,
     "metadata": {},
     "output_type": "execute_result"
    }
   ],
   "source": [
    "loaded_cat.predict(test_pool)"
   ]
  },
  {
   "cell_type": "code",
   "execution_count": null,
   "metadata": {},
   "outputs": [],
   "source": []
  },
  {
   "cell_type": "code",
   "execution_count": null,
   "metadata": {},
   "outputs": [],
   "source": []
  },
  {
   "cell_type": "code",
   "execution_count": null,
   "metadata": {},
   "outputs": [],
   "source": []
  },
  {
   "cell_type": "code",
   "execution_count": null,
   "metadata": {},
   "outputs": [],
   "source": []
  }
 ],
 "metadata": {
  "kernelspec": {
   "display_name": "Python 3",
   "language": "python",
   "name": "python3"
  },
  "language_info": {
   "codemirror_mode": {
    "name": "ipython",
    "version": 3
   },
   "file_extension": ".py",
   "mimetype": "text/x-python",
   "name": "python",
   "nbconvert_exporter": "python",
   "pygments_lexer": "ipython3",
   "version": "3.6.5"
  }
 },
 "nbformat": 4,
 "nbformat_minor": 2
}
