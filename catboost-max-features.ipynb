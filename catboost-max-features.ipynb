{
 "cells": [
  {
   "cell_type": "code",
   "execution_count": 1,
   "metadata": {},
   "outputs": [],
   "source": [
    "%load_ext autoreload\n",
    "%autoreload 2\n",
    "\n",
    "import pandas as pd\n",
    "import numpy as np\n",
    "pd.set_option('display.max_columns', 999)"
   ]
  },
  {
   "cell_type": "code",
   "execution_count": 2,
   "metadata": {},
   "outputs": [],
   "source": [
    "from sklearn.model_selection import train_test_split\n",
    "from catboost import Pool, CatBoostRegressor"
   ]
  },
  {
   "cell_type": "code",
   "execution_count": 3,
   "metadata": {
    "scrolled": true
   },
   "outputs": [
    {
     "name": "stderr",
     "output_type": "stream",
     "text": [
      "/anaconda3/lib/python3.6/site-packages/IPython/core/interactiveshell.py:2728: DtypeWarning: Columns (19,25) have mixed types. Specify dtype option on import or set low_memory=False.\n",
      "  interactivity=interactivity, compiler=compiler, result=result)\n"
     ]
    }
   ],
   "source": [
    "df = pd.read_csv('Fire_Dep_Call_50%.csv')"
   ]
  },
  {
   "cell_type": "code",
   "execution_count": 4,
   "metadata": {},
   "outputs": [],
   "source": [
    "cols = ['Available DtTm', 'Response DtTm', 'Dispatch DtTm', 'Received DtTm']\n",
    "for col in cols:\n",
    "    df[col] = pd.to_datetime(df[col], format='%m/%d/%Y %I:%M:%S %p', infer_datetime_format=True)\n",
    "\n",
    "df['Respond to Available'] = df['Available DtTm'] - df['Response DtTm']\n",
    "df['Call to Dispatch'] = df['Dispatch DtTm'] - df['Received DtTm']\n",
    "\n",
    "time_cols = ['Respond to Available', 'Call to Dispatch']\n",
    "df[time_cols] = df[time_cols].applymap(lambda t: t.total_seconds())\n",
    "df[time_cols] = df[time_cols].applymap(lambda x: max(x,0))"
   ]
  },
  {
   "cell_type": "code",
   "execution_count": 5,
   "metadata": {},
   "outputs": [],
   "source": [
    "df['Month'] = df['Received DtTm'].dt.month\n",
    "df['WeekDay'] = df['Received DtTm'].dt.weekday\n",
    "df['Weekofyear'] = df['Received DtTm'].dt.weekofyear\n",
    "df['Hours'] = df['Received DtTm'].dt.hour\n",
    "df['Minutes'] = df['Received DtTm'].dt.minute\n",
    "\n",
    "#---------added----------columns for hospital or transport\n",
    "df['Hospital or Transport'] = (~(df['Transport DtTm'].isna() & df['Hospital DtTm'].isna())).astype('int')"
   ]
  },
  {
   "cell_type": "code",
   "execution_count": 6,
   "metadata": {},
   "outputs": [],
   "source": [
    "def fill_na(df):\n",
    "    q = df['Original Priority'].value_counts(normalize=True) #counts share of valeus in col w/o N/A\n",
    "    orig_prio_list = q.index.tolist()  #makes indeces(priorities types) to a list\n",
    "    orig_prio_shares = q.tolist() #makes values of shares a list\n",
    "    df['Original Priority'] = df['Original Priority'].fillna(pd.Series(np.random.choice(orig_prio_list, p=orig_prio_shares, size=len(df))))\n",
    "\n",
    "    w = df['Call Type Group'].value_counts(normalize=True) #counts share of values in col w/o N/A\n",
    "    call_types_list = w.index.tolist()  #makes indeces(priorities types) to a list\n",
    "    call_types_shares = w.tolist() #makes values of shares a list\n",
    "    df['Call Type Group'] = df['Call Type Group'].fillna(pd.Series(np.random.choice(call_types_list, p=call_types_shares, size=len(df))))\n",
    "    \n",
    "fill_na(df)\n",
    "\n",
    "if((df['Zipcode of Incident'].nunique()) <= (df['Neighborhooods - Analysis Boundaries'].nunique())):\n",
    "    zipcodes = df[['Neighborhooods - Analysis Boundaries','Zipcode of Incident']]\n",
    "    zipcodes = zipcodes[zipcodes['Zipcode of Incident'].notnull()]\n",
    "    zips= list(zipcodes['Zipcode of Incident'].values)\n",
    "    nbhds= list(zipcodes['Neighborhooods - Analysis Boundaries'].values)\n",
    "    if len(zips) == len(nbhds):\n",
    "        zipcodes_dict=dict(zip(nbhds,zips))\n",
    "\n",
    "    else: \n",
    "        print('Count unique zipcodes != count neighborhooods, something went wrong.')\n",
    "else:\n",
    "    print('More zipcodes than neighborhooods, we need new strategy!')\n",
    "\n",
    "df['Zipcode of Incident'] = df['Zipcode of Incident'].fillna(df['Neighborhooods - Analysis Boundaries'].map(zipcodes_dict))\n",
    "df['Zipcode of Incident'] = df['Zipcode of Incident'].astype(int)"
   ]
  },
  {
   "cell_type": "code",
   "execution_count": 101,
   "metadata": {},
   "outputs": [],
   "source": [
    "#only not null, not zero and less that 10 hours to solve\n",
    "df = df[(df['Respond to Available'].notnull()) & (df['Respond to Available'] <= 36000) & (df['Respond to Available']!=0)]"
   ]
  },
  {
   "cell_type": "code",
   "execution_count": 102,
   "metadata": {},
   "outputs": [],
   "source": [
    "#------cancelled dropping of 'Call to Dispatch','Minutes','Month', 'WeekDay', 'Call Type', \n",
    "df1 = df.drop(columns=['Call Number','Unit ID', 'Incident Number', 'Call Type Group', 'Call Date', 'Watch Date', \n",
    "                      'Received DtTm', 'Entry DtTm', 'Dispatch DtTm','Response DtTm', 'On Scene DtTm',\n",
    "                      'Transport DtTm','Hospital DtTm', 'Call Final Disposition', 'Available DtTm', 'Minutes',\n",
    "                      'Supervisor District', 'Neighborhooods - Analysis Boundaries', 'Original Priority',\n",
    "                      'Address', 'City', 'Priority', 'Final Priority',  'Location', 'Month', 'WeekDay', 'Weekofyear',  \n",
    "                      'RowID', 'Battalion', 'ALS Unit', 'Fire Prevention District'], errors='ignore')"
   ]
  },
  {
   "cell_type": "code",
   "execution_count": 103,
   "metadata": {},
   "outputs": [],
   "source": [
    "df1 = df1.dropna(how='any') "
   ]
  },
  {
   "cell_type": "code",
   "execution_count": 105,
   "metadata": {},
   "outputs": [],
   "source": [
    "y = df1['Respond to Available']\n",
    "X = df1.drop(columns=['Respond to Available'])\n",
    "X_train, X_test, y_train, y_test = train_test_split(X, y, test_size=0.3, shuffle=False)"
   ]
  },
  {
   "cell_type": "code",
   "execution_count": 106,
   "metadata": {},
   "outputs": [
    {
     "name": "stdout",
     "output_type": "stream",
     "text": [
      "<class 'pandas.core.frame.DataFrame'>\n",
      "Int64Index: 1432349 entries, 1 to 1650123\n",
      "Data columns (total 10 columns):\n",
      "Call Type                         1432349 non-null object\n",
      "Zipcode of Incident               1432349 non-null int64\n",
      "Station Area                      1432349 non-null object\n",
      "Box                               1432349 non-null float64\n",
      "Number of Alarms                  1432349 non-null int64\n",
      "Unit Type                         1432349 non-null object\n",
      "Unit sequence in call dispatch    1432349 non-null int64\n",
      "Call to Dispatch                  1432349 non-null float64\n",
      "Hours                             1432349 non-null int64\n",
      "Hospital or Transport             1432349 non-null int64\n",
      "dtypes: float64(2), int64(5), object(3)\n",
      "memory usage: 120.2+ MB\n"
     ]
    }
   ],
   "source": [
    "X_train.info()"
   ]
  },
  {
   "cell_type": "code",
   "execution_count": 107,
   "metadata": {},
   "outputs": [],
   "source": [
    "cat_features=[\n",
    "    0,\n",
    "    2,\n",
    "    5\n",
    "]"
   ]
  },
  {
   "cell_type": "code",
   "execution_count": 108,
   "metadata": {},
   "outputs": [],
   "source": [
    "train_pool = Pool(X_train, y_train, cat_features=cat_features)\n",
    "test_pool = Pool(X_test, cat_features=cat_features)"
   ]
  },
  {
   "cell_type": "code",
   "execution_count": 109,
   "metadata": {},
   "outputs": [
    {
     "name": "stdout",
     "output_type": "stream",
     "text": [
      "0:\tlearn: 2095.4339496\ttotal: 956ms\tremaining: 4m 45s\n",
      "1:\tlearn: 2021.9027443\ttotal: 1.79s\tremaining: 4m 26s\n",
      "2:\tlearn: 1953.1399567\ttotal: 2.6s\tremaining: 4m 17s\n",
      "3:\tlearn: 1888.9184846\ttotal: 3.11s\tremaining: 3m 50s\n",
      "4:\tlearn: 1829.0197027\ttotal: 3.57s\tremaining: 3m 30s\n",
      "5:\tlearn: 1771.5997317\ttotal: 4.23s\tremaining: 3m 27s\n",
      "6:\tlearn: 1718.1285201\ttotal: 4.87s\tremaining: 3m 23s\n",
      "7:\tlearn: 1668.3736767\ttotal: 5.53s\tremaining: 3m 21s\n",
      "8:\tlearn: 1622.1680543\ttotal: 6.21s\tremaining: 3m 20s\n",
      "9:\tlearn: 1579.4009023\ttotal: 6.91s\tremaining: 3m 20s\n",
      "10:\tlearn: 1539.6196220\ttotal: 7.48s\tremaining: 3m 16s\n",
      "11:\tlearn: 1502.8172124\ttotal: 8s\tremaining: 3m 12s\n",
      "12:\tlearn: 1468.8949324\ttotal: 8.65s\tremaining: 3m 10s\n",
      "13:\tlearn: 1437.4354289\ttotal: 9.23s\tremaining: 3m 8s\n",
      "14:\tlearn: 1408.4230978\ttotal: 9.75s\tremaining: 3m 5s\n",
      "15:\tlearn: 1381.8169979\ttotal: 10.3s\tremaining: 3m 2s\n",
      "16:\tlearn: 1357.1725705\ttotal: 10.9s\tremaining: 3m\n",
      "17:\tlearn: 1334.6621738\ttotal: 11.4s\tremaining: 2m 58s\n",
      "18:\tlearn: 1313.8620663\ttotal: 12s\tremaining: 2m 57s\n",
      "19:\tlearn: 1294.7587390\ttotal: 12.6s\tremaining: 2m 56s\n",
      "20:\tlearn: 1277.3551363\ttotal: 13.1s\tremaining: 2m 54s\n",
      "21:\tlearn: 1261.4330701\ttotal: 13.6s\tremaining: 2m 52s\n",
      "22:\tlearn: 1246.7654928\ttotal: 14.2s\tremaining: 2m 51s\n",
      "23:\tlearn: 1233.3442337\ttotal: 14.8s\tremaining: 2m 50s\n",
      "24:\tlearn: 1221.0556656\ttotal: 15.7s\tremaining: 2m 52s\n",
      "25:\tlearn: 1209.7343198\ttotal: 16.3s\tremaining: 2m 51s\n",
      "26:\tlearn: 1199.4286847\ttotal: 16.9s\tremaining: 2m 51s\n",
      "27:\tlearn: 1190.1190984\ttotal: 17.7s\tremaining: 2m 52s\n",
      "28:\tlearn: 1181.6323746\ttotal: 18.4s\tremaining: 2m 52s\n",
      "29:\tlearn: 1173.5163111\ttotal: 19.1s\tremaining: 2m 51s\n",
      "30:\tlearn: 1166.3150947\ttotal: 20.1s\tremaining: 2m 54s\n",
      "31:\tlearn: 1159.5379269\ttotal: 20.7s\tremaining: 2m 53s\n",
      "32:\tlearn: 1153.3659227\ttotal: 21.7s\tremaining: 2m 55s\n",
      "33:\tlearn: 1147.8697796\ttotal: 22.6s\tremaining: 2m 56s\n",
      "34:\tlearn: 1142.8255132\ttotal: 23.3s\tremaining: 2m 56s\n",
      "35:\tlearn: 1138.1844321\ttotal: 24s\tremaining: 2m 56s\n",
      "36:\tlearn: 1133.8639806\ttotal: 24.6s\tremaining: 2m 54s\n",
      "37:\tlearn: 1130.1162309\ttotal: 25.2s\tremaining: 2m 53s\n",
      "38:\tlearn: 1126.6983376\ttotal: 25.7s\tremaining: 2m 52s\n",
      "39:\tlearn: 1123.4749493\ttotal: 26.3s\tremaining: 2m 51s\n",
      "40:\tlearn: 1120.3172504\ttotal: 26.9s\tremaining: 2m 49s\n",
      "41:\tlearn: 1117.1179803\ttotal: 27.6s\tremaining: 2m 49s\n",
      "42:\tlearn: 1114.2629238\ttotal: 28.1s\tremaining: 2m 47s\n",
      "43:\tlearn: 1111.2939982\ttotal: 28.8s\tremaining: 2m 47s\n",
      "44:\tlearn: 1108.6410688\ttotal: 29.4s\tremaining: 2m 46s\n",
      "45:\tlearn: 1106.1070854\ttotal: 30s\tremaining: 2m 45s\n",
      "46:\tlearn: 1104.1329999\ttotal: 30.6s\tremaining: 2m 44s\n",
      "47:\tlearn: 1101.9722654\ttotal: 31.2s\tremaining: 2m 43s\n",
      "48:\tlearn: 1100.0954470\ttotal: 31.9s\tremaining: 2m 43s\n",
      "49:\tlearn: 1098.2838259\ttotal: 32.5s\tremaining: 2m 42s\n",
      "50:\tlearn: 1096.8784123\ttotal: 33.1s\tremaining: 2m 41s\n",
      "51:\tlearn: 1095.4165320\ttotal: 33.7s\tremaining: 2m 40s\n",
      "52:\tlearn: 1094.2859711\ttotal: 34.3s\tremaining: 2m 39s\n",
      "53:\tlearn: 1092.8957548\ttotal: 34.9s\tremaining: 2m 38s\n",
      "54:\tlearn: 1091.6799909\ttotal: 35.5s\tremaining: 2m 38s\n",
      "55:\tlearn: 1090.6465172\ttotal: 36.1s\tremaining: 2m 37s\n",
      "56:\tlearn: 1089.4282729\ttotal: 37s\tremaining: 2m 37s\n",
      "57:\tlearn: 1088.3559301\ttotal: 37.7s\tremaining: 2m 37s\n",
      "58:\tlearn: 1087.3709575\ttotal: 38.4s\tremaining: 2m 36s\n",
      "59:\tlearn: 1086.6033704\ttotal: 39s\tremaining: 2m 36s\n",
      "60:\tlearn: 1085.8208566\ttotal: 39.8s\tremaining: 2m 35s\n",
      "61:\tlearn: 1084.9600496\ttotal: 40.4s\tremaining: 2m 35s\n",
      "62:\tlearn: 1084.1455163\ttotal: 41.1s\tremaining: 2m 34s\n",
      "63:\tlearn: 1083.3468524\ttotal: 41.9s\tremaining: 2m 34s\n",
      "64:\tlearn: 1082.4281672\ttotal: 42.5s\tremaining: 2m 33s\n",
      "65:\tlearn: 1081.7486507\ttotal: 43.1s\tremaining: 2m 32s\n",
      "66:\tlearn: 1081.0644215\ttotal: 43.7s\tremaining: 2m 31s\n",
      "67:\tlearn: 1080.4650743\ttotal: 44.3s\tremaining: 2m 31s\n",
      "68:\tlearn: 1079.7839643\ttotal: 45s\tremaining: 2m 30s\n",
      "69:\tlearn: 1079.1150462\ttotal: 45.7s\tremaining: 2m 30s\n",
      "70:\tlearn: 1078.6490335\ttotal: 46.2s\tremaining: 2m 29s\n",
      "71:\tlearn: 1077.9772903\ttotal: 46.9s\tremaining: 2m 28s\n",
      "72:\tlearn: 1077.5648592\ttotal: 47.5s\tremaining: 2m 27s\n",
      "73:\tlearn: 1077.1569075\ttotal: 48.1s\tremaining: 2m 26s\n",
      "74:\tlearn: 1076.6630922\ttotal: 48.8s\tremaining: 2m 26s\n",
      "75:\tlearn: 1076.1823535\ttotal: 49.3s\tremaining: 2m 25s\n",
      "76:\tlearn: 1075.7787706\ttotal: 50s\tremaining: 2m 24s\n",
      "77:\tlearn: 1075.3514044\ttotal: 50.6s\tremaining: 2m 23s\n",
      "78:\tlearn: 1074.8795963\ttotal: 51.1s\tremaining: 2m 23s\n",
      "79:\tlearn: 1074.5381025\ttotal: 51.8s\tremaining: 2m 22s\n",
      "80:\tlearn: 1074.1602417\ttotal: 52.5s\tremaining: 2m 22s\n",
      "81:\tlearn: 1073.8393016\ttotal: 53.2s\tremaining: 2m 21s\n",
      "82:\tlearn: 1073.1917656\ttotal: 53.8s\tremaining: 2m 20s\n",
      "83:\tlearn: 1072.9176527\ttotal: 54.4s\tremaining: 2m 19s\n",
      "84:\tlearn: 1072.3143532\ttotal: 54.9s\tremaining: 2m 18s\n",
      "85:\tlearn: 1071.9876880\ttotal: 55.7s\tremaining: 2m 18s\n",
      "86:\tlearn: 1071.6116922\ttotal: 56.4s\tremaining: 2m 18s\n",
      "87:\tlearn: 1071.2533205\ttotal: 57.4s\tremaining: 2m 18s\n",
      "88:\tlearn: 1070.9332540\ttotal: 58.1s\tremaining: 2m 17s\n",
      "89:\tlearn: 1070.7235823\ttotal: 58.9s\tremaining: 2m 17s\n",
      "90:\tlearn: 1070.5083647\ttotal: 59.8s\tremaining: 2m 17s\n",
      "91:\tlearn: 1070.2612678\ttotal: 1m\tremaining: 2m 16s\n",
      "92:\tlearn: 1069.9663535\ttotal: 1m 1s\tremaining: 2m 17s\n",
      "93:\tlearn: 1069.6978546\ttotal: 1m 2s\tremaining: 2m 17s\n",
      "94:\tlearn: 1069.4072457\ttotal: 1m 3s\tremaining: 2m 16s\n",
      "95:\tlearn: 1069.1138328\ttotal: 1m 4s\tremaining: 2m 16s\n",
      "96:\tlearn: 1068.9146157\ttotal: 1m 4s\tremaining: 2m 15s\n",
      "97:\tlearn: 1068.7165704\ttotal: 1m 5s\tremaining: 2m 15s\n",
      "98:\tlearn: 1068.5400765\ttotal: 1m 6s\tremaining: 2m 14s\n",
      "99:\tlearn: 1068.3287085\ttotal: 1m 6s\tremaining: 2m 13s\n",
      "100:\tlearn: 1067.8234220\ttotal: 1m 7s\tremaining: 2m 13s\n",
      "101:\tlearn: 1067.6452213\ttotal: 1m 8s\tremaining: 2m 12s\n",
      "102:\tlearn: 1067.3164686\ttotal: 1m 9s\tremaining: 2m 11s\n",
      "103:\tlearn: 1066.9681454\ttotal: 1m 9s\tremaining: 2m 11s\n",
      "104:\tlearn: 1066.7549292\ttotal: 1m 10s\tremaining: 2m 11s\n",
      "105:\tlearn: 1066.6240880\ttotal: 1m 11s\tremaining: 2m 11s\n",
      "106:\tlearn: 1066.3625040\ttotal: 1m 12s\tremaining: 2m 11s\n",
      "107:\tlearn: 1066.1549281\ttotal: 1m 13s\tremaining: 2m 11s\n",
      "108:\tlearn: 1065.8955362\ttotal: 1m 14s\tremaining: 2m 10s\n",
      "109:\tlearn: 1065.5764469\ttotal: 1m 15s\tremaining: 2m 9s\n",
      "110:\tlearn: 1065.3244290\ttotal: 1m 16s\tremaining: 2m 10s\n",
      "111:\tlearn: 1065.1479449\ttotal: 1m 17s\tremaining: 2m 10s\n",
      "112:\tlearn: 1064.9274519\ttotal: 1m 18s\tremaining: 2m 10s\n",
      "113:\tlearn: 1064.7391400\ttotal: 1m 19s\tremaining: 2m 10s\n",
      "114:\tlearn: 1064.5188074\ttotal: 1m 20s\tremaining: 2m 10s\n",
      "115:\tlearn: 1064.2225114\ttotal: 1m 21s\tremaining: 2m 9s\n",
      "116:\tlearn: 1063.9618770\ttotal: 1m 22s\tremaining: 2m 9s\n",
      "117:\tlearn: 1063.6614495\ttotal: 1m 23s\tremaining: 2m 8s\n",
      "118:\tlearn: 1063.5122300\ttotal: 1m 24s\tremaining: 2m 7s\n",
      "119:\tlearn: 1063.3715680\ttotal: 1m 24s\tremaining: 2m 7s\n",
      "120:\tlearn: 1063.0928516\ttotal: 1m 25s\tremaining: 2m 6s\n",
      "121:\tlearn: 1062.6787818\ttotal: 1m 26s\tremaining: 2m 6s\n",
      "122:\tlearn: 1062.4808687\ttotal: 1m 27s\tremaining: 2m 5s\n",
      "123:\tlearn: 1062.1841246\ttotal: 1m 28s\tremaining: 2m 5s\n",
      "124:\tlearn: 1062.0268063\ttotal: 1m 28s\tremaining: 2m 4s\n",
      "125:\tlearn: 1061.8090391\ttotal: 1m 29s\tremaining: 2m 3s\n",
      "126:\tlearn: 1061.5308056\ttotal: 1m 30s\tremaining: 2m 3s\n",
      "127:\tlearn: 1061.3085714\ttotal: 1m 31s\tremaining: 2m 2s\n",
      "128:\tlearn: 1060.9726228\ttotal: 1m 32s\tremaining: 2m 1s\n",
      "129:\tlearn: 1060.8744008\ttotal: 1m 32s\tremaining: 2m 1s\n",
      "130:\tlearn: 1060.5184098\ttotal: 1m 33s\tremaining: 2m\n",
      "131:\tlearn: 1060.3462669\ttotal: 1m 34s\tremaining: 2m\n",
      "132:\tlearn: 1060.2340112\ttotal: 1m 35s\tremaining: 1m 59s\n",
      "133:\tlearn: 1060.0227773\ttotal: 1m 35s\tremaining: 1m 58s\n",
      "134:\tlearn: 1059.8663487\ttotal: 1m 36s\tremaining: 1m 58s\n",
      "135:\tlearn: 1059.7256059\ttotal: 1m 37s\tremaining: 1m 57s\n",
      "136:\tlearn: 1059.5107626\ttotal: 1m 38s\tremaining: 1m 56s\n",
      "137:\tlearn: 1059.3356355\ttotal: 1m 38s\tremaining: 1m 56s\n",
      "138:\tlearn: 1059.1524355\ttotal: 1m 39s\tremaining: 1m 55s\n",
      "139:\tlearn: 1059.0613158\ttotal: 1m 40s\tremaining: 1m 54s\n",
      "140:\tlearn: 1058.8852454\ttotal: 1m 41s\tremaining: 1m 54s\n",
      "141:\tlearn: 1058.7700970\ttotal: 1m 42s\tremaining: 1m 53s\n",
      "142:\tlearn: 1058.6309878\ttotal: 1m 42s\tremaining: 1m 52s\n",
      "143:\tlearn: 1058.5079487\ttotal: 1m 43s\tremaining: 1m 52s\n",
      "144:\tlearn: 1058.3567801\ttotal: 1m 44s\tremaining: 1m 51s\n",
      "145:\tlearn: 1058.2376783\ttotal: 1m 45s\tremaining: 1m 50s\n",
      "146:\tlearn: 1058.0045819\ttotal: 1m 45s\tremaining: 1m 50s\n",
      "147:\tlearn: 1057.9114841\ttotal: 1m 46s\tremaining: 1m 49s\n",
      "148:\tlearn: 1057.8334477\ttotal: 1m 47s\tremaining: 1m 48s\n"
     ]
    },
    {
     "name": "stdout",
     "output_type": "stream",
     "text": [
      "149:\tlearn: 1057.7760811\ttotal: 1m 48s\tremaining: 1m 48s\n",
      "150:\tlearn: 1057.7133464\ttotal: 1m 48s\tremaining: 1m 47s\n",
      "151:\tlearn: 1057.6073244\ttotal: 1m 49s\tremaining: 1m 46s\n",
      "152:\tlearn: 1057.4740547\ttotal: 1m 50s\tremaining: 1m 45s\n",
      "153:\tlearn: 1057.3857222\ttotal: 1m 50s\tremaining: 1m 45s\n",
      "154:\tlearn: 1057.3077091\ttotal: 1m 51s\tremaining: 1m 44s\n",
      "155:\tlearn: 1057.2350574\ttotal: 1m 52s\tremaining: 1m 43s\n",
      "156:\tlearn: 1057.1673959\ttotal: 1m 52s\tremaining: 1m 42s\n",
      "157:\tlearn: 1057.1185122\ttotal: 1m 53s\tremaining: 1m 42s\n",
      "158:\tlearn: 1057.0105220\ttotal: 1m 54s\tremaining: 1m 41s\n",
      "159:\tlearn: 1056.8007306\ttotal: 1m 55s\tremaining: 1m 40s\n",
      "160:\tlearn: 1056.6840059\ttotal: 1m 55s\tremaining: 1m 40s\n",
      "161:\tlearn: 1056.5946959\ttotal: 1m 56s\tremaining: 1m 39s\n",
      "162:\tlearn: 1056.3077800\ttotal: 1m 57s\tremaining: 1m 38s\n",
      "163:\tlearn: 1056.1778354\ttotal: 1m 58s\tremaining: 1m 37s\n",
      "164:\tlearn: 1056.0138408\ttotal: 1m 58s\tremaining: 1m 37s\n",
      "165:\tlearn: 1055.8357491\ttotal: 1m 59s\tremaining: 1m 36s\n",
      "166:\tlearn: 1055.7688647\ttotal: 2m\tremaining: 1m 35s\n",
      "167:\tlearn: 1055.6587578\ttotal: 2m 1s\tremaining: 1m 35s\n",
      "168:\tlearn: 1055.4504954\ttotal: 2m 1s\tremaining: 1m 34s\n",
      "169:\tlearn: 1055.3771268\ttotal: 2m 2s\tremaining: 1m 33s\n",
      "170:\tlearn: 1055.2627076\ttotal: 2m 3s\tremaining: 1m 32s\n",
      "171:\tlearn: 1055.2092031\ttotal: 2m 3s\tremaining: 1m 32s\n",
      "172:\tlearn: 1055.1231714\ttotal: 2m 4s\tremaining: 1m 31s\n",
      "173:\tlearn: 1054.9598711\ttotal: 2m 5s\tremaining: 1m 30s\n",
      "174:\tlearn: 1054.9065460\ttotal: 2m 6s\tremaining: 1m 30s\n",
      "175:\tlearn: 1054.8231185\ttotal: 2m 6s\tremaining: 1m 29s\n",
      "176:\tlearn: 1054.7367820\ttotal: 2m 7s\tremaining: 1m 28s\n",
      "177:\tlearn: 1054.6688854\ttotal: 2m 8s\tremaining: 1m 27s\n",
      "178:\tlearn: 1054.5444264\ttotal: 2m 8s\tremaining: 1m 27s\n",
      "179:\tlearn: 1054.4960460\ttotal: 2m 9s\tremaining: 1m 26s\n",
      "180:\tlearn: 1054.3121948\ttotal: 2m 10s\tremaining: 1m 25s\n",
      "181:\tlearn: 1054.2806205\ttotal: 2m 11s\tremaining: 1m 25s\n",
      "182:\tlearn: 1054.1122404\ttotal: 2m 12s\tremaining: 1m 24s\n",
      "183:\tlearn: 1054.0028596\ttotal: 2m 13s\tremaining: 1m 24s\n",
      "184:\tlearn: 1053.9236166\ttotal: 2m 14s\tremaining: 1m 23s\n",
      "185:\tlearn: 1053.7923672\ttotal: 2m 15s\tremaining: 1m 23s\n",
      "186:\tlearn: 1053.6873097\ttotal: 2m 16s\tremaining: 1m 22s\n",
      "187:\tlearn: 1053.5464847\ttotal: 2m 17s\tremaining: 1m 21s\n",
      "188:\tlearn: 1053.4721116\ttotal: 2m 17s\tremaining: 1m 21s\n",
      "189:\tlearn: 1053.3626205\ttotal: 2m 18s\tremaining: 1m 20s\n",
      "190:\tlearn: 1053.3168544\ttotal: 2m 19s\tremaining: 1m 19s\n",
      "191:\tlearn: 1053.2449866\ttotal: 2m 21s\tremaining: 1m 19s\n",
      "192:\tlearn: 1053.1563316\ttotal: 2m 21s\tremaining: 1m 18s\n",
      "193:\tlearn: 1053.1092723\ttotal: 2m 22s\tremaining: 1m 17s\n",
      "194:\tlearn: 1053.0301889\ttotal: 2m 23s\tremaining: 1m 17s\n",
      "195:\tlearn: 1052.9909393\ttotal: 2m 24s\tremaining: 1m 16s\n",
      "196:\tlearn: 1052.8632722\ttotal: 2m 25s\tremaining: 1m 16s\n",
      "197:\tlearn: 1052.7061065\ttotal: 2m 26s\tremaining: 1m 15s\n",
      "198:\tlearn: 1052.6261766\ttotal: 2m 27s\tremaining: 1m 14s\n",
      "199:\tlearn: 1052.5398152\ttotal: 2m 28s\tremaining: 1m 14s\n",
      "200:\tlearn: 1052.4883255\ttotal: 2m 29s\tremaining: 1m 13s\n",
      "201:\tlearn: 1052.4305398\ttotal: 2m 29s\tremaining: 1m 12s\n",
      "202:\tlearn: 1052.2802797\ttotal: 2m 30s\tremaining: 1m 11s\n",
      "203:\tlearn: 1052.1554765\ttotal: 2m 31s\tremaining: 1m 11s\n",
      "204:\tlearn: 1052.0565833\ttotal: 2m 31s\tremaining: 1m 10s\n",
      "205:\tlearn: 1051.9637632\ttotal: 2m 32s\tremaining: 1m 9s\n",
      "206:\tlearn: 1051.8900012\ttotal: 2m 33s\tremaining: 1m 8s\n",
      "207:\tlearn: 1051.8492169\ttotal: 2m 34s\tremaining: 1m 8s\n",
      "208:\tlearn: 1051.8166221\ttotal: 2m 34s\tremaining: 1m 7s\n",
      "209:\tlearn: 1051.6850478\ttotal: 2m 35s\tremaining: 1m 6s\n",
      "210:\tlearn: 1051.6554142\ttotal: 2m 36s\tremaining: 1m 5s\n",
      "211:\tlearn: 1051.5297640\ttotal: 2m 36s\tremaining: 1m 5s\n",
      "212:\tlearn: 1051.3076223\ttotal: 2m 37s\tremaining: 1m 4s\n",
      "213:\tlearn: 1051.2036566\ttotal: 2m 38s\tremaining: 1m 3s\n",
      "214:\tlearn: 1051.1686795\ttotal: 2m 39s\tremaining: 1m 2s\n",
      "215:\tlearn: 1051.1028841\ttotal: 2m 40s\tremaining: 1m 2s\n",
      "216:\tlearn: 1051.0426370\ttotal: 2m 41s\tremaining: 1m 1s\n",
      "217:\tlearn: 1050.9792022\ttotal: 2m 42s\tremaining: 1m\n",
      "218:\tlearn: 1050.8499747\ttotal: 2m 42s\tremaining: 1m\n",
      "219:\tlearn: 1050.8286595\ttotal: 2m 43s\tremaining: 59.4s\n",
      "220:\tlearn: 1050.7894793\ttotal: 2m 44s\tremaining: 58.7s\n",
      "221:\tlearn: 1050.7091247\ttotal: 2m 44s\tremaining: 57.9s\n",
      "222:\tlearn: 1050.6804219\ttotal: 2m 45s\tremaining: 57.1s\n",
      "223:\tlearn: 1050.6489943\ttotal: 2m 46s\tremaining: 56.3s\n",
      "224:\tlearn: 1050.5760582\ttotal: 2m 46s\tremaining: 55.6s\n",
      "225:\tlearn: 1050.5142182\ttotal: 2m 47s\tremaining: 54.9s\n",
      "226:\tlearn: 1050.4750294\ttotal: 2m 48s\tremaining: 54.1s\n",
      "227:\tlearn: 1050.3800461\ttotal: 2m 49s\tremaining: 53.4s\n",
      "228:\tlearn: 1050.3341945\ttotal: 2m 49s\tremaining: 52.6s\n",
      "229:\tlearn: 1050.2643228\ttotal: 2m 50s\tremaining: 51.8s\n",
      "230:\tlearn: 1050.2135093\ttotal: 2m 50s\tremaining: 51.1s\n",
      "231:\tlearn: 1050.1514895\ttotal: 2m 51s\tremaining: 50.3s\n",
      "232:\tlearn: 1050.1290771\ttotal: 2m 52s\tremaining: 49.6s\n",
      "233:\tlearn: 1050.1083020\ttotal: 2m 53s\tremaining: 48.8s\n",
      "234:\tlearn: 1050.0084861\ttotal: 2m 53s\tremaining: 48.1s\n",
      "235:\tlearn: 1049.9436001\ttotal: 2m 54s\tremaining: 47.3s\n",
      "236:\tlearn: 1049.8425129\ttotal: 2m 55s\tremaining: 46.6s\n",
      "237:\tlearn: 1049.7996495\ttotal: 2m 55s\tremaining: 45.8s\n",
      "238:\tlearn: 1049.7758798\ttotal: 2m 56s\tremaining: 45.1s\n",
      "239:\tlearn: 1049.7534228\ttotal: 2m 57s\tremaining: 44.3s\n",
      "240:\tlearn: 1049.7275230\ttotal: 2m 58s\tremaining: 43.6s\n",
      "241:\tlearn: 1049.6949150\ttotal: 2m 58s\tremaining: 42.9s\n",
      "242:\tlearn: 1049.6008518\ttotal: 2m 59s\tremaining: 42.1s\n",
      "243:\tlearn: 1049.4798122\ttotal: 3m\tremaining: 41.4s\n",
      "244:\tlearn: 1049.4380099\ttotal: 3m 1s\tremaining: 40.6s\n",
      "245:\tlearn: 1049.3808989\ttotal: 3m 1s\tremaining: 39.9s\n",
      "246:\tlearn: 1049.3329043\ttotal: 3m 2s\tremaining: 39.2s\n",
      "247:\tlearn: 1049.2158912\ttotal: 3m 3s\tremaining: 38.4s\n",
      "248:\tlearn: 1049.1072973\ttotal: 3m 3s\tremaining: 37.7s\n",
      "249:\tlearn: 1049.0656922\ttotal: 3m 4s\tremaining: 36.9s\n",
      "250:\tlearn: 1048.9909868\ttotal: 3m 5s\tremaining: 36.1s\n",
      "251:\tlearn: 1048.8782635\ttotal: 3m 5s\tremaining: 35.4s\n",
      "252:\tlearn: 1048.8203205\ttotal: 3m 6s\tremaining: 34.6s\n",
      "253:\tlearn: 1048.7750743\ttotal: 3m 7s\tremaining: 33.9s\n",
      "254:\tlearn: 1048.7114480\ttotal: 3m 7s\tremaining: 33.2s\n",
      "255:\tlearn: 1048.6838111\ttotal: 3m 8s\tremaining: 32.4s\n",
      "256:\tlearn: 1048.6425772\ttotal: 3m 9s\tremaining: 31.7s\n",
      "257:\tlearn: 1048.6355884\ttotal: 3m 10s\tremaining: 30.9s\n",
      "258:\tlearn: 1048.5556104\ttotal: 3m 10s\tremaining: 30.2s\n",
      "259:\tlearn: 1048.4749932\ttotal: 3m 11s\tremaining: 29.5s\n",
      "260:\tlearn: 1048.4001958\ttotal: 3m 12s\tremaining: 28.7s\n",
      "261:\tlearn: 1048.3673358\ttotal: 3m 12s\tremaining: 28s\n",
      "262:\tlearn: 1048.3181116\ttotal: 3m 13s\tremaining: 27.2s\n",
      "263:\tlearn: 1048.1763673\ttotal: 3m 14s\tremaining: 26.5s\n",
      "264:\tlearn: 1048.1139688\ttotal: 3m 15s\tremaining: 25.8s\n",
      "265:\tlearn: 1048.0067148\ttotal: 3m 15s\tremaining: 25s\n",
      "266:\tlearn: 1047.9837732\ttotal: 3m 16s\tremaining: 24.3s\n",
      "267:\tlearn: 1047.9339978\ttotal: 3m 17s\tremaining: 23.5s\n",
      "268:\tlearn: 1047.7913982\ttotal: 3m 17s\tremaining: 22.8s\n",
      "269:\tlearn: 1047.7610365\ttotal: 3m 18s\tremaining: 22.1s\n",
      "270:\tlearn: 1047.6932898\ttotal: 3m 19s\tremaining: 21.4s\n",
      "271:\tlearn: 1047.6729396\ttotal: 3m 20s\tremaining: 20.6s\n",
      "272:\tlearn: 1047.6533567\ttotal: 3m 21s\tremaining: 19.9s\n",
      "273:\tlearn: 1047.5382896\ttotal: 3m 22s\tremaining: 19.2s\n",
      "274:\tlearn: 1047.4702715\ttotal: 3m 22s\tremaining: 18.4s\n",
      "275:\tlearn: 1047.4339377\ttotal: 3m 23s\tremaining: 17.7s\n",
      "276:\tlearn: 1047.3989898\ttotal: 3m 24s\tremaining: 17s\n",
      "277:\tlearn: 1047.3785948\ttotal: 3m 25s\tremaining: 16.2s\n",
      "278:\tlearn: 1047.2655706\ttotal: 3m 26s\tremaining: 15.5s\n",
      "279:\tlearn: 1047.2296632\ttotal: 3m 27s\tremaining: 14.8s\n",
      "280:\tlearn: 1047.2091085\ttotal: 3m 28s\tremaining: 14.1s\n",
      "281:\tlearn: 1047.1059558\ttotal: 3m 29s\tremaining: 13.3s\n",
      "282:\tlearn: 1047.0268513\ttotal: 3m 29s\tremaining: 12.6s\n",
      "283:\tlearn: 1046.9687148\ttotal: 3m 31s\tremaining: 11.9s\n",
      "284:\tlearn: 1046.9282804\ttotal: 3m 33s\tremaining: 11.2s\n",
      "285:\tlearn: 1046.9141671\ttotal: 3m 33s\tremaining: 10.5s\n",
      "286:\tlearn: 1046.8766009\ttotal: 3m 34s\tremaining: 9.72s\n",
      "287:\tlearn: 1046.7641200\ttotal: 3m 35s\tremaining: 8.98s\n",
      "288:\tlearn: 1046.7126278\ttotal: 3m 36s\tremaining: 8.24s\n",
      "289:\tlearn: 1046.6171369\ttotal: 3m 37s\tremaining: 7.5s\n",
      "290:\tlearn: 1046.5808597\ttotal: 3m 38s\tremaining: 6.75s\n",
      "291:\tlearn: 1046.5592043\ttotal: 3m 39s\tremaining: 6s\n",
      "292:\tlearn: 1046.5042919\ttotal: 3m 39s\tremaining: 5.25s\n",
      "293:\tlearn: 1046.4744533\ttotal: 3m 40s\tremaining: 4.5s\n",
      "294:\tlearn: 1046.4505156\ttotal: 3m 41s\tremaining: 3.75s\n",
      "295:\tlearn: 1046.3958290\ttotal: 3m 42s\tremaining: 3s\n"
     ]
    },
    {
     "name": "stdout",
     "output_type": "stream",
     "text": [
      "296:\tlearn: 1046.3537990\ttotal: 3m 43s\tremaining: 2.25s\n",
      "297:\tlearn: 1046.2585758\ttotal: 3m 43s\tremaining: 1.5s\n",
      "298:\tlearn: 1046.2191398\ttotal: 3m 44s\tremaining: 752ms\n",
      "299:\tlearn: 1046.1861409\ttotal: 3m 45s\tremaining: 0us\n"
     ]
    },
    {
     "data": {
      "text/plain": [
       "<catboost.core.CatBoostRegressor at 0x1a243344a8>"
      ]
     },
     "execution_count": 109,
     "metadata": {},
     "output_type": "execute_result"
    }
   ],
   "source": [
    "model = CatBoostRegressor(iterations=300, depth=5,learning_rate=0.05)\n",
    "model.fit(train_pool)"
   ]
  },
  {
   "cell_type": "code",
   "execution_count": 110,
   "metadata": {},
   "outputs": [
    {
     "data": {
      "text/plain": [
       "1029.957879576215"
      ]
     },
     "execution_count": 110,
     "metadata": {},
     "output_type": "execute_result"
    }
   ],
   "source": [
    "model.score(test_pool, y_test)  #"
   ]
  },
  {
   "cell_type": "code",
   "execution_count": 111,
   "metadata": {},
   "outputs": [],
   "source": [
    "pred = model.predict(test_pool)"
   ]
  },
  {
   "cell_type": "code",
   "execution_count": 112,
   "metadata": {},
   "outputs": [
    {
     "data": {
      "text/html": [
       "<div>\n",
       "<style scoped>\n",
       "    .dataframe tbody tr th:only-of-type {\n",
       "        vertical-align: middle;\n",
       "    }\n",
       "\n",
       "    .dataframe tbody tr th {\n",
       "        vertical-align: top;\n",
       "    }\n",
       "\n",
       "    .dataframe thead th {\n",
       "        text-align: right;\n",
       "    }\n",
       "</style>\n",
       "<table border=\"1\" class=\"dataframe\">\n",
       "  <thead>\n",
       "    <tr style=\"text-align: right;\">\n",
       "      <th></th>\n",
       "      <th>Call Type</th>\n",
       "      <th>Zipcode of Incident</th>\n",
       "      <th>Station Area</th>\n",
       "      <th>Box</th>\n",
       "      <th>Number of Alarms</th>\n",
       "      <th>Unit Type</th>\n",
       "      <th>Unit sequence in call dispatch</th>\n",
       "      <th>Call to Dispatch</th>\n",
       "      <th>Hours</th>\n",
       "      <th>Hospital or Transport</th>\n",
       "      <th>y_test</th>\n",
       "      <th>y_pred</th>\n",
       "      <th>y_test-y_pred</th>\n",
       "      <th>y_test-y_pred_squared</th>\n",
       "      <th>mean_y</th>\n",
       "      <th>diff</th>\n",
       "    </tr>\n",
       "  </thead>\n",
       "  <tbody>\n",
       "    <tr>\n",
       "      <th>1650124</th>\n",
       "      <td>Medical Incident</td>\n",
       "      <td>94121</td>\n",
       "      <td>31</td>\n",
       "      <td>7164.0</td>\n",
       "      <td>1</td>\n",
       "      <td>ENGINE</td>\n",
       "      <td>1</td>\n",
       "      <td>87.0</td>\n",
       "      <td>15</td>\n",
       "      <td>0</td>\n",
       "      <td>936.0</td>\n",
       "      <td>813.385840</td>\n",
       "      <td>122.614160</td>\n",
       "      <td>1.503423e+04</td>\n",
       "      <td>1445.821015</td>\n",
       "      <td>-509.821015</td>\n",
       "    </tr>\n",
       "    <tr>\n",
       "      <th>1650125</th>\n",
       "      <td>Medical Incident</td>\n",
       "      <td>94121</td>\n",
       "      <td>31</td>\n",
       "      <td>7164.0</td>\n",
       "      <td>1</td>\n",
       "      <td>MEDIC</td>\n",
       "      <td>2</td>\n",
       "      <td>87.0</td>\n",
       "      <td>15</td>\n",
       "      <td>1</td>\n",
       "      <td>3200.0</td>\n",
       "      <td>3458.505322</td>\n",
       "      <td>-258.505322</td>\n",
       "      <td>6.682500e+04</td>\n",
       "      <td>1445.821015</td>\n",
       "      <td>1754.178985</td>\n",
       "    </tr>\n",
       "    <tr>\n",
       "      <th>1650126</th>\n",
       "      <td>Medical Incident</td>\n",
       "      <td>94102</td>\n",
       "      <td>1</td>\n",
       "      <td>1365.0</td>\n",
       "      <td>1</td>\n",
       "      <td>RESCUE SQUAD</td>\n",
       "      <td>3</td>\n",
       "      <td>81.0</td>\n",
       "      <td>15</td>\n",
       "      <td>0</td>\n",
       "      <td>156.0</td>\n",
       "      <td>311.491169</td>\n",
       "      <td>-155.491169</td>\n",
       "      <td>2.417750e+04</td>\n",
       "      <td>1445.821015</td>\n",
       "      <td>-1289.821015</td>\n",
       "    </tr>\n",
       "    <tr>\n",
       "      <th>1650127</th>\n",
       "      <td>Medical Incident</td>\n",
       "      <td>94103</td>\n",
       "      <td>1</td>\n",
       "      <td>2251.0</td>\n",
       "      <td>1</td>\n",
       "      <td>MEDIC</td>\n",
       "      <td>1</td>\n",
       "      <td>160.0</td>\n",
       "      <td>15</td>\n",
       "      <td>1</td>\n",
       "      <td>4081.0</td>\n",
       "      <td>3056.071620</td>\n",
       "      <td>1024.928380</td>\n",
       "      <td>1.050478e+06</td>\n",
       "      <td>1445.821015</td>\n",
       "      <td>2635.178985</td>\n",
       "    </tr>\n",
       "    <tr>\n",
       "      <th>1650128</th>\n",
       "      <td>Medical Incident</td>\n",
       "      <td>94103</td>\n",
       "      <td>1</td>\n",
       "      <td>2251.0</td>\n",
       "      <td>1</td>\n",
       "      <td>ENGINE</td>\n",
       "      <td>2</td>\n",
       "      <td>160.0</td>\n",
       "      <td>15</td>\n",
       "      <td>0</td>\n",
       "      <td>150.0</td>\n",
       "      <td>548.082912</td>\n",
       "      <td>-398.082912</td>\n",
       "      <td>1.584700e+05</td>\n",
       "      <td>1445.821015</td>\n",
       "      <td>-1295.821015</td>\n",
       "    </tr>\n",
       "  </tbody>\n",
       "</table>\n",
       "</div>"
      ],
      "text/plain": [
       "                Call Type  Zipcode of Incident Station Area     Box  \\\n",
       "1650124  Medical Incident                94121           31  7164.0   \n",
       "1650125  Medical Incident                94121           31  7164.0   \n",
       "1650126  Medical Incident                94102            1  1365.0   \n",
       "1650127  Medical Incident                94103            1  2251.0   \n",
       "1650128  Medical Incident                94103            1  2251.0   \n",
       "\n",
       "         Number of Alarms     Unit Type  Unit sequence in call dispatch  \\\n",
       "1650124                 1        ENGINE                               1   \n",
       "1650125                 1         MEDIC                               2   \n",
       "1650126                 1  RESCUE SQUAD                               3   \n",
       "1650127                 1         MEDIC                               1   \n",
       "1650128                 1        ENGINE                               2   \n",
       "\n",
       "         Call to Dispatch  Hours  Hospital or Transport  y_test       y_pred  \\\n",
       "1650124              87.0     15                      0   936.0   813.385840   \n",
       "1650125              87.0     15                      1  3200.0  3458.505322   \n",
       "1650126              81.0     15                      0   156.0   311.491169   \n",
       "1650127             160.0     15                      1  4081.0  3056.071620   \n",
       "1650128             160.0     15                      0   150.0   548.082912   \n",
       "\n",
       "         y_test-y_pred  y_test-y_pred_squared       mean_y         diff  \n",
       "1650124     122.614160           1.503423e+04  1445.821015  -509.821015  \n",
       "1650125    -258.505322           6.682500e+04  1445.821015  1754.178985  \n",
       "1650126    -155.491169           2.417750e+04  1445.821015 -1289.821015  \n",
       "1650127    1024.928380           1.050478e+06  1445.821015  2635.178985  \n",
       "1650128    -398.082912           1.584700e+05  1445.821015 -1295.821015  "
      ]
     },
     "execution_count": 112,
     "metadata": {},
     "output_type": "execute_result"
    }
   ],
   "source": [
    "XYY = X_test.copy()\n",
    "XYY['y_test'] = y_test\n",
    "XYY['y_pred'] = pred\n",
    "XYY['y_test-y_pred'] = XYY['y_test']-XYY['y_pred']\n",
    "XYY['y_test-y_pred_squared'] = XYY['y_test-y_pred']**2\n",
    "mean_y = XYY['y_pred'].mean()\n",
    "XYY['mean_y'] = mean_y\n",
    "XYY['diff'] = XYY['y_test']-XYY['mean_y']\n",
    "XYY.head(5)"
   ]
  },
  {
   "cell_type": "code",
   "execution_count": 113,
   "metadata": {},
   "outputs": [],
   "source": [
    "mae = (abs(XYY['y_test-y_pred']).sum())/len(XYY['y_test-y_pred'])\n",
    "mse = (XYY['y_test-y_pred']**2).sum()/len(XYY['y_test-y_pred'])\n",
    "rmse = mse**0.5\n",
    "determanation_score = 1-((XYY['y_test-y_pred']**2).sum())/((XYY['diff']**2).sum())"
   ]
  },
  {
   "cell_type": "code",
   "execution_count": 114,
   "metadata": {},
   "outputs": [
    {
     "data": {
      "text/plain": [
       "619.513636006284"
      ]
     },
     "execution_count": 114,
     "metadata": {},
     "output_type": "execute_result"
    }
   ],
   "source": [
    "mae"
   ]
  },
  {
   "cell_type": "code",
   "execution_count": 115,
   "metadata": {},
   "outputs": [
    {
     "data": {
      "text/plain": [
       "1060813.233701133"
      ]
     },
     "execution_count": 115,
     "metadata": {},
     "output_type": "execute_result"
    }
   ],
   "source": [
    "mse"
   ]
  },
  {
   "cell_type": "code",
   "execution_count": 116,
   "metadata": {},
   "outputs": [
    {
     "data": {
      "text/plain": [
       "1029.957879576215"
      ]
     },
     "execution_count": 116,
     "metadata": {},
     "output_type": "execute_result"
    }
   ],
   "source": [
    "rmse"
   ]
  },
  {
   "cell_type": "code",
   "execution_count": 117,
   "metadata": {},
   "outputs": [
    {
     "data": {
      "text/plain": [
       "0.630362785452057"
      ]
     },
     "execution_count": 117,
     "metadata": {},
     "output_type": "execute_result"
    }
   ],
   "source": [
    "determanation_score"
   ]
  },
  {
   "cell_type": "code",
   "execution_count": 27,
   "metadata": {},
   "outputs": [
    {
     "name": "stdout",
     "output_type": "stream",
     "text": [
      "mae_mean: 1328.754065952152\n",
      "mse_mean: 3049596.3950702916\n",
      "mrse_mean: 1746.309364079083\n"
     ]
    }
   ],
   "source": [
    "#scores compare to mean\n",
    "total_mean = y_train.mean()\n",
    "mae_mean = (abs(XYY['y_test']-total_mean).sum())/len(XYY['y_test-y_pred'])\n",
    "print('mae_mean: '+ str(mae_mean))\n",
    "mse_mean = ((XYY['y_test']-total_mean)**2).sum()/len(XYY['y_test-y_pred'])\n",
    "print('mse_mean: '+ str(mse_mean))\n",
    "rmse_mean = mse_mean**0.5\n",
    "print('mrse_mean: '+ str(rmse_mean))"
   ]
  },
  {
   "cell_type": "code",
   "execution_count": 118,
   "metadata": {},
   "outputs": [
    {
     "data": {
      "text/plain": [
       "[('Call Type', 3.2769606462104446),\n",
       " ('Zipcode of Incident', 1.080816505923575),\n",
       " ('Station Area', 1.2331958428005563),\n",
       " ('Box', 1.993873247233903),\n",
       " ('Number of Alarms', 15.725346886967348),\n",
       " ('Unit Type', 9.300038941313451),\n",
       " ('Unit sequence in call dispatch', 3.3511860570703456),\n",
       " ('Call to Dispatch', 1.3205100353789059),\n",
       " ('Hours', 1.858109898879475),\n",
       " ('Hospital or Transport', 60.85996193822199)]"
      ]
     },
     "execution_count": 118,
     "metadata": {},
     "output_type": "execute_result"
    }
   ],
   "source": [
    "val = model.get_feature_importance()\n",
    "feat = X_test.columns\n",
    "\n",
    "list(zip(feat,val))"
   ]
  },
  {
   "cell_type": "markdown",
   "metadata": {},
   "source": [
    "[('Battalion', 0.5078027445356504),\n",
    " ('Station Area', 6.135001357254266),\n",
    " ('Box', 9.114046028348575),\n",
    " ('Original Priority', 1.9631004892661137),\n",
    " ('ALS Unit', 0.8674294353822795),\n",
    " ('Call Type Group', 3.333459641176911),\n",
    " ('Unit Type', 41.73743300645736),\n",
    " ('Fire Prevention District', 1.5738692854230882),\n",
    " ('Supervisor District', 1.5693252610655513),\n",
    " ('Month', 0.5003596981995669),\n",
    " ('WeekDay', 0.7519625648056559),\n",
    " ('Weekofyear', 1.623724419771495),\n",
    " ('Hours', 8.179958110857296),\n",
    " ('Minutes', 1.0530441606569498),\n",
    " ('Call Type Merged', 21.08948379679924)]\n",
    " \n",
    " [('Station Area', 6.994516107181966),\n",
    " ('Box', 5.876354709490432),\n",
    " ('Original Priority', 0.9627007503785607),\n",
    " ('Call Type Group', 1.29599635276719),\n",
    " ('Unit Type', 60.51084666020504),\n",
    " ('Fire Prevention District', 0.3122714646717646),\n",
    " ('Supervisor District', 0.5588749902917611),\n",
    " ('Weekofyear', 0.0),\n",
    " ('Hours', 3.0604472528149556),\n",
    " ('Minutes', 0.0),\n",
    " ('Call Type Merged', 20.427991712198327)]"
   ]
  },
  {
   "cell_type": "code",
   "execution_count": null,
   "metadata": {},
   "outputs": [],
   "source": []
  },
  {
   "cell_type": "code",
   "execution_count": 94,
   "metadata": {},
   "outputs": [],
   "source": [
    "import matplotlib.pyplot as plt\n",
    "%matplotlib inline"
   ]
  },
  {
   "cell_type": "code",
   "execution_count": 119,
   "metadata": {},
   "outputs": [
    {
     "data": {
      "image/png": "[encoded data removed]",
      "text/plain": [
       "<matplotlib.figure.Figure at 0x1a1f693710>"
      ]
     },
     "metadata": {},
     "output_type": "display_data"
    }
   ],
   "source": [
    "XYY = XYY.sort_values('y_test')\n",
    "plt.figure(figsize=(15,10))\n",
    "plt.scatter(XYY.index, XYY['y_test'].sort_values(), color='b')\n",
    "plt.scatter(XYY.index, XYY['y_pred'], color='g')\n",
    "plt.show()"
   ]
  },
  {
   "cell_type": "code",
   "execution_count": 47,
   "metadata": {},
   "outputs": [
    {
     "data": {
      "text/plain": [
       "<matplotlib.collections.PathCollection at 0x1a1f67da90>"
      ]
     },
     "execution_count": 47,
     "metadata": {},
     "output_type": "execute_result"
    },
    {
     "data": {
      "image/png": "[encoded data removed]",
      "text/plain": [
       "<matplotlib.figure.Figure at 0x1a1f21a550>"
      ]
     },
     "metadata": {},
     "output_type": "display_data"
    }
   ],
   "source": [
    "plt.scatter(range(0,12957), df1['Respond to Available'].value_counts())"
   ]
  },
  {
   "cell_type": "code",
   "execution_count": 100,
   "metadata": {},
   "outputs": [
    {
     "data": {
      "text/plain": [
       "Call Type                         49\n",
       "Zipcode of Incident               49\n",
       "Station Area                      49\n",
       "Box                               49\n",
       "Number of Alarms                  49\n",
       "Unit Type                         49\n",
       "Unit sequence in call dispatch    49\n",
       "Fire Prevention District          49\n",
       "Respond to Available              49\n",
       "Call to Dispatch                  49\n",
       "Hours                             49\n",
       "Hospital or Transport             49\n",
       "dtype: int64"
      ]
     },
     "execution_count": 100,
     "metadata": {},
     "output_type": "execute_result"
    }
   ],
   "source": [
    "df1[df1['Respond to Available']> 36000].count()  #2046293"
   ]
  },
  {
   "cell_type": "markdown",
   "metadata": {},
   "source": [
    "###### df1[df['Respond to Available']==0]"
   ]
  },
  {
   "cell_type": "code",
   "execution_count": null,
   "metadata": {},
   "outputs": [],
   "source": []
  }
 ],
 "metadata": {
  "kernelspec": {
   "display_name": "Python 3",
   "language": "python",
   "name": "python3"
  },
  "language_info": {
   "codemirror_mode": {
    "name": "ipython",
    "version": 3
   },
   "file_extension": ".py",
   "mimetype": "text/x-python",
   "name": "python",
   "nbconvert_exporter": "python",
   "pygments_lexer": "ipython3",
   "version": "3.6.5"
  }
 },
 "nbformat": 4,
 "nbformat_minor": 2
}
