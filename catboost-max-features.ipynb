{
 "cells": [
  {
   "cell_type": "code",
   "execution_count": 1,
   "metadata": {},
   "outputs": [],
   "source": [
    "%load_ext autoreload\n",
    "%autoreload 2\n",
    "\n",
    "import pandas as pd\n",
    "import numpy as np\n",
    "pd.set_option('display.max_columns', 999)"
   ]
  },
  {
   "cell_type": "code",
   "execution_count": 2,
   "metadata": {},
   "outputs": [],
   "source": [
    "from sklearn.model_selection import train_test_split\n",
    "from catboost import Pool, CatBoostRegressor"
   ]
  },
  {
   "cell_type": "code",
   "execution_count": 3,
   "metadata": {
    "scrolled": true
   },
   "outputs": [
    {
     "name": "stderr",
     "output_type": "stream",
     "text": [
      "/anaconda3/lib/python3.6/site-packages/IPython/core/interactiveshell.py:2728: DtypeWarning: Columns (19,25) have mixed types. Specify dtype option on import or set low_memory=False.\n",
      "  interactivity=interactivity, compiler=compiler, result=result)\n"
     ]
    }
   ],
   "source": [
    "df = pd.read_csv('Fire_Dep_Call_50%.csv')"
   ]
  },
  {
   "cell_type": "code",
   "execution_count": 4,
   "metadata": {},
   "outputs": [],
   "source": [
    "cols = ['Available DtTm', 'Response DtTm', 'Dispatch DtTm', 'Received DtTm']\n",
    "for col in cols:\n",
    "    df[col] = pd.to_datetime(df[col], format='%m/%d/%Y %I:%M:%S %p', infer_datetime_format=True)\n",
    "\n",
    "df['Respond to Available'] = df['Available DtTm'] - df['Response DtTm']\n",
    "df['Call to Dispatch'] = df['Dispatch DtTm'] - df['Received DtTm']\n",
    "\n",
    "time_cols = ['Respond to Available', 'Call to Dispatch']\n",
    "df[time_cols] = df[time_cols].applymap(lambda t: t.total_seconds())\n",
    "df[time_cols] = df[time_cols].applymap(lambda x: max(x,0))"
   ]
  },
  {
   "cell_type": "code",
   "execution_count": 5,
   "metadata": {},
   "outputs": [],
   "source": [
    "df['Month'] = df['Received DtTm'].dt.month\n",
    "df['WeekDay'] = df['Received DtTm'].dt.weekday\n",
    "df['Weekofyear'] = df['Received DtTm'].dt.weekofyear\n",
    "df['Hours'] = df['Received DtTm'].dt.hour\n",
    "df['Minutes'] = df['Received DtTm'].dt.minute\n",
    "\n",
    "#---------added----------columns for hospital or transport\n",
    "df['Hospital or Transport'] = (~(df['Transport DtTm'].isna() & df['Hospital DtTm'].isna())).astype('int')"
   ]
  },
  {
   "cell_type": "code",
   "execution_count": 6,
   "metadata": {},
   "outputs": [],
   "source": [
    "def fill_na(df):\n",
    "    q = df['Original Priority'].value_counts(normalize=True) #counts share of valeus in col w/o N/A\n",
    "    orig_prio_list = q.index.tolist()  #makes indeces(priorities types) to a list\n",
    "    orig_prio_shares = q.tolist() #makes values of shares a list\n",
    "    df['Original Priority'] = df['Original Priority'].fillna(pd.Series(np.random.choice(orig_prio_list, p=orig_prio_shares, size=len(df))))\n",
    "\n",
    "    w = df['Call Type Group'].value_counts(normalize=True) #counts share of values in col w/o N/A\n",
    "    call_types_list = w.index.tolist()  #makes indeces(priorities types) to a list\n",
    "    call_types_shares = w.tolist() #makes values of shares a list\n",
    "    df['Call Type Group'] = df['Call Type Group'].fillna(pd.Series(np.random.choice(call_types_list, p=call_types_shares, size=len(df))))\n",
    "    \n",
    "fill_na(df)\n",
    "\n",
    "if((df['Zipcode of Incident'].nunique()) <= (df['Neighborhooods - Analysis Boundaries'].nunique())):\n",
    "    zipcodes = df[['Neighborhooods - Analysis Boundaries','Zipcode of Incident']]\n",
    "    zipcodes = zipcodes[zipcodes['Zipcode of Incident'].notnull()]\n",
    "    zips= list(zipcodes['Zipcode of Incident'].values)\n",
    "    nbhds= list(zipcodes['Neighborhooods - Analysis Boundaries'].values)\n",
    "    if len(zips) == len(nbhds):\n",
    "        zipcodes_dict=dict(zip(nbhds,zips))\n",
    "\n",
    "    else: \n",
    "        print('Count unique zipcodes != count neighborhooods, something went wrong.')\n",
    "else:\n",
    "    print('More zipcodes than neighborhooods, we need new strategy!')\n",
    "\n",
    "df['Zipcode of Incident'] = df['Zipcode of Incident'].fillna(df['Neighborhooods - Analysis Boundaries'].map(zipcodes_dict))\n",
    "df['Zipcode of Incident'] = df['Zipcode of Incident'].astype(int)"
   ]
  },
  {
   "cell_type": "code",
   "execution_count": 7,
   "metadata": {},
   "outputs": [],
   "source": [
    "df['Location'] = df['Location'].astype(tuple)\n",
    "locations = df['Location'].str[1:-1].str.split(',', expand=True).astype(float)\n",
    "df[locations.columns]= locations"
   ]
  },
  {
   "cell_type": "code",
   "execution_count": 55,
   "metadata": {},
   "outputs": [],
   "source": [
    "#only not null, not zero and less that 10 hours to solve\n",
    "df = df[(df['Respond to Available'].notnull()) & (df['Respond to Available'] <= 21600) & (df['Respond to Available']>25)]"
   ]
  },
  {
   "cell_type": "code",
   "execution_count": 9,
   "metadata": {},
   "outputs": [
    {
     "data": {
      "text/plain": [
       "(2046497, 44)"
      ]
     },
     "execution_count": 9,
     "metadata": {},
     "output_type": "execute_result"
    }
   ],
   "source": [
    "df.shape"
   ]
  },
  {
   "cell_type": "code",
   "execution_count": 56,
   "metadata": {},
   "outputs": [],
   "source": [
    "#------cancelled dropping of 'Call to Dispatch','Minutes','Month', 'WeekDay', 'Call Type', \n",
    "df1 = df.drop(columns=['Call Number', 'Incident Number', 'Call Type Group', 'Call Date', 'Watch Date', \n",
    "                      'Received DtTm', 'Entry DtTm', 'Dispatch DtTm','Response DtTm', 'On Scene DtTm',\n",
    "                      'Transport DtTm','Hospital DtTm', 'Call Final Disposition', 'Available DtTm',\n",
    "                      'Supervisor District', 'Original Priority',\n",
    "                      'Address', 'City', 'Priority', 'Final Priority',  'Location', 'Month', 'WeekDay',  \n",
    "                      'RowID', 'Battalion', 'ALS Unit'], errors='ignore')"
   ]
  },
  {
   "cell_type": "code",
   "execution_count": 57,
   "metadata": {},
   "outputs": [],
   "source": [
    "df1 = df1.dropna(how='any') "
   ]
  },
  {
   "cell_type": "code",
   "execution_count": 41,
   "metadata": {},
   "outputs": [
    {
     "data": {
      "text/plain": [
       "(2030167, 18)"
      ]
     },
     "execution_count": 41,
     "metadata": {},
     "output_type": "execute_result"
    }
   ],
   "source": [
    "df1.shape"
   ]
  },
  {
   "cell_type": "code",
   "execution_count": 58,
   "metadata": {},
   "outputs": [],
   "source": [
    "y = df1['Respond to Available']\n",
    "X = df1.drop(columns=['Respond to Available'])\n",
    "X_train, X_test, y_train, y_test = train_test_split(X, y, test_size=0.3, shuffle=False)"
   ]
  },
  {
   "cell_type": "code",
   "execution_count": 43,
   "metadata": {},
   "outputs": [
    {
     "name": "stdout",
     "output_type": "stream",
     "text": [
      "<class 'pandas.core.frame.DataFrame'>\n",
      "Int64Index: 1421116 entries, 1 to 1647781\n",
      "Data columns (total 17 columns):\n",
      "Unit ID                                 1421116 non-null object\n",
      "Call Type                               1421116 non-null object\n",
      "Zipcode of Incident                     1421116 non-null int64\n",
      "Station Area                            1421116 non-null object\n",
      "Box                                     1421116 non-null float64\n",
      "Number of Alarms                        1421116 non-null int64\n",
      "Unit Type                               1421116 non-null object\n",
      "Unit sequence in call dispatch          1421116 non-null int64\n",
      "Fire Prevention District                1421116 non-null object\n",
      "Neighborhooods - Analysis Boundaries    1421116 non-null object\n",
      "Call to Dispatch                        1421116 non-null float64\n",
      "Weekofyear                              1421116 non-null int64\n",
      "Hours                                   1421116 non-null int64\n",
      "Minutes                                 1421116 non-null int64\n",
      "Hospital or Transport                   1421116 non-null int64\n",
      "0                                       1421116 non-null float64\n",
      "1                                       1421116 non-null float64\n",
      "dtypes: float64(4), int64(7), object(6)\n",
      "memory usage: 195.2+ MB\n"
     ]
    }
   ],
   "source": [
    "X_train.info()"
   ]
  },
  {
   "cell_type": "code",
   "execution_count": 14,
   "metadata": {},
   "outputs": [],
   "source": [
    "cat_features=[\n",
    "    0,\n",
    "    1,\n",
    "    3,\n",
    "    6,\n",
    "    8,\n",
    "    9\n",
    "]"
   ]
  },
  {
   "cell_type": "code",
   "execution_count": 59,
   "metadata": {},
   "outputs": [],
   "source": [
    "train_pool = Pool(X_train, y_train, cat_features=cat_features)\n",
    "test_pool = Pool(X_test, cat_features=cat_features)"
   ]
  },
  {
   "cell_type": "code",
   "execution_count": 60,
   "metadata": {
    "scrolled": true
   },
   "outputs": [
    {
     "name": "stdout",
     "output_type": "stream",
     "text": [
      "0:\tlearn: 1990.5081786\ttotal: 2.88s\tremaining: 4m 45s\n",
      "1:\tlearn: 1849.6716644\ttotal: 6s\tremaining: 4m 54s\n",
      "2:\tlearn: 1726.9030148\ttotal: 9.29s\tremaining: 5m\n",
      "3:\tlearn: 1620.5083669\ttotal: 11.8s\tremaining: 4m 43s\n",
      "4:\tlearn: 1528.6234168\ttotal: 14.1s\tremaining: 4m 27s\n",
      "5:\tlearn: 1449.7895318\ttotal: 16.5s\tremaining: 4m 19s\n",
      "6:\tlearn: 1382.1818529\ttotal: 19.3s\tremaining: 4m 16s\n",
      "7:\tlearn: 1324.3692647\ttotal: 22.3s\tremaining: 4m 16s\n",
      "8:\tlearn: 1275.0695938\ttotal: 25.8s\tremaining: 4m 20s\n",
      "9:\tlearn: 1233.5847856\ttotal: 28.9s\tremaining: 4m 20s\n",
      "10:\tlearn: 1198.6629961\ttotal: 32.1s\tremaining: 4m 19s\n",
      "11:\tlearn: 1168.8913399\ttotal: 34.7s\tremaining: 4m 14s\n",
      "12:\tlearn: 1144.7417068\ttotal: 38.6s\tremaining: 4m 18s\n",
      "13:\tlearn: 1124.4900619\ttotal: 42.3s\tremaining: 4m 19s\n",
      "14:\tlearn: 1107.2170307\ttotal: 45.4s\tremaining: 4m 17s\n",
      "15:\tlearn: 1092.4529609\ttotal: 48.5s\tremaining: 4m 14s\n",
      "16:\tlearn: 1079.3909370\ttotal: 51.2s\tremaining: 4m 9s\n",
      "17:\tlearn: 1068.6454582\ttotal: 53.9s\tremaining: 4m 5s\n",
      "18:\tlearn: 1059.6120442\ttotal: 56.5s\tremaining: 4m\n",
      "19:\tlearn: 1052.2964673\ttotal: 59.5s\tremaining: 3m 57s\n",
      "20:\tlearn: 1046.1434849\ttotal: 1m 2s\tremaining: 3m 56s\n",
      "21:\tlearn: 1041.0886299\ttotal: 1m 6s\tremaining: 3m 56s\n",
      "22:\tlearn: 1036.7619309\ttotal: 1m 10s\tremaining: 3m 56s\n",
      "23:\tlearn: 1033.1691898\ttotal: 1m 13s\tremaining: 3m 52s\n",
      "24:\tlearn: 1029.4990852\ttotal: 1m 16s\tremaining: 3m 49s\n",
      "25:\tlearn: 1026.6247976\ttotal: 1m 19s\tremaining: 3m 46s\n",
      "26:\tlearn: 1024.2707529\ttotal: 1m 22s\tremaining: 3m 42s\n",
      "27:\tlearn: 1022.2388589\ttotal: 1m 25s\tremaining: 3m 39s\n",
      "28:\tlearn: 1020.3163038\ttotal: 1m 28s\tremaining: 3m 36s\n",
      "29:\tlearn: 1018.7757740\ttotal: 1m 31s\tremaining: 3m 34s\n",
      "30:\tlearn: 1017.2311384\ttotal: 1m 35s\tremaining: 3m 32s\n",
      "31:\tlearn: 1015.8187562\ttotal: 1m 38s\tremaining: 3m 28s\n",
      "32:\tlearn: 1014.4547748\ttotal: 1m 41s\tremaining: 3m 25s\n",
      "33:\tlearn: 1013.2269750\ttotal: 1m 44s\tremaining: 3m 23s\n",
      "34:\tlearn: 1012.4022395\ttotal: 1m 49s\tremaining: 3m 22s\n",
      "35:\tlearn: 1011.5035889\ttotal: 1m 53s\tremaining: 3m 22s\n",
      "36:\tlearn: 1010.7838115\ttotal: 1m 57s\tremaining: 3m 19s\n",
      "37:\tlearn: 1009.3445035\ttotal: 2m\tremaining: 3m 17s\n",
      "38:\tlearn: 1008.2690476\ttotal: 2m 4s\tremaining: 3m 14s\n",
      "39:\tlearn: 1007.1954524\ttotal: 2m 7s\tremaining: 3m 11s\n",
      "40:\tlearn: 1006.2546911\ttotal: 2m 10s\tremaining: 3m 8s\n",
      "41:\tlearn: 1005.4795691\ttotal: 2m 13s\tremaining: 3m 4s\n",
      "42:\tlearn: 1004.9595326\ttotal: 2m 16s\tremaining: 3m 1s\n",
      "43:\tlearn: 1004.2072234\ttotal: 2m 19s\tremaining: 2m 57s\n",
      "44:\tlearn: 1003.6933979\ttotal: 2m 22s\tremaining: 2m 54s\n",
      "45:\tlearn: 1003.2448142\ttotal: 2m 25s\tremaining: 2m 50s\n",
      "46:\tlearn: 1002.8848399\ttotal: 2m 28s\tremaining: 2m 47s\n",
      "47:\tlearn: 1002.3248252\ttotal: 2m 31s\tremaining: 2m 43s\n",
      "48:\tlearn: 1001.8761072\ttotal: 2m 34s\tremaining: 2m 40s\n",
      "49:\tlearn: 1001.4748000\ttotal: 2m 37s\tremaining: 2m 37s\n",
      "50:\tlearn: 1001.0376595\ttotal: 2m 40s\tremaining: 2m 34s\n",
      "51:\tlearn: 1000.6715105\ttotal: 2m 43s\tremaining: 2m 31s\n",
      "52:\tlearn: 1000.1469647\ttotal: 2m 47s\tremaining: 2m 28s\n",
      "53:\tlearn: 999.4795540\ttotal: 2m 51s\tremaining: 2m 25s\n",
      "54:\tlearn: 998.9970462\ttotal: 2m 55s\tremaining: 2m 23s\n",
      "55:\tlearn: 998.7200567\ttotal: 2m 59s\tremaining: 2m 20s\n",
      "56:\tlearn: 998.3526240\ttotal: 3m 2s\tremaining: 2m 17s\n",
      "57:\tlearn: 997.9175886\ttotal: 3m 5s\tremaining: 2m 14s\n",
      "58:\tlearn: 997.6179719\ttotal: 3m 8s\tremaining: 2m 11s\n",
      "59:\tlearn: 997.2382725\ttotal: 3m 12s\tremaining: 2m 8s\n",
      "60:\tlearn: 996.8321862\ttotal: 3m 15s\tremaining: 2m 4s\n",
      "61:\tlearn: 996.5651196\ttotal: 3m 17s\tremaining: 2m 1s\n",
      "62:\tlearn: 996.1265104\ttotal: 3m 20s\tremaining: 1m 57s\n",
      "63:\tlearn: 995.6034274\ttotal: 3m 24s\tremaining: 1m 54s\n",
      "64:\tlearn: 995.1254055\ttotal: 3m 27s\tremaining: 1m 51s\n",
      "65:\tlearn: 994.9113957\ttotal: 3m 31s\tremaining: 1m 49s\n",
      "66:\tlearn: 994.7058579\ttotal: 3m 35s\tremaining: 1m 45s\n",
      "67:\tlearn: 994.5326036\ttotal: 3m 38s\tremaining: 1m 43s\n",
      "68:\tlearn: 994.1950484\ttotal: 3m 42s\tremaining: 1m 40s\n",
      "69:\tlearn: 994.0124214\ttotal: 3m 46s\tremaining: 1m 36s\n",
      "70:\tlearn: 993.6828381\ttotal: 3m 49s\tremaining: 1m 33s\n",
      "71:\tlearn: 993.2594786\ttotal: 3m 52s\tremaining: 1m 30s\n",
      "72:\tlearn: 992.9749370\ttotal: 3m 55s\tremaining: 1m 27s\n",
      "73:\tlearn: 992.3597377\ttotal: 3m 58s\tremaining: 1m 23s\n",
      "74:\tlearn: 991.9063468\ttotal: 4m 1s\tremaining: 1m 20s\n",
      "75:\tlearn: 991.5147003\ttotal: 4m 4s\tremaining: 1m 17s\n",
      "76:\tlearn: 991.1903201\ttotal: 4m 7s\tremaining: 1m 14s\n",
      "77:\tlearn: 990.9313728\ttotal: 4m 11s\tremaining: 1m 10s\n",
      "78:\tlearn: 990.6389809\ttotal: 4m 14s\tremaining: 1m 7s\n",
      "79:\tlearn: 990.2274584\ttotal: 4m 18s\tremaining: 1m 4s\n",
      "80:\tlearn: 989.9100379\ttotal: 4m 22s\tremaining: 1m 1s\n",
      "81:\tlearn: 989.6683899\ttotal: 4m 25s\tremaining: 58.4s\n",
      "82:\tlearn: 989.2040031\ttotal: 4m 29s\tremaining: 55.1s\n",
      "83:\tlearn: 989.0578140\ttotal: 4m 33s\tremaining: 52s\n",
      "84:\tlearn: 988.6827917\ttotal: 4m 36s\tremaining: 48.9s\n",
      "85:\tlearn: 988.3992887\ttotal: 4m 40s\tremaining: 45.7s\n",
      "86:\tlearn: 987.9860097\ttotal: 4m 44s\tremaining: 42.6s\n",
      "87:\tlearn: 987.8125720\ttotal: 4m 48s\tremaining: 39.3s\n",
      "88:\tlearn: 987.4252894\ttotal: 4m 51s\tremaining: 36s\n",
      "89:\tlearn: 987.0392473\ttotal: 4m 54s\tremaining: 32.7s\n",
      "90:\tlearn: 986.9362593\ttotal: 4m 56s\tremaining: 29.3s\n",
      "91:\tlearn: 986.8541870\ttotal: 4m 59s\tremaining: 26s\n",
      "92:\tlearn: 986.5626239\ttotal: 5m 3s\tremaining: 22.9s\n",
      "93:\tlearn: 986.2792121\ttotal: 5m 7s\tremaining: 19.6s\n",
      "94:\tlearn: 985.9782159\ttotal: 5m 10s\tremaining: 16.4s\n",
      "95:\tlearn: 985.8337362\ttotal: 5m 13s\tremaining: 13.1s\n",
      "96:\tlearn: 985.5093831\ttotal: 5m 16s\tremaining: 9.8s\n",
      "97:\tlearn: 985.1009547\ttotal: 5m 19s\tremaining: 6.53s\n",
      "98:\tlearn: 984.7873409\ttotal: 5m 24s\tremaining: 3.27s\n",
      "99:\tlearn: 984.5710588\ttotal: 5m 28s\tremaining: 0us\n"
     ]
    },
    {
     "data": {
      "text/plain": [
       "<catboost.core.CatBoostRegressor at 0x1a21dcfe80>"
      ]
     },
     "execution_count": 60,
     "metadata": {},
     "output_type": "execute_result"
    }
   ],
   "source": [
    "model = CatBoostRegressor(iterations=100, depth=10,learning_rate=0.1)\n",
    "model.fit(train_pool)"
   ]
  },
  {
   "cell_type": "code",
   "execution_count": 61,
   "metadata": {},
   "outputs": [
    {
     "data": {
      "text/plain": [
       "959.6229229843467"
      ]
     },
     "execution_count": 61,
     "metadata": {},
     "output_type": "execute_result"
    }
   ],
   "source": [
    "model.score(test_pool, y_test)  #"
   ]
  },
  {
   "cell_type": "code",
   "execution_count": 62,
   "metadata": {},
   "outputs": [],
   "source": [
    "pred = model.predict(test_pool)"
   ]
  },
  {
   "cell_type": "code",
   "execution_count": 63,
   "metadata": {},
   "outputs": [
    {
     "data": {
      "text/html": [
       "<div>\n",
       "<style scoped>\n",
       "    .dataframe tbody tr th:only-of-type {\n",
       "        vertical-align: middle;\n",
       "    }\n",
       "\n",
       "    .dataframe tbody tr th {\n",
       "        vertical-align: top;\n",
       "    }\n",
       "\n",
       "    .dataframe thead th {\n",
       "        text-align: right;\n",
       "    }\n",
       "</style>\n",
       "<table border=\"1\" class=\"dataframe\">\n",
       "  <thead>\n",
       "    <tr style=\"text-align: right;\">\n",
       "      <th></th>\n",
       "      <th>Unit ID</th>\n",
       "      <th>Call Type</th>\n",
       "      <th>Zipcode of Incident</th>\n",
       "      <th>Station Area</th>\n",
       "      <th>Box</th>\n",
       "      <th>Number of Alarms</th>\n",
       "      <th>Unit Type</th>\n",
       "      <th>Unit sequence in call dispatch</th>\n",
       "      <th>Fire Prevention District</th>\n",
       "      <th>Neighborhooods - Analysis Boundaries</th>\n",
       "      <th>Call to Dispatch</th>\n",
       "      <th>Weekofyear</th>\n",
       "      <th>Hours</th>\n",
       "      <th>Minutes</th>\n",
       "      <th>Hospital or Transport</th>\n",
       "      <th>0</th>\n",
       "      <th>1</th>\n",
       "      <th>y_test</th>\n",
       "      <th>y_pred</th>\n",
       "      <th>y_test-y_pred</th>\n",
       "      <th>y_test-y_pred_squared</th>\n",
       "      <th>mean_y</th>\n",
       "      <th>diff</th>\n",
       "    </tr>\n",
       "  </thead>\n",
       "  <tbody>\n",
       "    <tr>\n",
       "      <th>1647782</th>\n",
       "      <td>E12</td>\n",
       "      <td>Medical Incident</td>\n",
       "      <td>94117</td>\n",
       "      <td>12</td>\n",
       "      <td>5143.0</td>\n",
       "      <td>1</td>\n",
       "      <td>ENGINE</td>\n",
       "      <td>1</td>\n",
       "      <td>5</td>\n",
       "      <td>Haight Ashbury</td>\n",
       "      <td>109.0</td>\n",
       "      <td>23</td>\n",
       "      <td>0</td>\n",
       "      <td>1</td>\n",
       "      <td>0</td>\n",
       "      <td>37.765401</td>\n",
       "      <td>-122.446920</td>\n",
       "      <td>798.0</td>\n",
       "      <td>722.345832</td>\n",
       "      <td>75.654168</td>\n",
       "      <td>5.723553e+03</td>\n",
       "      <td>1556.89221</td>\n",
       "      <td>-758.89221</td>\n",
       "    </tr>\n",
       "    <tr>\n",
       "      <th>1647783</th>\n",
       "      <td>M21</td>\n",
       "      <td>Medical Incident</td>\n",
       "      <td>94117</td>\n",
       "      <td>12</td>\n",
       "      <td>5143.0</td>\n",
       "      <td>1</td>\n",
       "      <td>MEDIC</td>\n",
       "      <td>2</td>\n",
       "      <td>5</td>\n",
       "      <td>Haight Ashbury</td>\n",
       "      <td>109.0</td>\n",
       "      <td>23</td>\n",
       "      <td>0</td>\n",
       "      <td>1</td>\n",
       "      <td>1</td>\n",
       "      <td>37.765401</td>\n",
       "      <td>-122.446920</td>\n",
       "      <td>2715.0</td>\n",
       "      <td>3140.823522</td>\n",
       "      <td>-425.823522</td>\n",
       "      <td>1.813257e+05</td>\n",
       "      <td>1556.89221</td>\n",
       "      <td>1158.10779</td>\n",
       "    </tr>\n",
       "    <tr>\n",
       "      <th>1647784</th>\n",
       "      <td>84</td>\n",
       "      <td>Medical Incident</td>\n",
       "      <td>94102</td>\n",
       "      <td>1</td>\n",
       "      <td>1455.0</td>\n",
       "      <td>1</td>\n",
       "      <td>MEDIC</td>\n",
       "      <td>1</td>\n",
       "      <td>2</td>\n",
       "      <td>Tenderloin</td>\n",
       "      <td>111.0</td>\n",
       "      <td>23</td>\n",
       "      <td>0</td>\n",
       "      <td>2</td>\n",
       "      <td>1</td>\n",
       "      <td>37.781119</td>\n",
       "      <td>-122.412597</td>\n",
       "      <td>3340.0</td>\n",
       "      <td>3260.039377</td>\n",
       "      <td>79.960623</td>\n",
       "      <td>6.393701e+03</td>\n",
       "      <td>1556.89221</td>\n",
       "      <td>1783.10779</td>\n",
       "    </tr>\n",
       "    <tr>\n",
       "      <th>1647785</th>\n",
       "      <td>E03</td>\n",
       "      <td>Medical Incident</td>\n",
       "      <td>94102</td>\n",
       "      <td>1</td>\n",
       "      <td>1455.0</td>\n",
       "      <td>1</td>\n",
       "      <td>ENGINE</td>\n",
       "      <td>2</td>\n",
       "      <td>2</td>\n",
       "      <td>Tenderloin</td>\n",
       "      <td>111.0</td>\n",
       "      <td>23</td>\n",
       "      <td>0</td>\n",
       "      <td>2</td>\n",
       "      <td>0</td>\n",
       "      <td>37.781119</td>\n",
       "      <td>-122.412597</td>\n",
       "      <td>312.0</td>\n",
       "      <td>430.143349</td>\n",
       "      <td>-118.143349</td>\n",
       "      <td>1.395785e+04</td>\n",
       "      <td>1556.89221</td>\n",
       "      <td>-1244.89221</td>\n",
       "    </tr>\n",
       "    <tr>\n",
       "      <th>1647787</th>\n",
       "      <td>E14</td>\n",
       "      <td>Citizen Assist / Service Call</td>\n",
       "      <td>94121</td>\n",
       "      <td>14</td>\n",
       "      <td>7217.0</td>\n",
       "      <td>1</td>\n",
       "      <td>ENGINE</td>\n",
       "      <td>1</td>\n",
       "      <td>7</td>\n",
       "      <td>Outer Richmond</td>\n",
       "      <td>142.0</td>\n",
       "      <td>23</td>\n",
       "      <td>0</td>\n",
       "      <td>6</td>\n",
       "      <td>0</td>\n",
       "      <td>37.784762</td>\n",
       "      <td>-122.486225</td>\n",
       "      <td>3744.0</td>\n",
       "      <td>1077.388498</td>\n",
       "      <td>2666.611502</td>\n",
       "      <td>7.110817e+06</td>\n",
       "      <td>1556.89221</td>\n",
       "      <td>2187.10779</td>\n",
       "    </tr>\n",
       "  </tbody>\n",
       "</table>\n",
       "</div>"
      ],
      "text/plain": [
       "        Unit ID                      Call Type  Zipcode of Incident  \\\n",
       "1647782     E12               Medical Incident                94117   \n",
       "1647783     M21               Medical Incident                94117   \n",
       "1647784      84               Medical Incident                94102   \n",
       "1647785     E03               Medical Incident                94102   \n",
       "1647787     E14  Citizen Assist / Service Call                94121   \n",
       "\n",
       "        Station Area     Box  Number of Alarms Unit Type  \\\n",
       "1647782           12  5143.0                 1    ENGINE   \n",
       "1647783           12  5143.0                 1     MEDIC   \n",
       "1647784            1  1455.0                 1     MEDIC   \n",
       "1647785            1  1455.0                 1    ENGINE   \n",
       "1647787           14  7217.0                 1    ENGINE   \n",
       "\n",
       "         Unit sequence in call dispatch Fire Prevention District  \\\n",
       "1647782                               1                        5   \n",
       "1647783                               2                        5   \n",
       "1647784                               1                        2   \n",
       "1647785                               2                        2   \n",
       "1647787                               1                        7   \n",
       "\n",
       "        Neighborhooods - Analysis Boundaries  Call to Dispatch  Weekofyear  \\\n",
       "1647782                       Haight Ashbury             109.0          23   \n",
       "1647783                       Haight Ashbury             109.0          23   \n",
       "1647784                           Tenderloin             111.0          23   \n",
       "1647785                           Tenderloin             111.0          23   \n",
       "1647787                       Outer Richmond             142.0          23   \n",
       "\n",
       "         Hours  Minutes  Hospital or Transport          0           1  y_test  \\\n",
       "1647782      0        1                      0  37.765401 -122.446920   798.0   \n",
       "1647783      0        1                      1  37.765401 -122.446920  2715.0   \n",
       "1647784      0        2                      1  37.781119 -122.412597  3340.0   \n",
       "1647785      0        2                      0  37.781119 -122.412597   312.0   \n",
       "1647787      0        6                      0  37.784762 -122.486225  3744.0   \n",
       "\n",
       "              y_pred  y_test-y_pred  y_test-y_pred_squared      mean_y  \\\n",
       "1647782   722.345832      75.654168           5.723553e+03  1556.89221   \n",
       "1647783  3140.823522    -425.823522           1.813257e+05  1556.89221   \n",
       "1647784  3260.039377      79.960623           6.393701e+03  1556.89221   \n",
       "1647785   430.143349    -118.143349           1.395785e+04  1556.89221   \n",
       "1647787  1077.388498    2666.611502           7.110817e+06  1556.89221   \n",
       "\n",
       "               diff  \n",
       "1647782  -758.89221  \n",
       "1647783  1158.10779  \n",
       "1647784  1783.10779  \n",
       "1647785 -1244.89221  \n",
       "1647787  2187.10779  "
      ]
     },
     "execution_count": 63,
     "metadata": {},
     "output_type": "execute_result"
    }
   ],
   "source": [
    "XYY = X_test.copy()\n",
    "XYY['y_test'] = y_test\n",
    "XYY['y_pred'] = pred\n",
    "XYY['y_test-y_pred'] = XYY['y_test']-XYY['y_pred']\n",
    "XYY['y_test-y_pred_squared'] = XYY['y_test-y_pred']**2\n",
    "mean_y = XYY['y_pred'].mean()\n",
    "XYY['mean_y'] = mean_y\n",
    "XYY['diff'] = XYY['y_test']-XYY['mean_y']\n",
    "XYY.head(5)"
   ]
  },
  {
   "cell_type": "code",
   "execution_count": 64,
   "metadata": {},
   "outputs": [],
   "source": [
    "mae = (abs(XYY['y_test-y_pred']).sum())/len(XYY['y_test-y_pred'])\n",
    "mse = (XYY['y_test-y_pred']**2).sum()/len(XYY['y_test-y_pred'])\n",
    "rmse = mse**0.5\n",
    "determanation_score = 1-((XYY['y_test-y_pred']**2).sum())/((XYY['diff']**2).sum())"
   ]
  },
  {
   "cell_type": "code",
   "execution_count": 65,
   "metadata": {},
   "outputs": [
    {
     "data": {
      "text/plain": [
       "590.0762675548675"
      ]
     },
     "execution_count": 65,
     "metadata": {},
     "output_type": "execute_result"
    }
   ],
   "source": [
    "mae"
   ]
  },
  {
   "cell_type": "code",
   "execution_count": 66,
   "metadata": {
    "scrolled": true
   },
   "outputs": [
    {
     "data": {
      "text/plain": [
       "920876.1543170215"
      ]
     },
     "execution_count": 66,
     "metadata": {},
     "output_type": "execute_result"
    }
   ],
   "source": [
    "mse"
   ]
  },
  {
   "cell_type": "code",
   "execution_count": 67,
   "metadata": {},
   "outputs": [
    {
     "data": {
      "text/plain": [
       "959.6229229843467"
      ]
     },
     "execution_count": 67,
     "metadata": {},
     "output_type": "execute_result"
    }
   ],
   "source": [
    "rmse"
   ]
  },
  {
   "cell_type": "code",
   "execution_count": 68,
   "metadata": {},
   "outputs": [
    {
     "data": {
      "text/plain": [
       "0.6680257973504993"
      ]
     },
     "execution_count": 68,
     "metadata": {},
     "output_type": "execute_result"
    }
   ],
   "source": [
    "determanation_score"
   ]
  },
  {
   "cell_type": "code",
   "execution_count": 25,
   "metadata": {},
   "outputs": [
    {
     "name": "stdout",
     "output_type": "stream",
     "text": [
      "mae_mean: 1321.861401961035\n",
      "mse_mean: 2787813.019818711\n",
      "mrse_mean: 1669.6745251152126\n"
     ]
    }
   ],
   "source": [
    "#scores compare to mean\n",
    "total_mean = y_train.mean()\n",
    "mae_mean = (abs(XYY['y_test']-total_mean).sum())/len(XYY['y_test-y_pred'])\n",
    "print('mae_mean: '+ str(mae_mean))\n",
    "mse_mean = ((XYY['y_test']-total_mean)**2).sum()/len(XYY['y_test-y_pred'])\n",
    "print('mse_mean: '+ str(mse_mean))\n",
    "rmse_mean = mse_mean**0.5\n",
    "print('mrse_mean: '+ str(rmse_mean))"
   ]
  },
  {
   "cell_type": "code",
   "execution_count": 26,
   "metadata": {},
   "outputs": [
    {
     "data": {
      "text/plain": [
       "[('Unit ID', 3.5261619709332623),\n",
       " ('Call Type', 4.846185573847623),\n",
       " ('Zipcode of Incident', 1.7027669113551278),\n",
       " ('Station Area', 1.3459119047897528),\n",
       " ('Box', 2.8370940277866565),\n",
       " ('Number of Alarms', 14.061306561784868),\n",
       " ('Unit Type', 10.852290158303887),\n",
       " ('Unit sequence in call dispatch', 6.814616897523427),\n",
       " ('Fire Prevention District', 1.5079524017537211),\n",
       " ('Neighborhooods - Analysis Boundaries', 1.4758541918679036),\n",
       " ('Call to Dispatch', 3.4364287588214983),\n",
       " ('Weekofyear', 1.1681765828665176),\n",
       " ('Hours', 3.6451127079461307),\n",
       " ('Minutes', 1.133360747710849),\n",
       " ('Hospital or Transport', 36.29725153999676),\n",
       " (0, 2.80335721626495),\n",
       " (1, 2.546171846447061)]"
      ]
     },
     "execution_count": 26,
     "metadata": {},
     "output_type": "execute_result"
    }
   ],
   "source": [
    "val = model.get_feature_importance()\n",
    "feat = X_test.columns\n",
    "\n",
    "list(zip(feat,val))"
   ]
  },
  {
   "cell_type": "markdown",
   "metadata": {},
   "source": [
    "[('Battalion', 0.5078027445356504),\n",
    " ('Station Area', 6.135001357254266),\n",
    " ('Box', 9.114046028348575),\n",
    " ('Original Priority', 1.9631004892661137),\n",
    " ('ALS Unit', 0.8674294353822795),\n",
    " ('Call Type Group', 3.333459641176911),\n",
    " ('Unit Type', 41.73743300645736),\n",
    " ('Fire Prevention District', 1.5738692854230882),\n",
    " ('Supervisor District', 1.5693252610655513),\n",
    " ('Month', 0.5003596981995669),\n",
    " ('WeekDay', 0.7519625648056559),\n",
    " ('Weekofyear', 1.623724419771495),\n",
    " ('Hours', 8.179958110857296),\n",
    " ('Minutes', 1.0530441606569498),\n",
    " ('Call Type Merged', 21.08948379679924)]\n",
    " \n",
    " [('Station Area', 6.994516107181966),\n",
    " ('Box', 5.876354709490432),\n",
    " ('Original Priority', 0.9627007503785607),\n",
    " ('Call Type Group', 1.29599635276719),\n",
    " ('Unit Type', 60.51084666020504),\n",
    " ('Fire Prevention District', 0.3122714646717646),\n",
    " ('Supervisor District', 0.5588749902917611),\n",
    " ('Weekofyear', 0.0),\n",
    " ('Hours', 3.0604472528149556),\n",
    " ('Minutes', 0.0),\n",
    " ('Call Type Merged', 20.427991712198327)]"
   ]
  },
  {
   "cell_type": "code",
   "execution_count": null,
   "metadata": {},
   "outputs": [],
   "source": []
  },
  {
   "cell_type": "code",
   "execution_count": 27,
   "metadata": {},
   "outputs": [],
   "source": [
    "import matplotlib.pyplot as plt\n",
    "%matplotlib inline"
   ]
  },
  {
   "cell_type": "code",
   "execution_count": 28,
   "metadata": {},
   "outputs": [
    {
     "data": {
      "image/png": "[encoded data removed]",
      "text/plain": [
       "<matplotlib.figure.Figure at 0x1a21d64e80>"
      ]
     },
     "metadata": {},
     "output_type": "display_data"
    }
   ],
   "source": [
    "XYY = XYY.sort_values('y_test')\n",
    "plt.figure(figsize=(15,10))\n",
    "plt.scatter(XYY.index, XYY['y_test'].sort_values(), color='b')\n",
    "plt.scatter(XYY.index, XYY['y_pred'], color='g')\n",
    "plt.show()"
   ]
  },
  {
   "cell_type": "code",
   "execution_count": 47,
   "metadata": {},
   "outputs": [
    {
     "data": {
      "text/plain": [
       "<matplotlib.collections.PathCollection at 0x1a1f67da90>"
      ]
     },
     "execution_count": 47,
     "metadata": {},
     "output_type": "execute_result"
    },
    {
     "data": {
      "image/png": "[encoded data removed]",
      "text/plain": [
       "<matplotlib.figure.Figure at 0x1a1f21a550>"
      ]
     },
     "metadata": {},
     "output_type": "display_data"
    }
   ],
   "source": [
    "plt.scatter(range(0,12957), df1['Respond to Available'].value_counts())"
   ]
  },
  {
   "cell_type": "code",
   "execution_count": 82,
   "metadata": {},
   "outputs": [
    {
     "data": {
      "text/plain": [
       "Unit ID                                 191\n",
       "Call Type                               191\n",
       "Zipcode of Incident                     191\n",
       "Station Area                            191\n",
       "Box                                     191\n",
       "Number of Alarms                        191\n",
       "Unit Type                               191\n",
       "Unit sequence in call dispatch          191\n",
       "Fire Prevention District                191\n",
       "Neighborhooods - Analysis Boundaries    191\n",
       "Respond to Available                    191\n",
       "Call to Dispatch                        191\n",
       "Weekofyear                              191\n",
       "Hours                                   191\n",
       "Minutes                                 191\n",
       "Hospital or Transport                   191\n",
       "0                                       191\n",
       "1                                       191\n",
       "dtype: int64"
      ]
     },
     "execution_count": 82,
     "metadata": {},
     "output_type": "execute_result"
    }
   ],
   "source": [
    "df1[df1['Respond to Available']> 25n000].count()  #2046293"
   ]
  },
  {
   "cell_type": "markdown",
   "metadata": {},
   "source": [
    "###### df1[df['Respond to Available']==0]"
   ]
  },
  {
   "cell_type": "code",
   "execution_count": 65,
   "metadata": {},
   "outputs": [
    {
     "data": {
      "text/plain": [
       "389"
      ]
     },
     "execution_count": 65,
     "metadata": {},
     "output_type": "execute_result"
    }
   ],
   "source": []
  }
 ],
 "metadata": {
  "kernelspec": {
   "display_name": "Python 3",
   "language": "python",
   "name": "python3"
  },
  "language_info": {
   "codemirror_mode": {
    "name": "ipython",
    "version": 3
   },
   "file_extension": ".py",
   "mimetype": "text/x-python",
   "name": "python",
   "nbconvert_exporter": "python",
   "pygments_lexer": "ipython3",
   "version": "3.6.5"
  }
 },
 "nbformat": 4,
 "nbformat_minor": 2
}
