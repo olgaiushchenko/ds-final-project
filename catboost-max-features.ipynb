{
 "cells": [
  {
   "cell_type": "code",
   "execution_count": 1,
   "metadata": {},
   "outputs": [],
   "source": [
    "%load_ext autoreload\n",
    "%autoreload 2\n",
    "\n",
    "import pandas as pd\n",
    "import numpy as np\n",
    "pd.set_option('display.max_columns', 999)"
   ]
  },
  {
   "cell_type": "code",
   "execution_count": 2,
   "metadata": {},
   "outputs": [],
   "source": [
    "from sklearn.model_selection import train_test_split\n",
    "from catboost import Pool, CatBoostRegressor"
   ]
  },
  {
   "cell_type": "code",
   "execution_count": 3,
   "metadata": {
    "scrolled": true
   },
   "outputs": [
    {
     "name": "stderr",
     "output_type": "stream",
     "text": [
      "/anaconda3/lib/python3.6/site-packages/IPython/core/interactiveshell.py:2728: DtypeWarning: Columns (19,25) have mixed types. Specify dtype option on import or set low_memory=False.\n",
      "  interactivity=interactivity, compiler=compiler, result=result)\n"
     ]
    }
   ],
   "source": [
    "df = pd.read_csv('Fire_Dep_Call_50%.csv')"
   ]
  },
  {
   "cell_type": "code",
   "execution_count": 4,
   "metadata": {},
   "outputs": [],
   "source": [
    "cols = ['Available DtTm', 'Response DtTm', 'Dispatch DtTm', 'Received DtTm']\n",
    "for col in cols:\n",
    "    df[col] = pd.to_datetime(df[col], format='%m/%d/%Y %I:%M:%S %p', infer_datetime_format=True)\n",
    "\n",
    "df['Respond to Available'] = df['Available DtTm'] - df['Response DtTm']\n",
    "df['Call to Dispatch'] = df['Dispatch DtTm'] - df['Received DtTm']\n",
    "\n",
    "time_cols = ['Respond to Available', 'Call to Dispatch']\n",
    "df[time_cols] = df[time_cols].applymap(lambda t: t.total_seconds())\n",
    "df[time_cols] = df[time_cols].applymap(lambda x: max(x,0))"
   ]
  },
  {
   "cell_type": "code",
   "execution_count": 5,
   "metadata": {},
   "outputs": [],
   "source": [
    "df['Month'] = df['Received DtTm'].dt.month\n",
    "df['WeekDay'] = df['Received DtTm'].dt.weekday\n",
    "df['Weekofyear'] = df['Received DtTm'].dt.weekofyear\n",
    "df['Hours'] = df['Received DtTm'].dt.hour\n",
    "df['Minutes'] = df['Received DtTm'].dt.minute\n",
    "\n",
    "#---------added----------columns for hospital or transport\n",
    "df['Hospital or Transport'] = (~(df['Transport DtTm'].isna() & df['Hospital DtTm'].isna())).astype('int')"
   ]
  },
  {
   "cell_type": "code",
   "execution_count": 6,
   "metadata": {},
   "outputs": [],
   "source": [
    "def fill_na(df):\n",
    "    q = df['Original Priority'].value_counts(normalize=True) #counts share of valeus in col w/o N/A\n",
    "    orig_prio_list = q.index.tolist()  #makes indeces(priorities types) to a list\n",
    "    orig_prio_shares = q.tolist() #makes values of shares a list\n",
    "    df['Original Priority'] = df['Original Priority'].fillna(pd.Series(np.random.choice(orig_prio_list, p=orig_prio_shares, size=len(df))))\n",
    "\n",
    "    w = df['Call Type Group'].value_counts(normalize=True) #counts share of values in col w/o N/A\n",
    "    call_types_list = w.index.tolist()  #makes indeces(priorities types) to a list\n",
    "    call_types_shares = w.tolist() #makes values of shares a list\n",
    "    df['Call Type Group'] = df['Call Type Group'].fillna(pd.Series(np.random.choice(call_types_list, p=call_types_shares, size=len(df))))\n",
    "    \n",
    "fill_na(df)\n",
    "\n",
    "if((df['Zipcode of Incident'].nunique()) <= (df['Neighborhooods - Analysis Boundaries'].nunique())):\n",
    "    zipcodes = df[['Neighborhooods - Analysis Boundaries','Zipcode of Incident']]\n",
    "    zipcodes = zipcodes[zipcodes['Zipcode of Incident'].notnull()]\n",
    "    zips= list(zipcodes['Zipcode of Incident'].values)\n",
    "    nbhds= list(zipcodes['Neighborhooods - Analysis Boundaries'].values)\n",
    "    if len(zips) == len(nbhds):\n",
    "        zipcodes_dict=dict(zip(nbhds,zips))\n",
    "\n",
    "    else: \n",
    "        print('Count unique zipcodes != count neighborhooods, something went wrong.')\n",
    "else:\n",
    "    print('More zipcodes than neighborhooods, we need new strategy!')\n",
    "\n",
    "df['Zipcode of Incident'] = df['Zipcode of Incident'].fillna(df['Neighborhooods - Analysis Boundaries'].map(zipcodes_dict))\n",
    "df['Zipcode of Incident'] = df['Zipcode of Incident'].astype(int)"
   ]
  },
  {
   "cell_type": "code",
   "execution_count": 7,
   "metadata": {},
   "outputs": [],
   "source": [
    "df['Location'] = df['Location'].astype(tuple)\n",
    "locations = df['Location'].str[1:-1].str.split(',', expand=True).astype(float)\n",
    "df[locations.columns]= locations"
   ]
  },
  {
   "cell_type": "code",
   "execution_count": 8,
   "metadata": {},
   "outputs": [],
   "source": [
    "#only not null, not zero and less that 10 hours to solve\n",
    "df = df[(df['Respond to Available'].notnull()) & (df['Respond to Available'] <= 36000) & (df['Respond to Available']!=0)]"
   ]
  },
  {
   "cell_type": "code",
   "execution_count": 9,
   "metadata": {},
   "outputs": [
    {
     "data": {
      "text/plain": [
       "(2046497, 44)"
      ]
     },
     "execution_count": 9,
     "metadata": {},
     "output_type": "execute_result"
    }
   ],
   "source": [
    "df.shape"
   ]
  },
  {
   "cell_type": "code",
   "execution_count": 61,
   "metadata": {},
   "outputs": [],
   "source": [
    "#------cancelled dropping of 'Call to Dispatch','Minutes','Month', 'WeekDay', 'Call Type', \n",
    "df1 = df.drop(columns=['Call Number', 'Incident Number', 'Call Type Group', 'Call Date', 'Watch Date', \n",
    "                      'Received DtTm', 'Entry DtTm', 'Dispatch DtTm','Response DtTm', 'On Scene DtTm',\n",
    "                      'Transport DtTm','Hospital DtTm', 'Call Final Disposition', 'Available DtTm',\n",
    "                      'Supervisor District', 'Original Priority',\n",
    "                      'Address', 'City', 'Priority', 'Final Priority',  'Location', 'Month', 'WeekDay',  \n",
    "                      'RowID', 'Battalion', 'ALS Unit'], errors='ignore')"
   ]
  },
  {
   "cell_type": "code",
   "execution_count": 62,
   "metadata": {},
   "outputs": [],
   "source": [
    "df1 = df1.dropna(how='any') "
   ]
  },
  {
   "cell_type": "code",
   "execution_count": 63,
   "metadata": {},
   "outputs": [
    {
     "data": {
      "text/plain": [
       "(2046213, 18)"
      ]
     },
     "execution_count": 63,
     "metadata": {},
     "output_type": "execute_result"
    }
   ],
   "source": [
    "df1.shape"
   ]
  },
  {
   "cell_type": "code",
   "execution_count": 64,
   "metadata": {},
   "outputs": [],
   "source": [
    "y = df1['Respond to Available']\n",
    "X = df1.drop(columns=['Respond to Available'])\n",
    "X_train, X_test, y_train, y_test = train_test_split(X, y, test_size=0.3, shuffle=False)"
   ]
  },
  {
   "cell_type": "code",
   "execution_count": 65,
   "metadata": {},
   "outputs": [
    {
     "name": "stdout",
     "output_type": "stream",
     "text": [
      "<class 'pandas.core.frame.DataFrame'>\n",
      "Int64Index: 1432349 entries, 1 to 1650123\n",
      "Data columns (total 17 columns):\n",
      "Unit ID                                 1432349 non-null object\n",
      "Call Type                               1432349 non-null object\n",
      "Zipcode of Incident                     1432349 non-null int64\n",
      "Station Area                            1432349 non-null object\n",
      "Box                                     1432349 non-null float64\n",
      "Number of Alarms                        1432349 non-null int64\n",
      "Unit Type                               1432349 non-null object\n",
      "Unit sequence in call dispatch          1432349 non-null int64\n",
      "Fire Prevention District                1432349 non-null object\n",
      "Neighborhooods - Analysis Boundaries    1432349 non-null object\n",
      "Call to Dispatch                        1432349 non-null float64\n",
      "Weekofyear                              1432349 non-null int64\n",
      "Hours                                   1432349 non-null int64\n",
      "Minutes                                 1432349 non-null int64\n",
      "Hospital or Transport                   1432349 non-null int64\n",
      "0                                       1432349 non-null float64\n",
      "1                                       1432349 non-null float64\n",
      "dtypes: float64(4), int64(7), object(6)\n",
      "memory usage: 196.7+ MB\n"
     ]
    }
   ],
   "source": [
    "X_train.info()"
   ]
  },
  {
   "cell_type": "code",
   "execution_count": 66,
   "metadata": {},
   "outputs": [],
   "source": [
    "cat_features=[\n",
    "    0,\n",
    "    1,\n",
    "    3,\n",
    "    6,\n",
    "    8,\n",
    "    9\n",
    "]"
   ]
  },
  {
   "cell_type": "code",
   "execution_count": 67,
   "metadata": {},
   "outputs": [],
   "source": [
    "train_pool = Pool(X_train, y_train, cat_features=cat_features)\n",
    "test_pool = Pool(X_test, cat_features=cat_features)"
   ]
  },
  {
   "cell_type": "code",
   "execution_count": 119,
   "metadata": {
    "scrolled": true
   },
   "outputs": [
    {
     "name": "stdout",
     "output_type": "stream",
     "text": [
      "0:\tlearn: 2014.2305565\ttotal: 3.85s\tremaining: 25m 36s\n",
      "1:\tlearn: 1874.7268494\ttotal: 7.26s\tremaining: 24m 4s\n",
      "2:\tlearn: 1753.0775298\ttotal: 10.1s\tremaining: 22m 15s\n",
      "3:\tlearn: 1647.7645719\ttotal: 12.8s\tremaining: 21m 2s\n",
      "4:\tlearn: 1556.9096384\ttotal: 16.2s\tremaining: 21m 23s\n",
      "5:\tlearn: 1478.9410021\ttotal: 20.1s\tremaining: 22m 1s\n",
      "6:\tlearn: 1412.4654579\ttotal: 23s\tremaining: 21m 33s\n",
      "7:\tlearn: 1355.4894147\ttotal: 26.3s\tremaining: 21m 30s\n",
      "8:\tlearn: 1306.8955262\ttotal: 29.9s\tremaining: 21m 39s\n",
      "9:\tlearn: 1265.2569568\ttotal: 32.5s\tremaining: 21m 9s\n",
      "10:\tlearn: 1230.7342884\ttotal: 35.9s\tremaining: 21m 8s\n",
      "11:\tlearn: 1202.2206791\ttotal: 38.8s\tremaining: 20m 52s\n",
      "12:\tlearn: 1177.4916113\ttotal: 41.9s\tremaining: 20m 46s\n",
      "13:\tlearn: 1157.0509987\ttotal: 45.3s\tremaining: 20m 47s\n",
      "14:\tlearn: 1139.9434402\ttotal: 49.7s\tremaining: 21m 14s\n",
      "15:\tlearn: 1125.8058868\ttotal: 53.1s\tremaining: 21m 14s\n",
      "16:\tlearn: 1114.0853277\ttotal: 57s\tremaining: 21m 25s\n",
      "17:\tlearn: 1104.0025982\ttotal: 1m 1s\tremaining: 21m 41s\n",
      "18:\tlearn: 1094.6550656\ttotal: 1m 5s\tremaining: 21m 45s\n",
      "19:\tlearn: 1086.8160423\ttotal: 1m 9s\tremaining: 21m 53s\n",
      "20:\tlearn: 1079.4387857\ttotal: 1m 12s\tremaining: 21m 49s\n",
      "21:\tlearn: 1073.5002530\ttotal: 1m 15s\tremaining: 21m 41s\n",
      "22:\tlearn: 1068.8014263\ttotal: 1m 18s\tremaining: 21m 26s\n",
      "23:\tlearn: 1064.5935324\ttotal: 1m 22s\tremaining: 21m 25s\n",
      "24:\tlearn: 1061.2207759\ttotal: 1m 25s\tremaining: 21m 25s\n",
      "25:\tlearn: 1058.4010543\ttotal: 1m 29s\tremaining: 21m 26s\n",
      "26:\tlearn: 1055.9268396\ttotal: 1m 33s\tremaining: 21m 27s\n",
      "27:\tlearn: 1053.4009251\ttotal: 1m 36s\tremaining: 21m 28s\n",
      "28:\tlearn: 1051.2617278\ttotal: 1m 40s\tremaining: 21m 21s\n",
      "29:\tlearn: 1049.6302972\ttotal: 1m 43s\tremaining: 21m 19s\n",
      "30:\tlearn: 1047.6311230\ttotal: 1m 48s\tremaining: 21m 27s\n",
      "31:\tlearn: 1046.0128243\ttotal: 1m 52s\tremaining: 21m 33s\n",
      "32:\tlearn: 1044.3927810\ttotal: 1m 56s\tremaining: 21m 31s\n",
      "33:\tlearn: 1042.9164869\ttotal: 1m 59s\tremaining: 21m 25s\n",
      "34:\tlearn: 1041.4612815\ttotal: 2m 3s\tremaining: 21m 24s\n",
      "35:\tlearn: 1040.0888493\ttotal: 2m 7s\tremaining: 21m 25s\n",
      "36:\tlearn: 1039.1765101\ttotal: 2m 10s\tremaining: 21m 25s\n",
      "37:\tlearn: 1038.3020486\ttotal: 2m 15s\tremaining: 21m 28s\n",
      "38:\tlearn: 1037.2468272\ttotal: 2m 19s\tremaining: 21m 32s\n",
      "39:\tlearn: 1036.3905758\ttotal: 2m 23s\tremaining: 21m 29s\n",
      "40:\tlearn: 1035.7601707\ttotal: 2m 28s\tremaining: 21m 37s\n",
      "41:\tlearn: 1035.1036208\ttotal: 2m 32s\tremaining: 21m 38s\n",
      "42:\tlearn: 1034.3947220\ttotal: 2m 35s\tremaining: 21m 34s\n",
      "43:\tlearn: 1033.7264752\ttotal: 2m 39s\tremaining: 21m 32s\n",
      "44:\tlearn: 1033.1459182\ttotal: 2m 43s\tremaining: 21m 32s\n",
      "45:\tlearn: 1032.5465360\ttotal: 2m 47s\tremaining: 21m 25s\n",
      "46:\tlearn: 1031.9207600\ttotal: 2m 50s\tremaining: 21m 22s\n",
      "47:\tlearn: 1031.3066672\ttotal: 2m 54s\tremaining: 21m 16s\n",
      "48:\tlearn: 1030.5601507\ttotal: 2m 57s\tremaining: 21m 8s\n",
      "49:\tlearn: 1030.0762703\ttotal: 2m 59s\tremaining: 20m 59s\n",
      "50:\tlearn: 1029.1217492\ttotal: 3m 2s\tremaining: 20m 50s\n",
      "51:\tlearn: 1028.7072965\ttotal: 3m 5s\tremaining: 20m 43s\n",
      "52:\tlearn: 1027.9072281\ttotal: 3m 8s\tremaining: 20m 35s\n",
      "53:\tlearn: 1027.5476957\ttotal: 3m 13s\tremaining: 20m 36s\n",
      "54:\tlearn: 1027.1961236\ttotal: 3m 17s\tremaining: 20m 36s\n",
      "55:\tlearn: 1026.3441119\ttotal: 3m 21s\tremaining: 20m 39s\n",
      "56:\tlearn: 1026.0324384\ttotal: 3m 25s\tremaining: 20m 37s\n",
      "57:\tlearn: 1025.5696465\ttotal: 3m 30s\tremaining: 20m 38s\n",
      "58:\tlearn: 1024.8706762\ttotal: 3m 34s\tremaining: 20m 36s\n",
      "59:\tlearn: 1024.5369241\ttotal: 3m 37s\tremaining: 20m 34s\n",
      "60:\tlearn: 1023.8853114\ttotal: 3m 41s\tremaining: 20m 32s\n",
      "61:\tlearn: 1023.3248244\ttotal: 3m 45s\tremaining: 20m 31s\n",
      "62:\tlearn: 1022.9619313\ttotal: 3m 50s\tremaining: 20m 30s\n",
      "63:\tlearn: 1022.5756640\ttotal: 3m 53s\tremaining: 20m 27s\n",
      "64:\tlearn: 1022.2706687\ttotal: 3m 57s\tremaining: 20m 22s\n",
      "65:\tlearn: 1021.9682358\ttotal: 4m 1s\tremaining: 20m 21s\n",
      "66:\tlearn: 1021.6622146\ttotal: 4m 5s\tremaining: 20m 17s\n",
      "67:\tlearn: 1021.0714230\ttotal: 4m 8s\tremaining: 20m 12s\n",
      "68:\tlearn: 1020.4987748\ttotal: 4m 11s\tremaining: 20m 7s\n",
      "69:\tlearn: 1020.1467305\ttotal: 4m 15s\tremaining: 20m 3s\n",
      "70:\tlearn: 1019.5519357\ttotal: 4m 18s\tremaining: 19m 59s\n",
      "71:\tlearn: 1018.9111147\ttotal: 4m 22s\tremaining: 19m 54s\n",
      "72:\tlearn: 1018.5824787\ttotal: 4m 26s\tremaining: 19m 51s\n",
      "73:\tlearn: 1018.2647314\ttotal: 4m 29s\tremaining: 19m 47s\n",
      "74:\tlearn: 1017.8675006\ttotal: 4m 32s\tremaining: 19m 41s\n",
      "75:\tlearn: 1017.5670038\ttotal: 4m 36s\tremaining: 19m 37s\n",
      "76:\tlearn: 1017.2865539\ttotal: 4m 40s\tremaining: 19m 35s\n",
      "77:\tlearn: 1017.1623481\ttotal: 4m 44s\tremaining: 19m 33s\n",
      "78:\tlearn: 1016.5518446\ttotal: 4m 47s\tremaining: 19m 29s\n",
      "79:\tlearn: 1016.4032812\ttotal: 4m 53s\tremaining: 19m 33s\n",
      "80:\tlearn: 1016.0290986\ttotal: 4m 56s\tremaining: 19m 28s\n",
      "81:\tlearn: 1015.6059177\ttotal: 5m\tremaining: 19m 23s\n",
      "82:\tlearn: 1015.3006302\ttotal: 5m 3s\tremaining: 19m 18s\n",
      "83:\tlearn: 1015.1044807\ttotal: 5m 6s\tremaining: 19m 12s\n",
      "84:\tlearn: 1014.8407244\ttotal: 5m 9s\tremaining: 19m 6s\n",
      "85:\tlearn: 1014.4532367\ttotal: 5m 12s\tremaining: 19m 2s\n",
      "86:\tlearn: 1014.1941654\ttotal: 5m 15s\tremaining: 18m 56s\n",
      "87:\tlearn: 1013.5909006\ttotal: 5m 18s\tremaining: 18m 50s\n",
      "88:\tlearn: 1013.3924570\ttotal: 5m 22s\tremaining: 18m 47s\n",
      "89:\tlearn: 1013.1616203\ttotal: 5m 25s\tremaining: 18m 42s\n",
      "90:\tlearn: 1012.9835857\ttotal: 5m 29s\tremaining: 18m 39s\n",
      "91:\tlearn: 1012.8740752\ttotal: 5m 33s\tremaining: 18m 36s\n",
      "92:\tlearn: 1012.5596118\ttotal: 5m 37s\tremaining: 18m 34s\n",
      "93:\tlearn: 1012.1443755\ttotal: 5m 42s\tremaining: 18m 34s\n",
      "94:\tlearn: 1012.0281144\ttotal: 5m 47s\tremaining: 18m 34s\n",
      "95:\tlearn: 1011.8427457\ttotal: 5m 51s\tremaining: 18m 33s\n",
      "96:\tlearn: 1011.7314002\ttotal: 5m 54s\tremaining: 18m 27s\n",
      "97:\tlearn: 1011.5280444\ttotal: 5m 58s\tremaining: 18m 23s\n",
      "98:\tlearn: 1011.1730465\ttotal: 6m 1s\tremaining: 18m 17s\n",
      "99:\tlearn: 1010.7053569\ttotal: 6m 3s\tremaining: 18m 11s\n",
      "100:\tlearn: 1010.3089344\ttotal: 6m 6s\tremaining: 18m 6s\n",
      "101:\tlearn: 1009.8839425\ttotal: 6m 10s\tremaining: 18m 3s\n",
      "102:\tlearn: 1009.3636684\ttotal: 6m 13s\tremaining: 17m 57s\n",
      "103:\tlearn: 1009.1396475\ttotal: 6m 17s\tremaining: 17m 54s\n",
      "104:\tlearn: 1008.6771860\ttotal: 6m 22s\tremaining: 17m 54s\n",
      "105:\tlearn: 1008.5947070\ttotal: 6m 26s\tremaining: 17m 53s\n",
      "106:\tlearn: 1008.3582874\ttotal: 6m 31s\tremaining: 17m 50s\n",
      "107:\tlearn: 1008.2182276\ttotal: 6m 35s\tremaining: 17m 49s\n",
      "108:\tlearn: 1007.9760595\ttotal: 6m 39s\tremaining: 17m 46s\n",
      "109:\tlearn: 1007.8361851\ttotal: 6m 42s\tremaining: 17m 42s\n",
      "110:\tlearn: 1007.6054033\ttotal: 6m 47s\tremaining: 17m 41s\n",
      "111:\tlearn: 1007.3984805\ttotal: 6m 52s\tremaining: 17m 39s\n",
      "112:\tlearn: 1007.3393554\ttotal: 6m 56s\tremaining: 17m 37s\n",
      "113:\tlearn: 1007.2506119\ttotal: 7m\tremaining: 17m 34s\n",
      "114:\tlearn: 1007.0562910\ttotal: 7m 4s\tremaining: 17m 31s\n",
      "115:\tlearn: 1006.6901341\ttotal: 7m 7s\tremaining: 17m 25s\n",
      "116:\tlearn: 1006.3844401\ttotal: 7m 10s\tremaining: 17m 20s\n",
      "117:\tlearn: 1006.3071569\ttotal: 7m 14s\tremaining: 17m 17s\n",
      "118:\tlearn: 1006.0901269\ttotal: 7m 18s\tremaining: 17m 14s\n",
      "119:\tlearn: 1006.0237233\ttotal: 7m 20s\tremaining: 17m 8s\n",
      "120:\tlearn: 1005.5847646\ttotal: 7m 24s\tremaining: 17m 4s\n",
      "121:\tlearn: 1005.3160180\ttotal: 7m 27s\tremaining: 17m\n",
      "122:\tlearn: 1005.2476960\ttotal: 7m 31s\tremaining: 16m 56s\n",
      "123:\tlearn: 1005.0715213\ttotal: 7m 38s\tremaining: 16m 59s\n",
      "124:\tlearn: 1004.7676685\ttotal: 7m 43s\tremaining: 17m\n",
      "125:\tlearn: 1004.7274775\ttotal: 7m 51s\tremaining: 17m 5s\n",
      "126:\tlearn: 1004.6154808\ttotal: 7m 57s\tremaining: 17m 6s\n",
      "127:\tlearn: 1004.5328404\ttotal: 8m 1s\tremaining: 17m 2s\n",
      "128:\tlearn: 1004.4999067\ttotal: 8m 6s\tremaining: 17m 2s\n",
      "129:\tlearn: 1004.2779333\ttotal: 8m 10s\tremaining: 16m 58s\n",
      "130:\tlearn: 1004.1328039\ttotal: 8m 14s\tremaining: 16m 56s\n",
      "131:\tlearn: 1004.0183780\ttotal: 8m 18s\tremaining: 16m 52s\n",
      "132:\tlearn: 1003.8495678\ttotal: 8m 23s\tremaining: 16m 50s\n",
      "133:\tlearn: 1003.7156494\ttotal: 8m 28s\tremaining: 16m 50s\n",
      "134:\tlearn: 1003.3068640\ttotal: 8m 34s\tremaining: 16m 49s\n",
      "135:\tlearn: 1003.0833480\ttotal: 8m 38s\tremaining: 16m 45s\n",
      "136:\tlearn: 1002.7984615\ttotal: 8m 42s\tremaining: 16m 42s\n",
      "137:\tlearn: 1002.6673895\ttotal: 8m 47s\tremaining: 16m 40s\n",
      "138:\tlearn: 1002.5742746\ttotal: 8m 50s\tremaining: 16m 36s\n",
      "139:\tlearn: 1002.2823923\ttotal: 8m 54s\tremaining: 16m 33s\n",
      "140:\tlearn: 1002.0563942\ttotal: 8m 58s\tremaining: 16m 29s\n",
      "141:\tlearn: 1001.9116699\ttotal: 9m 2s\tremaining: 16m 25s\n",
      "142:\tlearn: 1001.6683888\ttotal: 9m 6s\tremaining: 16m 22s\n",
      "143:\tlearn: 1001.4616530\ttotal: 9m 10s\tremaining: 16m 18s\n",
      "144:\tlearn: 1001.3546826\ttotal: 9m 14s\tremaining: 16m 14s\n"
     ]
    },
    {
     "name": "stdout",
     "output_type": "stream",
     "text": [
      "145:\tlearn: 1001.2661979\ttotal: 9m 17s\tremaining: 16m 9s\n",
      "146:\tlearn: 1001.1542988\ttotal: 9m 21s\tremaining: 16m 6s\n",
      "147:\tlearn: 1000.9429364\ttotal: 9m 25s\tremaining: 16m 2s\n",
      "148:\tlearn: 1000.8634948\ttotal: 9m 28s\tremaining: 15m 58s\n",
      "149:\tlearn: 1000.4957517\ttotal: 9m 32s\tremaining: 15m 54s\n",
      "150:\tlearn: 1000.3983033\ttotal: 9m 36s\tremaining: 15m 50s\n",
      "151:\tlearn: 1000.3485401\ttotal: 9m 39s\tremaining: 15m 45s\n",
      "152:\tlearn: 1000.1738424\ttotal: 9m 43s\tremaining: 15m 41s\n",
      "153:\tlearn: 1000.0333754\ttotal: 9m 47s\tremaining: 15m 38s\n",
      "154:\tlearn: 999.9193090\ttotal: 9m 50s\tremaining: 15m 33s\n",
      "155:\tlearn: 999.7965140\ttotal: 9m 54s\tremaining: 15m 29s\n",
      "156:\tlearn: 999.6493877\ttotal: 9m 58s\tremaining: 15m 25s\n",
      "157:\tlearn: 999.5149540\ttotal: 10m 2s\tremaining: 15m 22s\n",
      "158:\tlearn: 999.3101283\ttotal: 10m 5s\tremaining: 15m 18s\n",
      "159:\tlearn: 999.1123938\ttotal: 10m 9s\tremaining: 15m 14s\n",
      "160:\tlearn: 998.9733963\ttotal: 10m 13s\tremaining: 15m 11s\n",
      "161:\tlearn: 998.8940228\ttotal: 10m 17s\tremaining: 15m 7s\n",
      "162:\tlearn: 998.6579842\ttotal: 10m 22s\tremaining: 15m 4s\n",
      "163:\tlearn: 998.5148319\ttotal: 10m 25s\tremaining: 15m\n",
      "164:\tlearn: 998.3686330\ttotal: 10m 29s\tremaining: 14m 56s\n",
      "165:\tlearn: 998.2669356\ttotal: 10m 33s\tremaining: 14m 53s\n",
      "166:\tlearn: 998.2061164\ttotal: 10m 37s\tremaining: 14m 49s\n",
      "167:\tlearn: 997.9294567\ttotal: 10m 40s\tremaining: 14m 44s\n",
      "168:\tlearn: 997.8262809\ttotal: 10m 44s\tremaining: 14m 41s\n",
      "169:\tlearn: 997.7710444\ttotal: 10m 48s\tremaining: 14m 37s\n",
      "170:\tlearn: 997.5803414\ttotal: 10m 52s\tremaining: 14m 34s\n",
      "171:\tlearn: 997.4125347\ttotal: 10m 56s\tremaining: 14m 30s\n",
      "172:\tlearn: 997.2192416\ttotal: 11m\tremaining: 14m 27s\n",
      "173:\tlearn: 997.1385322\ttotal: 11m 5s\tremaining: 14m 24s\n",
      "174:\tlearn: 996.8409493\ttotal: 11m 9s\tremaining: 14m 20s\n",
      "175:\tlearn: 996.6313204\ttotal: 11m 13s\tremaining: 14m 16s\n",
      "176:\tlearn: 996.4661720\ttotal: 11m 16s\tremaining: 14m 12s\n",
      "177:\tlearn: 996.3632005\ttotal: 11m 20s\tremaining: 14m 9s\n",
      "178:\tlearn: 996.1855483\ttotal: 11m 24s\tremaining: 14m 5s\n",
      "179:\tlearn: 996.0954172\ttotal: 11m 29s\tremaining: 14m 2s\n",
      "180:\tlearn: 996.0341301\ttotal: 11m 33s\tremaining: 13m 58s\n",
      "181:\tlearn: 995.9910794\ttotal: 11m 37s\tremaining: 13m 54s\n",
      "182:\tlearn: 995.8117859\ttotal: 11m 40s\tremaining: 13m 51s\n",
      "183:\tlearn: 995.7403832\ttotal: 11m 45s\tremaining: 13m 47s\n",
      "184:\tlearn: 995.6895497\ttotal: 11m 49s\tremaining: 13m 44s\n",
      "185:\tlearn: 995.6126993\ttotal: 11m 53s\tremaining: 13m 40s\n",
      "186:\tlearn: 995.4754544\ttotal: 11m 57s\tremaining: 13m 36s\n",
      "187:\tlearn: 995.2629054\ttotal: 12m\tremaining: 13m 32s\n",
      "188:\tlearn: 995.2094267\ttotal: 12m 4s\tremaining: 13m 28s\n",
      "189:\tlearn: 994.9075356\ttotal: 12m 7s\tremaining: 13m 24s\n",
      "190:\tlearn: 994.8145303\ttotal: 12m 11s\tremaining: 13m 20s\n",
      "191:\tlearn: 994.7707445\ttotal: 12m 15s\tremaining: 13m 16s\n",
      "192:\tlearn: 994.6541864\ttotal: 12m 19s\tremaining: 13m 13s\n",
      "193:\tlearn: 994.3679138\ttotal: 12m 23s\tremaining: 13m 9s\n",
      "194:\tlearn: 994.2321903\ttotal: 12m 27s\tremaining: 13m 5s\n",
      "195:\tlearn: 994.1046779\ttotal: 12m 31s\tremaining: 13m 1s\n",
      "196:\tlearn: 994.0293941\ttotal: 12m 35s\tremaining: 12m 58s\n",
      "197:\tlearn: 993.8792767\ttotal: 12m 39s\tremaining: 12m 54s\n",
      "198:\tlearn: 993.8252034\ttotal: 12m 42s\tremaining: 12m 50s\n",
      "199:\tlearn: 993.7621331\ttotal: 12m 47s\tremaining: 12m 47s\n",
      "200:\tlearn: 993.5646815\ttotal: 12m 51s\tremaining: 12m 43s\n",
      "201:\tlearn: 993.4876118\ttotal: 12m 54s\tremaining: 12m 39s\n",
      "202:\tlearn: 993.2614320\ttotal: 12m 58s\tremaining: 12m 35s\n",
      "203:\tlearn: 993.1423387\ttotal: 13m 2s\tremaining: 12m 32s\n",
      "204:\tlearn: 992.9791760\ttotal: 13m 6s\tremaining: 12m 27s\n",
      "205:\tlearn: 992.6765647\ttotal: 13m 9s\tremaining: 12m 23s\n",
      "206:\tlearn: 992.5320474\ttotal: 13m 14s\tremaining: 12m 20s\n",
      "207:\tlearn: 992.4818475\ttotal: 13m 18s\tremaining: 12m 16s\n",
      "208:\tlearn: 992.3416305\ttotal: 13m 21s\tremaining: 12m 12s\n",
      "209:\tlearn: 992.2363873\ttotal: 13m 25s\tremaining: 12m 8s\n",
      "210:\tlearn: 992.1187223\ttotal: 13m 29s\tremaining: 12m 5s\n",
      "211:\tlearn: 992.0785342\ttotal: 13m 33s\tremaining: 12m 1s\n",
      "212:\tlearn: 991.9530830\ttotal: 13m 37s\tremaining: 11m 58s\n",
      "213:\tlearn: 991.7991359\ttotal: 13m 42s\tremaining: 11m 54s\n",
      "214:\tlearn: 991.7046025\ttotal: 13m 46s\tremaining: 11m 51s\n",
      "215:\tlearn: 991.6518022\ttotal: 13m 51s\tremaining: 11m 47s\n",
      "216:\tlearn: 991.5221663\ttotal: 13m 54s\tremaining: 11m 43s\n",
      "217:\tlearn: 991.4350408\ttotal: 13m 58s\tremaining: 11m 40s\n",
      "218:\tlearn: 991.3399116\ttotal: 14m 2s\tremaining: 11m 36s\n",
      "219:\tlearn: 991.2748032\ttotal: 14m 6s\tremaining: 11m 32s\n",
      "220:\tlearn: 991.1522594\ttotal: 14m 10s\tremaining: 11m 28s\n",
      "221:\tlearn: 991.0139717\ttotal: 14m 14s\tremaining: 11m 25s\n",
      "222:\tlearn: 990.9652176\ttotal: 14m 18s\tremaining: 11m 21s\n",
      "223:\tlearn: 990.8947203\ttotal: 14m 22s\tremaining: 11m 17s\n",
      "224:\tlearn: 990.6507504\ttotal: 14m 26s\tremaining: 11m 14s\n",
      "225:\tlearn: 990.5247850\ttotal: 14m 30s\tremaining: 11m 9s\n",
      "226:\tlearn: 990.4586248\ttotal: 14m 33s\tremaining: 11m 5s\n",
      "227:\tlearn: 990.3871005\ttotal: 14m 37s\tremaining: 11m 2s\n",
      "228:\tlearn: 990.1902623\ttotal: 14m 41s\tremaining: 10m 58s\n",
      "229:\tlearn: 990.0176065\ttotal: 14m 45s\tremaining: 10m 54s\n",
      "230:\tlearn: 989.9409544\ttotal: 14m 49s\tremaining: 10m 50s\n",
      "231:\tlearn: 989.7985925\ttotal: 14m 53s\tremaining: 10m 46s\n",
      "232:\tlearn: 989.6992698\ttotal: 14m 57s\tremaining: 10m 42s\n",
      "233:\tlearn: 989.5889723\ttotal: 15m 1s\tremaining: 10m 39s\n",
      "234:\tlearn: 989.4540296\ttotal: 15m 5s\tremaining: 10m 35s\n",
      "235:\tlearn: 989.3762604\ttotal: 15m 9s\tremaining: 10m 31s\n",
      "236:\tlearn: 989.3382852\ttotal: 15m 13s\tremaining: 10m 27s\n",
      "237:\tlearn: 989.1463984\ttotal: 15m 17s\tremaining: 10m 24s\n",
      "238:\tlearn: 989.1021923\ttotal: 15m 21s\tremaining: 10m 20s\n",
      "239:\tlearn: 989.0195986\ttotal: 15m 25s\tremaining: 10m 17s\n",
      "240:\tlearn: 988.9940811\ttotal: 15m 29s\tremaining: 10m 13s\n",
      "241:\tlearn: 988.8933796\ttotal: 15m 33s\tremaining: 10m 9s\n",
      "242:\tlearn: 988.8118071\ttotal: 15m 37s\tremaining: 10m 5s\n",
      "243:\tlearn: 988.7142403\ttotal: 15m 41s\tremaining: 10m 2s\n",
      "244:\tlearn: 988.4650822\ttotal: 15m 45s\tremaining: 9m 58s\n",
      "245:\tlearn: 988.3779398\ttotal: 15m 49s\tremaining: 9m 54s\n",
      "246:\tlearn: 988.2593260\ttotal: 15m 53s\tremaining: 9m 50s\n",
      "247:\tlearn: 988.1493462\ttotal: 15m 57s\tremaining: 9m 46s\n",
      "248:\tlearn: 988.1065970\ttotal: 16m 1s\tremaining: 9m 43s\n",
      "249:\tlearn: 987.8953540\ttotal: 16m 5s\tremaining: 9m 39s\n",
      "250:\tlearn: 987.8288932\ttotal: 16m 9s\tremaining: 9m 35s\n",
      "251:\tlearn: 987.7886442\ttotal: 16m 13s\tremaining: 9m 31s\n",
      "252:\tlearn: 987.7589708\ttotal: 16m 16s\tremaining: 9m 27s\n",
      "253:\tlearn: 987.7113864\ttotal: 16m 20s\tremaining: 9m 23s\n",
      "254:\tlearn: 987.6532466\ttotal: 16m 24s\tremaining: 9m 19s\n",
      "255:\tlearn: 987.5173654\ttotal: 16m 28s\tremaining: 9m 16s\n",
      "256:\tlearn: 987.4653667\ttotal: 16m 32s\tremaining: 9m 12s\n",
      "257:\tlearn: 987.3217922\ttotal: 16m 35s\tremaining: 9m 8s\n",
      "258:\tlearn: 987.2228802\ttotal: 16m 39s\tremaining: 9m 4s\n",
      "259:\tlearn: 987.0344457\ttotal: 16m 43s\tremaining: 9m\n",
      "260:\tlearn: 986.8766947\ttotal: 16m 47s\tremaining: 8m 56s\n",
      "261:\tlearn: 986.6731751\ttotal: 16m 51s\tremaining: 8m 52s\n",
      "262:\tlearn: 986.6129486\ttotal: 16m 55s\tremaining: 8m 48s\n",
      "263:\tlearn: 986.3903732\ttotal: 16m 59s\tremaining: 8m 45s\n",
      "264:\tlearn: 986.2938432\ttotal: 17m 3s\tremaining: 8m 41s\n",
      "265:\tlearn: 986.2052187\ttotal: 17m 8s\tremaining: 8m 37s\n",
      "266:\tlearn: 986.1345248\ttotal: 17m 11s\tremaining: 8m 33s\n",
      "267:\tlearn: 985.9070268\ttotal: 17m 15s\tremaining: 8m 29s\n",
      "268:\tlearn: 985.8574379\ttotal: 17m 19s\tremaining: 8m 26s\n",
      "269:\tlearn: 985.7167142\ttotal: 17m 22s\tremaining: 8m 22s\n",
      "270:\tlearn: 985.6099057\ttotal: 17m 26s\tremaining: 8m 18s\n",
      "271:\tlearn: 985.5612177\ttotal: 17m 30s\tremaining: 8m 14s\n",
      "272:\tlearn: 985.4205643\ttotal: 17m 34s\tremaining: 8m 10s\n",
      "273:\tlearn: 985.3167554\ttotal: 17m 38s\tremaining: 8m 6s\n",
      "274:\tlearn: 985.0882383\ttotal: 17m 42s\tremaining: 8m 2s\n",
      "275:\tlearn: 984.9749070\ttotal: 17m 45s\tremaining: 7m 58s\n",
      "276:\tlearn: 984.7763690\ttotal: 17m 50s\tremaining: 7m 55s\n",
      "277:\tlearn: 984.7339038\ttotal: 17m 53s\tremaining: 7m 51s\n",
      "278:\tlearn: 984.6433237\ttotal: 17m 57s\tremaining: 7m 47s\n",
      "279:\tlearn: 984.5629967\ttotal: 18m 1s\tremaining: 7m 43s\n",
      "280:\tlearn: 984.4521104\ttotal: 18m 5s\tremaining: 7m 39s\n",
      "281:\tlearn: 984.3965481\ttotal: 18m 9s\tremaining: 7m 36s\n",
      "282:\tlearn: 984.2877132\ttotal: 18m 13s\tremaining: 7m 32s\n",
      "283:\tlearn: 984.2279992\ttotal: 18m 17s\tremaining: 7m 28s\n",
      "284:\tlearn: 984.0207317\ttotal: 18m 21s\tremaining: 7m 24s\n",
      "285:\tlearn: 983.8938243\ttotal: 18m 25s\tremaining: 7m 20s\n",
      "286:\tlearn: 983.7046631\ttotal: 18m 29s\tremaining: 7m 16s\n",
      "287:\tlearn: 983.6460970\ttotal: 18m 33s\tremaining: 7m 13s\n",
      "288:\tlearn: 983.5439104\ttotal: 18m 37s\tremaining: 7m 9s\n"
     ]
    },
    {
     "name": "stdout",
     "output_type": "stream",
     "text": [
      "289:\tlearn: 983.3684848\ttotal: 18m 41s\tremaining: 7m 5s\n",
      "290:\tlearn: 983.1995449\ttotal: 18m 44s\tremaining: 7m 1s\n",
      "291:\tlearn: 983.1413191\ttotal: 18m 49s\tremaining: 6m 57s\n",
      "292:\tlearn: 982.9793461\ttotal: 18m 53s\tremaining: 6m 53s\n",
      "293:\tlearn: 982.9377718\ttotal: 18m 56s\tremaining: 6m 49s\n",
      "294:\tlearn: 982.7679149\ttotal: 19m\tremaining: 6m 45s\n",
      "295:\tlearn: 982.7353041\ttotal: 19m 4s\tremaining: 6m 42s\n",
      "\n",
      "Iteration with suspicious time 518 sec ignored in overall statistics.\n",
      "296:\tlearn: 982.6448945\ttotal: 19m 4s\tremaining: 6m 42s\n",
      "297:\tlearn: 982.5803993\ttotal: 19m 14s\tremaining: 6m 36s\n",
      "298:\tlearn: 982.4107546\ttotal: 19m 19s\tremaining: 6m 33s\n",
      "299:\tlearn: 982.2863905\ttotal: 19m 24s\tremaining: 6m 29s\n",
      "300:\tlearn: 982.2201209\ttotal: 19m 29s\tremaining: 6m 25s\n",
      "301:\tlearn: 981.9817257\ttotal: 19m 34s\tremaining: 6m 22s\n",
      "302:\tlearn: 981.9145633\ttotal: 19m 38s\tremaining: 6m 18s\n",
      "303:\tlearn: 981.7192552\ttotal: 19m 42s\tremaining: 6m 14s\n",
      "304:\tlearn: 981.5082262\ttotal: 19m 45s\tremaining: 6m 10s\n",
      "305:\tlearn: 981.4202446\ttotal: 19m 48s\tremaining: 6m 6s\n",
      "306:\tlearn: 981.1771483\ttotal: 19m 52s\tremaining: 6m 2s\n",
      "307:\tlearn: 981.0301599\ttotal: 19m 55s\tremaining: 5m 58s\n",
      "308:\tlearn: 980.9415381\ttotal: 19m 59s\tremaining: 5m 54s\n",
      "309:\tlearn: 980.8354424\ttotal: 20m 2s\tremaining: 5m 50s\n",
      "310:\tlearn: 980.7556367\ttotal: 20m 5s\tremaining: 5m 46s\n",
      "311:\tlearn: 980.6941629\ttotal: 20m 9s\tremaining: 5m 42s\n",
      "312:\tlearn: 980.6595417\ttotal: 20m 12s\tremaining: 5m 38s\n",
      "313:\tlearn: 980.6116592\ttotal: 20m 16s\tremaining: 5m 34s\n",
      "314:\tlearn: 980.4775723\ttotal: 20m 18s\tremaining: 5m 29s\n",
      "315:\tlearn: 980.4212771\ttotal: 20m 21s\tremaining: 5m 25s\n",
      "316:\tlearn: 980.3255679\ttotal: 20m 24s\tremaining: 5m 21s\n",
      "317:\tlearn: 980.2459951\ttotal: 20m 27s\tremaining: 5m 17s\n",
      "318:\tlearn: 980.1724712\ttotal: 20m 30s\tremaining: 5m 13s\n",
      "319:\tlearn: 980.0880334\ttotal: 20m 33s\tremaining: 5m 9s\n",
      "320:\tlearn: 979.9094126\ttotal: 20m 37s\tremaining: 5m 5s\n",
      "321:\tlearn: 979.8627384\ttotal: 20m 40s\tremaining: 5m 1s\n",
      "322:\tlearn: 979.8264625\ttotal: 20m 43s\tremaining: 4m 57s\n",
      "323:\tlearn: 979.7873230\ttotal: 20m 46s\tremaining: 4m 53s\n",
      "324:\tlearn: 979.7360607\ttotal: 20m 50s\tremaining: 4m 49s\n",
      "325:\tlearn: 979.6344254\ttotal: 20m 53s\tremaining: 4m 45s\n",
      "326:\tlearn: 979.5538229\ttotal: 20m 56s\tremaining: 4m 41s\n",
      "327:\tlearn: 979.5045857\ttotal: 20m 59s\tremaining: 4m 37s\n",
      "328:\tlearn: 979.3018873\ttotal: 21m 2s\tremaining: 4m 33s\n",
      "329:\tlearn: 979.2036007\ttotal: 21m 5s\tremaining: 4m 29s\n",
      "330:\tlearn: 979.1404562\ttotal: 21m 9s\tremaining: 4m 25s\n",
      "331:\tlearn: 979.1036259\ttotal: 21m 12s\tremaining: 4m 21s\n",
      "332:\tlearn: 978.8448257\ttotal: 21m 15s\tremaining: 4m 17s\n",
      "333:\tlearn: 978.7856132\ttotal: 21m 18s\tremaining: 4m 13s\n",
      "334:\tlearn: 978.6673524\ttotal: 21m 21s\tremaining: 4m 9s\n",
      "335:\tlearn: 978.6373763\ttotal: 21m 24s\tremaining: 4m 5s\n",
      "336:\tlearn: 978.5444813\ttotal: 21m 27s\tremaining: 4m 1s\n",
      "337:\tlearn: 978.4195129\ttotal: 21m 31s\tremaining: 3m 57s\n",
      "338:\tlearn: 978.3830273\ttotal: 21m 34s\tremaining: 3m 53s\n",
      "339:\tlearn: 978.3260919\ttotal: 21m 37s\tremaining: 3m 49s\n",
      "340:\tlearn: 978.3006163\ttotal: 21m 40s\tremaining: 3m 45s\n",
      "341:\tlearn: 978.1962235\ttotal: 21m 43s\tremaining: 3m 41s\n",
      "342:\tlearn: 978.1224643\ttotal: 21m 46s\tremaining: 3m 37s\n",
      "343:\tlearn: 978.0607928\ttotal: 21m 49s\tremaining: 3m 33s\n",
      "344:\tlearn: 977.9699716\ttotal: 21m 53s\tremaining: 3m 29s\n",
      "345:\tlearn: 977.8362465\ttotal: 21m 56s\tremaining: 3m 26s\n",
      "346:\tlearn: 977.7883982\ttotal: 21m 59s\tremaining: 3m 22s\n",
      "347:\tlearn: 977.7411110\ttotal: 22m 2s\tremaining: 3m 18s\n",
      "348:\tlearn: 977.6448497\ttotal: 22m 5s\tremaining: 3m 14s\n",
      "349:\tlearn: 977.5028302\ttotal: 22m 9s\tremaining: 3m 10s\n",
      "350:\tlearn: 977.2331416\ttotal: 22m 12s\tremaining: 3m 6s\n",
      "351:\tlearn: 977.1558476\ttotal: 22m 15s\tremaining: 3m 2s\n",
      "352:\tlearn: 977.0523756\ttotal: 22m 19s\tremaining: 2m 58s\n",
      "353:\tlearn: 976.9777992\ttotal: 22m 22s\tremaining: 2m 54s\n",
      "354:\tlearn: 976.9440094\ttotal: 22m 26s\tremaining: 2m 51s\n",
      "355:\tlearn: 976.8608449\ttotal: 22m 29s\tremaining: 2m 47s\n",
      "356:\tlearn: 976.7046104\ttotal: 22m 32s\tremaining: 2m 43s\n",
      "357:\tlearn: 976.6656204\ttotal: 22m 35s\tremaining: 2m 39s\n",
      "358:\tlearn: 976.6103835\ttotal: 22m 39s\tremaining: 2m 35s\n",
      "359:\tlearn: 976.4361069\ttotal: 22m 42s\tremaining: 2m 31s\n",
      "360:\tlearn: 976.3762507\ttotal: 22m 46s\tremaining: 2m 28s\n",
      "361:\tlearn: 976.3249076\ttotal: 22m 50s\tremaining: 2m 24s\n",
      "362:\tlearn: 976.1865016\ttotal: 22m 54s\tremaining: 2m 20s\n",
      "363:\tlearn: 976.1174783\ttotal: 22m 57s\tremaining: 2m 16s\n",
      "364:\tlearn: 976.0886973\ttotal: 23m 1s\tremaining: 2m 12s\n",
      "365:\tlearn: 975.9268019\ttotal: 23m 5s\tremaining: 2m 9s\n",
      "366:\tlearn: 975.7658186\ttotal: 23m 9s\tremaining: 2m 5s\n",
      "367:\tlearn: 975.7017222\ttotal: 23m 12s\tremaining: 2m 1s\n",
      "368:\tlearn: 975.6229337\ttotal: 23m 16s\tremaining: 1m 57s\n",
      "369:\tlearn: 975.5586480\ttotal: 23m 20s\tremaining: 1m 53s\n",
      "370:\tlearn: 975.5163447\ttotal: 23m 24s\tremaining: 1m 50s\n",
      "371:\tlearn: 975.4559488\ttotal: 23m 29s\tremaining: 1m 46s\n",
      "372:\tlearn: 975.4264236\ttotal: 23m 34s\tremaining: 1m 42s\n",
      "373:\tlearn: 975.4020854\ttotal: 23m 37s\tremaining: 1m 38s\n",
      "374:\tlearn: 975.3402449\ttotal: 23m 41s\tremaining: 1m 35s\n",
      "375:\tlearn: 975.2926390\ttotal: 23m 44s\tremaining: 1m 31s\n",
      "376:\tlearn: 975.2301618\ttotal: 23m 48s\tremaining: 1m 27s\n",
      "377:\tlearn: 975.1159505\ttotal: 23m 51s\tremaining: 1m 23s\n",
      "378:\tlearn: 975.0410169\ttotal: 23m 54s\tremaining: 1m 19s\n",
      "379:\tlearn: 974.9480319\ttotal: 23m 57s\tremaining: 1m 15s\n",
      "380:\tlearn: 974.9126159\ttotal: 24m\tremaining: 1m 12s\n",
      "381:\tlearn: 974.8484812\ttotal: 24m 3s\tremaining: 1m 8s\n",
      "382:\tlearn: 974.7336271\ttotal: 24m 6s\tremaining: 1m 4s\n",
      "383:\tlearn: 974.6575563\ttotal: 24m 9s\tremaining: 1m\n",
      "384:\tlearn: 974.6142772\ttotal: 24m 13s\tremaining: 56.8s\n",
      "385:\tlearn: 974.4940386\ttotal: 24m 16s\tremaining: 53s\n",
      "386:\tlearn: 974.4127153\ttotal: 24m 19s\tremaining: 49.1s\n",
      "387:\tlearn: 974.1611706\ttotal: 24m 22s\tremaining: 45.3s\n",
      "388:\tlearn: 974.0974700\ttotal: 24m 25s\tremaining: 41.5s\n",
      "389:\tlearn: 974.0074565\ttotal: 24m 29s\tremaining: 37.8s\n",
      "390:\tlearn: 973.9249196\ttotal: 24m 32s\tremaining: 34s\n",
      "391:\tlearn: 973.7966197\ttotal: 24m 36s\tremaining: 30.2s\n",
      "392:\tlearn: 973.7324003\ttotal: 24m 40s\tremaining: 26.4s\n",
      "393:\tlearn: 973.6311938\ttotal: 24m 45s\tremaining: 22.7s\n",
      "394:\tlearn: 973.6001426\ttotal: 24m 49s\tremaining: 18.9s\n",
      "395:\tlearn: 973.5333160\ttotal: 24m 54s\tremaining: 15.1s\n",
      "396:\tlearn: 973.4262617\ttotal: 24m 57s\tremaining: 11.3s\n",
      "397:\tlearn: 973.3415864\ttotal: 25m 2s\tremaining: 7.57s\n",
      "398:\tlearn: 973.2710552\ttotal: 25m 6s\tremaining: 3.78s\n",
      "399:\tlearn: 973.2435953\ttotal: 25m 9s\tremaining: 0us\n"
     ]
    },
    {
     "data": {
      "text/plain": [
       "<catboost.core.CatBoostRegressor at 0x1a184b3898>"
      ]
     },
     "execution_count": 119,
     "metadata": {},
     "output_type": "execute_result"
    }
   ],
   "source": [
    "model = CatBoostRegressor(iterations=400, depth=10,learning_rate=0.1)\n",
    "model.fit(train_pool)"
   ]
  },
  {
   "cell_type": "code",
   "execution_count": 120,
   "metadata": {},
   "outputs": [
    {
     "data": {
      "text/plain": [
       "990.0923387432147"
      ]
     },
     "execution_count": 120,
     "metadata": {},
     "output_type": "execute_result"
    }
   ],
   "source": [
    "model.score(test_pool, y_test)  #"
   ]
  },
  {
   "cell_type": "code",
   "execution_count": 121,
   "metadata": {},
   "outputs": [],
   "source": [
    "pred = model.predict(test_pool)"
   ]
  },
  {
   "cell_type": "code",
   "execution_count": 122,
   "metadata": {},
   "outputs": [
    {
     "data": {
      "text/html": [
       "<div>\n",
       "<style scoped>\n",
       "    .dataframe tbody tr th:only-of-type {\n",
       "        vertical-align: middle;\n",
       "    }\n",
       "\n",
       "    .dataframe tbody tr th {\n",
       "        vertical-align: top;\n",
       "    }\n",
       "\n",
       "    .dataframe thead th {\n",
       "        text-align: right;\n",
       "    }\n",
       "</style>\n",
       "<table border=\"1\" class=\"dataframe\">\n",
       "  <thead>\n",
       "    <tr style=\"text-align: right;\">\n",
       "      <th></th>\n",
       "      <th>Unit ID</th>\n",
       "      <th>Call Type</th>\n",
       "      <th>Zipcode of Incident</th>\n",
       "      <th>Station Area</th>\n",
       "      <th>Box</th>\n",
       "      <th>Number of Alarms</th>\n",
       "      <th>Unit Type</th>\n",
       "      <th>Unit sequence in call dispatch</th>\n",
       "      <th>Fire Prevention District</th>\n",
       "      <th>Neighborhooods - Analysis Boundaries</th>\n",
       "      <th>Call to Dispatch</th>\n",
       "      <th>Weekofyear</th>\n",
       "      <th>Hours</th>\n",
       "      <th>Minutes</th>\n",
       "      <th>Hospital or Transport</th>\n",
       "      <th>0</th>\n",
       "      <th>1</th>\n",
       "      <th>y_test</th>\n",
       "      <th>y_pred</th>\n",
       "      <th>y_test-y_pred</th>\n",
       "      <th>y_test-y_pred_squared</th>\n",
       "      <th>mean_y</th>\n",
       "      <th>diff</th>\n",
       "    </tr>\n",
       "  </thead>\n",
       "  <tbody>\n",
       "    <tr>\n",
       "      <th>1650124</th>\n",
       "      <td>E31</td>\n",
       "      <td>Medical Incident</td>\n",
       "      <td>94121</td>\n",
       "      <td>31</td>\n",
       "      <td>7164.0</td>\n",
       "      <td>1</td>\n",
       "      <td>ENGINE</td>\n",
       "      <td>1</td>\n",
       "      <td>7</td>\n",
       "      <td>Outer Richmond</td>\n",
       "      <td>87.0</td>\n",
       "      <td>23</td>\n",
       "      <td>15</td>\n",
       "      <td>14</td>\n",
       "      <td>0</td>\n",
       "      <td>37.783238</td>\n",
       "      <td>-122.478580</td>\n",
       "      <td>936.0</td>\n",
       "      <td>801.775215</td>\n",
       "      <td>134.224785</td>\n",
       "      <td>18016.292866</td>\n",
       "      <td>1562.266912</td>\n",
       "      <td>-626.266912</td>\n",
       "    </tr>\n",
       "    <tr>\n",
       "      <th>1650125</th>\n",
       "      <td>M22</td>\n",
       "      <td>Medical Incident</td>\n",
       "      <td>94121</td>\n",
       "      <td>31</td>\n",
       "      <td>7164.0</td>\n",
       "      <td>1</td>\n",
       "      <td>MEDIC</td>\n",
       "      <td>2</td>\n",
       "      <td>7</td>\n",
       "      <td>Outer Richmond</td>\n",
       "      <td>87.0</td>\n",
       "      <td>23</td>\n",
       "      <td>15</td>\n",
       "      <td>14</td>\n",
       "      <td>1</td>\n",
       "      <td>37.783238</td>\n",
       "      <td>-122.478580</td>\n",
       "      <td>3200.0</td>\n",
       "      <td>3691.100280</td>\n",
       "      <td>-491.100280</td>\n",
       "      <td>241179.485238</td>\n",
       "      <td>1562.266912</td>\n",
       "      <td>1637.733088</td>\n",
       "    </tr>\n",
       "    <tr>\n",
       "      <th>1650126</th>\n",
       "      <td>RS1</td>\n",
       "      <td>Medical Incident</td>\n",
       "      <td>94102</td>\n",
       "      <td>1</td>\n",
       "      <td>1365.0</td>\n",
       "      <td>1</td>\n",
       "      <td>RESCUE SQUAD</td>\n",
       "      <td>3</td>\n",
       "      <td>3</td>\n",
       "      <td>Tenderloin</td>\n",
       "      <td>81.0</td>\n",
       "      <td>23</td>\n",
       "      <td>15</td>\n",
       "      <td>28</td>\n",
       "      <td>0</td>\n",
       "      <td>37.783789</td>\n",
       "      <td>-122.409266</td>\n",
       "      <td>156.0</td>\n",
       "      <td>249.215165</td>\n",
       "      <td>-93.215165</td>\n",
       "      <td>8689.066919</td>\n",
       "      <td>1562.266912</td>\n",
       "      <td>-1406.266912</td>\n",
       "    </tr>\n",
       "    <tr>\n",
       "      <th>1650127</th>\n",
       "      <td>92</td>\n",
       "      <td>Medical Incident</td>\n",
       "      <td>94103</td>\n",
       "      <td>1</td>\n",
       "      <td>2251.0</td>\n",
       "      <td>1</td>\n",
       "      <td>MEDIC</td>\n",
       "      <td>1</td>\n",
       "      <td>3</td>\n",
       "      <td>South of Market</td>\n",
       "      <td>160.0</td>\n",
       "      <td>23</td>\n",
       "      <td>15</td>\n",
       "      <td>19</td>\n",
       "      <td>1</td>\n",
       "      <td>37.780136</td>\n",
       "      <td>-122.408771</td>\n",
       "      <td>4081.0</td>\n",
       "      <td>3396.177298</td>\n",
       "      <td>684.822702</td>\n",
       "      <td>468982.133037</td>\n",
       "      <td>1562.266912</td>\n",
       "      <td>2518.733088</td>\n",
       "    </tr>\n",
       "    <tr>\n",
       "      <th>1650128</th>\n",
       "      <td>E01</td>\n",
       "      <td>Medical Incident</td>\n",
       "      <td>94103</td>\n",
       "      <td>1</td>\n",
       "      <td>2251.0</td>\n",
       "      <td>1</td>\n",
       "      <td>ENGINE</td>\n",
       "      <td>2</td>\n",
       "      <td>3</td>\n",
       "      <td>South of Market</td>\n",
       "      <td>160.0</td>\n",
       "      <td>23</td>\n",
       "      <td>15</td>\n",
       "      <td>19</td>\n",
       "      <td>0</td>\n",
       "      <td>37.780136</td>\n",
       "      <td>-122.408771</td>\n",
       "      <td>150.0</td>\n",
       "      <td>487.919785</td>\n",
       "      <td>-337.919785</td>\n",
       "      <td>114189.781341</td>\n",
       "      <td>1562.266912</td>\n",
       "      <td>-1412.266912</td>\n",
       "    </tr>\n",
       "  </tbody>\n",
       "</table>\n",
       "</div>"
      ],
      "text/plain": [
       "        Unit ID         Call Type  Zipcode of Incident Station Area     Box  \\\n",
       "1650124     E31  Medical Incident                94121           31  7164.0   \n",
       "1650125     M22  Medical Incident                94121           31  7164.0   \n",
       "1650126     RS1  Medical Incident                94102            1  1365.0   \n",
       "1650127      92  Medical Incident                94103            1  2251.0   \n",
       "1650128     E01  Medical Incident                94103            1  2251.0   \n",
       "\n",
       "         Number of Alarms     Unit Type  Unit sequence in call dispatch  \\\n",
       "1650124                 1        ENGINE                               1   \n",
       "1650125                 1         MEDIC                               2   \n",
       "1650126                 1  RESCUE SQUAD                               3   \n",
       "1650127                 1         MEDIC                               1   \n",
       "1650128                 1        ENGINE                               2   \n",
       "\n",
       "        Fire Prevention District Neighborhooods - Analysis Boundaries  \\\n",
       "1650124                        7                       Outer Richmond   \n",
       "1650125                        7                       Outer Richmond   \n",
       "1650126                        3                           Tenderloin   \n",
       "1650127                        3                      South of Market   \n",
       "1650128                        3                      South of Market   \n",
       "\n",
       "         Call to Dispatch  Weekofyear  Hours  Minutes  Hospital or Transport  \\\n",
       "1650124              87.0          23     15       14                      0   \n",
       "1650125              87.0          23     15       14                      1   \n",
       "1650126              81.0          23     15       28                      0   \n",
       "1650127             160.0          23     15       19                      1   \n",
       "1650128             160.0          23     15       19                      0   \n",
       "\n",
       "                 0           1  y_test       y_pred  y_test-y_pred  \\\n",
       "1650124  37.783238 -122.478580   936.0   801.775215     134.224785   \n",
       "1650125  37.783238 -122.478580  3200.0  3691.100280    -491.100280   \n",
       "1650126  37.783789 -122.409266   156.0   249.215165     -93.215165   \n",
       "1650127  37.780136 -122.408771  4081.0  3396.177298     684.822702   \n",
       "1650128  37.780136 -122.408771   150.0   487.919785    -337.919785   \n",
       "\n",
       "         y_test-y_pred_squared       mean_y         diff  \n",
       "1650124           18016.292866  1562.266912  -626.266912  \n",
       "1650125          241179.485238  1562.266912  1637.733088  \n",
       "1650126            8689.066919  1562.266912 -1406.266912  \n",
       "1650127          468982.133037  1562.266912  2518.733088  \n",
       "1650128          114189.781341  1562.266912 -1412.266912  "
      ]
     },
     "execution_count": 122,
     "metadata": {},
     "output_type": "execute_result"
    }
   ],
   "source": [
    "XYY = X_test.copy()\n",
    "XYY['y_test'] = y_test\n",
    "XYY['y_pred'] = pred\n",
    "XYY['y_test-y_pred'] = XYY['y_test']-XYY['y_pred']\n",
    "XYY['y_test-y_pred_squared'] = XYY['y_test-y_pred']**2\n",
    "mean_y = XYY['y_pred'].mean()\n",
    "XYY['mean_y'] = mean_y\n",
    "XYY['diff'] = XYY['y_test']-XYY['mean_y']\n",
    "XYY.head(5)"
   ]
  },
  {
   "cell_type": "code",
   "execution_count": 123,
   "metadata": {},
   "outputs": [],
   "source": [
    "mae = (abs(XYY['y_test-y_pred']).sum())/len(XYY['y_test-y_pred'])\n",
    "mse = (XYY['y_test-y_pred']**2).sum()/len(XYY['y_test-y_pred'])\n",
    "rmse = mse**0.5\n",
    "determanation_score = 1-((XYY['y_test-y_pred']**2).sum())/((XYY['diff']**2).sum())"
   ]
  },
  {
   "cell_type": "code",
   "execution_count": 124,
   "metadata": {},
   "outputs": [
    {
     "data": {
      "text/plain": [
       "593.0798335809429"
      ]
     },
     "execution_count": 124,
     "metadata": {},
     "output_type": "execute_result"
    }
   ],
   "source": [
    "mae"
   ]
  },
  {
   "cell_type": "code",
   "execution_count": 125,
   "metadata": {
    "scrolled": true
   },
   "outputs": [
    {
     "data": {
      "text/plain": [
       "980282.8392380085"
      ]
     },
     "execution_count": 125,
     "metadata": {},
     "output_type": "execute_result"
    }
   ],
   "source": [
    "mse"
   ]
  },
  {
   "cell_type": "code",
   "execution_count": 126,
   "metadata": {},
   "outputs": [
    {
     "data": {
      "text/plain": [
       "990.0923387432147"
      ]
     },
     "execution_count": 126,
     "metadata": {},
     "output_type": "execute_result"
    }
   ],
   "source": [
    "rmse"
   ]
  },
  {
   "cell_type": "code",
   "execution_count": 127,
   "metadata": {},
   "outputs": [
    {
     "data": {
      "text/plain": [
       "0.65625171760731"
      ]
     },
     "execution_count": 127,
     "metadata": {},
     "output_type": "execute_result"
    }
   ],
   "source": [
    "determanation_score"
   ]
  },
  {
   "cell_type": "code",
   "execution_count": 106,
   "metadata": {},
   "outputs": [
    {
     "name": "stdout",
     "output_type": "stream",
     "text": [
      "mae_mean: 1325.7209902110242\n",
      "mse_mean: 2866229.987544824\n",
      "mrse_mean: 1692.9943849714398\n"
     ]
    }
   ],
   "source": [
    "#scores compare to mean\n",
    "total_mean = y_train.mean()\n",
    "mae_mean = (abs(XYY['y_test']-total_mean).sum())/len(XYY['y_test-y_pred'])\n",
    "print('mae_mean: '+ str(mae_mean))\n",
    "mse_mean = ((XYY['y_test']-total_mean)**2).sum()/len(XYY['y_test-y_pred'])\n",
    "print('mse_mean: '+ str(mse_mean))\n",
    "rmse_mean = mse_mean**0.5\n",
    "print('mrse_mean: '+ str(rmse_mean))"
   ]
  },
  {
   "cell_type": "code",
   "execution_count": 128,
   "metadata": {},
   "outputs": [
    {
     "data": {
      "text/plain": [
       "[('Unit ID', 3.932413777686254),\n",
       " ('Call Type', 6.130328836305738),\n",
       " ('Zipcode of Incident', 1.8494781360752524),\n",
       " ('Station Area', 1.988241155337167),\n",
       " ('Box', 3.1021904948793835),\n",
       " ('Number of Alarms', 14.968771762838667),\n",
       " ('Unit Type', 10.776805117492124),\n",
       " ('Unit sequence in call dispatch', 7.0993004362047945),\n",
       " ('Fire Prevention District', 1.6180963779997706),\n",
       " ('Neighborhooods - Analysis Boundaries', 1.3331220718336065),\n",
       " ('Call to Dispatch', 3.191598024274712),\n",
       " ('Weekofyear', 1.1338771339599858),\n",
       " ('Hours', 4.258816271562817),\n",
       " ('Minutes', 1.1121245520101537),\n",
       " ('Hospital or Transport', 32.70570246032967),\n",
       " (0, 2.3336840360283553),\n",
       " (1, 2.465449355181562)]"
      ]
     },
     "execution_count": 128,
     "metadata": {},
     "output_type": "execute_result"
    }
   ],
   "source": [
    "val = model.get_feature_importance()\n",
    "feat = X_test.columns\n",
    "\n",
    "list(zip(feat,val))"
   ]
  },
  {
   "cell_type": "markdown",
   "metadata": {},
   "source": [
    "[('Battalion', 0.5078027445356504),\n",
    " ('Station Area', 6.135001357254266),\n",
    " ('Box', 9.114046028348575),\n",
    " ('Original Priority', 1.9631004892661137),\n",
    " ('ALS Unit', 0.8674294353822795),\n",
    " ('Call Type Group', 3.333459641176911),\n",
    " ('Unit Type', 41.73743300645736),\n",
    " ('Fire Prevention District', 1.5738692854230882),\n",
    " ('Supervisor District', 1.5693252610655513),\n",
    " ('Month', 0.5003596981995669),\n",
    " ('WeekDay', 0.7519625648056559),\n",
    " ('Weekofyear', 1.623724419771495),\n",
    " ('Hours', 8.179958110857296),\n",
    " ('Minutes', 1.0530441606569498),\n",
    " ('Call Type Merged', 21.08948379679924)]\n",
    " \n",
    " [('Station Area', 6.994516107181966),\n",
    " ('Box', 5.876354709490432),\n",
    " ('Original Priority', 0.9627007503785607),\n",
    " ('Call Type Group', 1.29599635276719),\n",
    " ('Unit Type', 60.51084666020504),\n",
    " ('Fire Prevention District', 0.3122714646717646),\n",
    " ('Supervisor District', 0.5588749902917611),\n",
    " ('Weekofyear', 0.0),\n",
    " ('Hours', 3.0604472528149556),\n",
    " ('Minutes', 0.0),\n",
    " ('Call Type Merged', 20.427991712198327)]"
   ]
  },
  {
   "cell_type": "code",
   "execution_count": null,
   "metadata": {},
   "outputs": [],
   "source": []
  },
  {
   "cell_type": "code",
   "execution_count": 95,
   "metadata": {},
   "outputs": [],
   "source": [
    "import matplotlib.pyplot as plt\n",
    "%matplotlib inline"
   ]
  },
  {
   "cell_type": "code",
   "execution_count": 129,
   "metadata": {},
   "outputs": [
    {
     "data": {
      "image/png": "[encoded data removed]",
      "text/plain": [
       "<matplotlib.figure.Figure at 0x1a1a76bdd8>"
      ]
     },
     "metadata": {},
     "output_type": "display_data"
    }
   ],
   "source": [
    "XYY = XYY.sort_values('y_test')\n",
    "plt.figure(figsize=(15,10))\n",
    "plt.scatter(XYY.index, XYY['y_test'].sort_values(), color='b')\n",
    "plt.scatter(XYY.index, XYY['y_pred'], color='g')\n",
    "plt.show()"
   ]
  },
  {
   "cell_type": "code",
   "execution_count": 47,
   "metadata": {},
   "outputs": [
    {
     "data": {
      "text/plain": [
       "<matplotlib.collections.PathCollection at 0x1a1f67da90>"
      ]
     },
     "execution_count": 47,
     "metadata": {},
     "output_type": "execute_result"
    },
    {
     "data": {
      "image/png": "[encoded data removed]",
      "text/plain": [
       "<matplotlib.figure.Figure at 0x1a1f21a550>"
      ]
     },
     "metadata": {},
     "output_type": "display_data"
    }
   ],
   "source": [
    "plt.scatter(range(0,12957), df1['Respond to Available'].value_counts())"
   ]
  },
  {
   "cell_type": "code",
   "execution_count": 82,
   "metadata": {},
   "outputs": [
    {
     "data": {
      "text/plain": [
       "Unit ID                                 191\n",
       "Call Type                               191\n",
       "Zipcode of Incident                     191\n",
       "Station Area                            191\n",
       "Box                                     191\n",
       "Number of Alarms                        191\n",
       "Unit Type                               191\n",
       "Unit sequence in call dispatch          191\n",
       "Fire Prevention District                191\n",
       "Neighborhooods - Analysis Boundaries    191\n",
       "Respond to Available                    191\n",
       "Call to Dispatch                        191\n",
       "Weekofyear                              191\n",
       "Hours                                   191\n",
       "Minutes                                 191\n",
       "Hospital or Transport                   191\n",
       "0                                       191\n",
       "1                                       191\n",
       "dtype: int64"
      ]
     },
     "execution_count": 82,
     "metadata": {},
     "output_type": "execute_result"
    }
   ],
   "source": [
    "df1[df1['Respond to Available']> 25n000].count()  #2046293"
   ]
  },
  {
   "cell_type": "markdown",
   "metadata": {},
   "source": [
    "###### df1[df['Respond to Available']==0]"
   ]
  },
  {
   "cell_type": "code",
   "execution_count": 65,
   "metadata": {},
   "outputs": [
    {
     "data": {
      "text/plain": [
       "389"
      ]
     },
     "execution_count": 65,
     "metadata": {},
     "output_type": "execute_result"
    }
   ],
   "source": []
  }
 ],
 "metadata": {
  "kernelspec": {
   "display_name": "Python 3",
   "language": "python",
   "name": "python3"
  },
  "language_info": {
   "codemirror_mode": {
    "name": "ipython",
    "version": 3
   },
   "file_extension": ".py",
   "mimetype": "text/x-python",
   "name": "python",
   "nbconvert_exporter": "python",
   "pygments_lexer": "ipython3",
   "version": "3.6.5"
  }
 },
 "nbformat": 4,
 "nbformat_minor": 2
}
