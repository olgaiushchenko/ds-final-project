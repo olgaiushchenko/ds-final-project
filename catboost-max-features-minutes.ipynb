{
 "cells": [
  {
   "cell_type": "code",
   "execution_count": 1,
   "metadata": {},
   "outputs": [],
   "source": [
    "%load_ext autoreload\n",
    "%autoreload 2\n",
    "\n",
    "import pandas as pd\n",
    "import numpy as np\n",
    "pd.set_option('display.max_columns', 999)"
   ]
  },
  {
   "cell_type": "code",
   "execution_count": 2,
   "metadata": {},
   "outputs": [],
   "source": [
    "from sklearn.model_selection import train_test_split\n",
    "from catboost import Pool, CatBoostRegressor"
   ]
  },
  {
   "cell_type": "code",
   "execution_count": 3,
   "metadata": {
    "scrolled": true
   },
   "outputs": [
    {
     "name": "stderr",
     "output_type": "stream",
     "text": [
      "/anaconda3/lib/python3.6/site-packages/IPython/core/interactiveshell.py:2728: DtypeWarning: Columns (19,25) have mixed types. Specify dtype option on import or set low_memory=False.\n",
      "  interactivity=interactivity, compiler=compiler, result=result)\n"
     ]
    }
   ],
   "source": [
    "df = pd.read_csv('Fire_Dep_Call_50%.csv')"
   ]
  },
  {
   "cell_type": "code",
   "execution_count": 5,
   "metadata": {},
   "outputs": [],
   "source": [
    "cols = ['Available DtTm', 'Response DtTm', 'Dispatch DtTm', 'Received DtTm']\n",
    "for col in cols:\n",
    "    df[col] = pd.to_datetime(df[col], format='%m/%d/%Y %I:%M:%S %p', infer_datetime_format=True)\n",
    "\n",
    "df['Respond to Available'] = df['Available DtTm'] - df['Response DtTm']\n",
    "df['Call to Dispatch'] = df['Dispatch DtTm'] - df['Received DtTm']\n"
   ]
  },
  {
   "cell_type": "code",
   "execution_count": 7,
   "metadata": {},
   "outputs": [],
   "source": [
    "time_cols = ['Respond to Available', 'Call to Dispatch']\n",
    "df[time_cols] = df[time_cols].applymap(lambda t: t.total_seconds()/60)\n",
    "df[time_cols] = df[time_cols].applymap(lambda x: max(x,0))"
   ]
  },
  {
   "cell_type": "code",
   "execution_count": 9,
   "metadata": {},
   "outputs": [],
   "source": [
    "df['Month'] = df['Received DtTm'].dt.month\n",
    "df['WeekDay'] = df['Received DtTm'].dt.weekday\n",
    "df['Weekofyear'] = df['Received DtTm'].dt.weekofyear\n",
    "df['Hours'] = df['Received DtTm'].dt.hour\n",
    "df['Minutes'] = df['Received DtTm'].dt.minute\n",
    "\n",
    "#---------added----------columns for hospital or transport\n",
    "df['Hospital or Transport'] = (~(df['Transport DtTm'].isna() & df['Hospital DtTm'].isna())).astype('int')"
   ]
  },
  {
   "cell_type": "code",
   "execution_count": 11,
   "metadata": {},
   "outputs": [],
   "source": [
    "def fill_na(df):\n",
    "    q = df['Original Priority'].value_counts(normalize=True) #counts share of valeus in col w/o N/A\n",
    "    orig_prio_list = q.index.tolist()  #makes indeces(priorities types) to a list\n",
    "    orig_prio_shares = q.tolist() #makes values of shares a list\n",
    "    df['Original Priority'] = df['Original Priority'].fillna(pd.Series(np.random.choice(orig_prio_list, p=orig_prio_shares, size=len(df))))\n",
    "\n",
    "    w = df['Call Type Group'].value_counts(normalize=True) #counts share of values in col w/o N/A\n",
    "    call_types_list = w.index.tolist()  #makes indeces(priorities types) to a list\n",
    "    call_types_shares = w.tolist() #makes values of shares a list\n",
    "    df['Call Type Group'] = df['Call Type Group'].fillna(pd.Series(np.random.choice(call_types_list, p=call_types_shares, size=len(df))))\n",
    "    \n",
    "fill_na(df)\n",
    "\n",
    "if((df['Zipcode of Incident'].nunique()) <= (df['Neighborhooods - Analysis Boundaries'].nunique())):\n",
    "    zipcodes = df[['Neighborhooods - Analysis Boundaries','Zipcode of Incident']]\n",
    "    zipcodes = zipcodes[zipcodes['Zipcode of Incident'].notnull()]\n",
    "    zips= list(zipcodes['Zipcode of Incident'].values)\n",
    "    nbhds= list(zipcodes['Neighborhooods - Analysis Boundaries'].values)\n",
    "    if len(zips) == len(nbhds):\n",
    "        zipcodes_dict=dict(zip(nbhds,zips))\n",
    "\n",
    "    else: \n",
    "        print('Count unique zipcodes != count neighborhooods, something went wrong.')\n",
    "else:\n",
    "    print('More zipcodes than neighborhooods, we need new strategy!')\n",
    "\n",
    "df['Zipcode of Incident'] = df['Zipcode of Incident'].fillna(df['Neighborhooods - Analysis Boundaries'].map(zipcodes_dict))\n",
    "df['Zipcode of Incident'] = df['Zipcode of Incident'].astype(int)"
   ]
  },
  {
   "cell_type": "code",
   "execution_count": 13,
   "metadata": {},
   "outputs": [],
   "source": [
    "df['Location'] = df['Location'].astype(tuple)\n",
    "locations = df['Location'].str[1:-1].str.split(',', expand=True).astype(float)\n",
    "df[locations.columns]= locations"
   ]
  },
  {
   "cell_type": "code",
   "execution_count": 17,
   "metadata": {},
   "outputs": [],
   "source": [
    "#only not null, not zero and less that 10 hours to solve\n",
    "df = df[(df['Respond to Available'].notnull()) & (df['Respond to Available'] <= 360) & (df['Respond to Available']>0.25)]"
   ]
  },
  {
   "cell_type": "code",
   "execution_count": 18,
   "metadata": {},
   "outputs": [],
   "source": [
    "#------cancelled dropping of 'Call to Dispatch','Minutes','Month', 'WeekDay', 'Call Type', \n",
    "df1 = df.drop(columns=['Call Number', 'Incident Number', 'Call Type Group', 'Call Date', 'Watch Date', \n",
    "                      'Received DtTm', 'Entry DtTm', 'Dispatch DtTm','Response DtTm', 'On Scene DtTm',\n",
    "                      'Transport DtTm','Hospital DtTm', 'Call Final Disposition', 'Available DtTm',\n",
    "                      'Supervisor District', 'Original Priority',\n",
    "                      'Address', 'City', 'Priority', 'Final Priority',  'Location', 'Month', 'WeekDay',  \n",
    "                      'RowID', 'Battalion', 'ALS Unit'], errors='ignore')"
   ]
  },
  {
   "cell_type": "code",
   "execution_count": 19,
   "metadata": {},
   "outputs": [],
   "source": [
    "df1 = df1.dropna(how='any') "
   ]
  },
  {
   "cell_type": "code",
   "execution_count": 20,
   "metadata": {},
   "outputs": [
    {
     "data": {
      "text/plain": [
       "(2038389, 18)"
      ]
     },
     "execution_count": 20,
     "metadata": {},
     "output_type": "execute_result"
    }
   ],
   "source": [
    "df1.shape"
   ]
  },
  {
   "cell_type": "code",
   "execution_count": 21,
   "metadata": {},
   "outputs": [],
   "source": [
    "y = df1['Respond to Available']\n",
    "X = df1.drop(columns=['Respond to Available'])\n",
    "X_train, X_test, y_train, y_test = train_test_split(X, y, test_size=0.3, shuffle=False)"
   ]
  },
  {
   "cell_type": "code",
   "execution_count": 22,
   "metadata": {},
   "outputs": [
    {
     "name": "stdout",
     "output_type": "stream",
     "text": [
      "<class 'pandas.core.frame.DataFrame'>\n",
      "Int64Index: 1426872 entries, 1 to 1648584\n",
      "Data columns (total 17 columns):\n",
      "Unit ID                                 1426872 non-null object\n",
      "Call Type                               1426872 non-null object\n",
      "Zipcode of Incident                     1426872 non-null int64\n",
      "Station Area                            1426872 non-null object\n",
      "Box                                     1426872 non-null float64\n",
      "Number of Alarms                        1426872 non-null int64\n",
      "Unit Type                               1426872 non-null object\n",
      "Unit sequence in call dispatch          1426872 non-null int64\n",
      "Fire Prevention District                1426872 non-null object\n",
      "Neighborhooods - Analysis Boundaries    1426872 non-null object\n",
      "Call to Dispatch                        1426872 non-null float64\n",
      "Weekofyear                              1426872 non-null int64\n",
      "Hours                                   1426872 non-null int64\n",
      "Minutes                                 1426872 non-null int64\n",
      "Hospital or Transport                   1426872 non-null int64\n",
      "0                                       1426872 non-null float64\n",
      "1                                       1426872 non-null float64\n",
      "dtypes: float64(4), int64(7), object(6)\n",
      "memory usage: 196.0+ MB\n"
     ]
    }
   ],
   "source": [
    "X_train.info()"
   ]
  },
  {
   "cell_type": "code",
   "execution_count": 23,
   "metadata": {},
   "outputs": [],
   "source": [
    "cat_features=[\n",
    "    0,\n",
    "    1,\n",
    "    3,\n",
    "    6,\n",
    "    8,\n",
    "    9\n",
    "]"
   ]
  },
  {
   "cell_type": "code",
   "execution_count": 24,
   "metadata": {},
   "outputs": [],
   "source": [
    "train_pool = Pool(X_train, y_train, cat_features=cat_features)\n",
    "test_pool = Pool(X_test, cat_features=cat_features)"
   ]
  },
  {
   "cell_type": "code",
   "execution_count": 25,
   "metadata": {
    "scrolled": true
   },
   "outputs": [
    {
     "name": "stdout",
     "output_type": "stream",
     "text": [
      "0:\tlearn: 33.1190751\ttotal: 3.62s\tremaining: 12m\n",
      "1:\tlearn: 30.7790504\ttotal: 6.77s\tremaining: 11m 10s\n",
      "2:\tlearn: 28.7380710\ttotal: 10.2s\tremaining: 11m 8s\n",
      "3:\tlearn: 26.9690839\ttotal: 13.1s\tremaining: 10m 40s\n",
      "4:\tlearn: 25.4451154\ttotal: 15.5s\tremaining: 10m 5s\n",
      "5:\tlearn: 24.1267572\ttotal: 18.1s\tremaining: 9m 44s\n",
      "6:\tlearn: 23.0020776\ttotal: 20.9s\tremaining: 9m 34s\n",
      "7:\tlearn: 22.0461638\ttotal: 23.2s\tremaining: 9m 17s\n",
      "8:\tlearn: 21.2282577\ttotal: 25.7s\tremaining: 9m 4s\n",
      "9:\tlearn: 20.5382089\ttotal: 28.4s\tremaining: 9m\n",
      "10:\tlearn: 19.9632218\ttotal: 31.3s\tremaining: 8m 58s\n",
      "11:\tlearn: 19.4661859\ttotal: 33.7s\tremaining: 8m 48s\n",
      "12:\tlearn: 19.0518342\ttotal: 36.5s\tremaining: 8m 44s\n",
      "13:\tlearn: 18.7057780\ttotal: 38.7s\tremaining: 8m 34s\n",
      "14:\tlearn: 18.4257680\ttotal: 41.3s\tremaining: 8m 29s\n",
      "15:\tlearn: 18.1861958\ttotal: 44.6s\tremaining: 8m 32s\n",
      "16:\tlearn: 17.9873484\ttotal: 47.8s\tremaining: 8m 34s\n",
      "17:\tlearn: 17.8138483\ttotal: 50.9s\tremaining: 8m 34s\n",
      "18:\tlearn: 17.6541259\ttotal: 53.6s\tremaining: 8m 30s\n",
      "19:\tlearn: 17.5240157\ttotal: 56.3s\tremaining: 8m 26s\n",
      "20:\tlearn: 17.4176637\ttotal: 59.3s\tremaining: 8m 25s\n",
      "21:\tlearn: 17.3301809\ttotal: 1m 2s\tremaining: 8m 24s\n",
      "22:\tlearn: 17.2582147\ttotal: 1m 5s\tremaining: 8m 22s\n",
      "23:\tlearn: 17.1906748\ttotal: 1m 8s\tremaining: 8m 20s\n",
      "24:\tlearn: 17.1349020\ttotal: 1m 10s\tremaining: 8m 16s\n",
      "25:\tlearn: 17.0887877\ttotal: 1m 13s\tremaining: 8m 15s\n",
      "26:\tlearn: 17.0487806\ttotal: 1m 17s\tremaining: 8m 13s\n",
      "27:\tlearn: 17.0161224\ttotal: 1m 20s\tremaining: 8m 12s\n",
      "28:\tlearn: 16.9885140\ttotal: 1m 23s\tremaining: 8m 10s\n",
      "29:\tlearn: 16.9633520\ttotal: 1m 26s\tremaining: 8m 8s\n",
      "30:\tlearn: 16.9363394\ttotal: 1m 29s\tremaining: 8m 6s\n",
      "31:\tlearn: 16.9144446\ttotal: 1m 32s\tremaining: 8m 4s\n",
      "32:\tlearn: 16.8980508\ttotal: 1m 35s\tremaining: 8m\n",
      "33:\tlearn: 16.8759427\ttotal: 1m 38s\tremaining: 7m 58s\n",
      "34:\tlearn: 16.8603305\ttotal: 1m 40s\tremaining: 7m 55s\n",
      "35:\tlearn: 16.8467582\ttotal: 1m 44s\tremaining: 7m 54s\n",
      "36:\tlearn: 16.8345034\ttotal: 1m 46s\tremaining: 7m 50s\n",
      "37:\tlearn: 16.8235919\ttotal: 1m 49s\tremaining: 7m 48s\n",
      "38:\tlearn: 16.8072035\ttotal: 1m 52s\tremaining: 7m 45s\n",
      "39:\tlearn: 16.7830735\ttotal: 1m 55s\tremaining: 7m 43s\n",
      "40:\tlearn: 16.7651428\ttotal: 1m 58s\tremaining: 7m 41s\n",
      "41:\tlearn: 16.7469224\ttotal: 2m 1s\tremaining: 7m 36s\n",
      "42:\tlearn: 16.7391589\ttotal: 2m 4s\tremaining: 7m 33s\n",
      "43:\tlearn: 16.7285703\ttotal: 2m 6s\tremaining: 7m 29s\n",
      "44:\tlearn: 16.7159850\ttotal: 2m 9s\tremaining: 7m 27s\n",
      "45:\tlearn: 16.7032183\ttotal: 2m 13s\tremaining: 7m 25s\n",
      "46:\tlearn: 16.6936269\ttotal: 2m 16s\tremaining: 7m 22s\n",
      "47:\tlearn: 16.6824788\ttotal: 2m 18s\tremaining: 7m 19s\n",
      "48:\tlearn: 16.6732019\ttotal: 2m 22s\tremaining: 7m 17s\n",
      "49:\tlearn: 16.6647086\ttotal: 2m 25s\tremaining: 7m 15s\n",
      "50:\tlearn: 16.6587332\ttotal: 2m 28s\tremaining: 7m 13s\n",
      "51:\tlearn: 16.6516398\ttotal: 2m 31s\tremaining: 7m 10s\n",
      "52:\tlearn: 16.6468779\ttotal: 2m 34s\tremaining: 7m 8s\n",
      "53:\tlearn: 16.6388716\ttotal: 2m 37s\tremaining: 7m 5s\n",
      "54:\tlearn: 16.6323224\ttotal: 2m 41s\tremaining: 7m 4s\n",
      "55:\tlearn: 16.6223263\ttotal: 2m 44s\tremaining: 7m 2s\n",
      "56:\tlearn: 16.6131100\ttotal: 2m 47s\tremaining: 7m\n",
      "57:\tlearn: 16.6060903\ttotal: 2m 50s\tremaining: 6m 58s\n",
      "58:\tlearn: 16.5936121\ttotal: 2m 54s\tremaining: 6m 55s\n",
      "59:\tlearn: 16.5882366\ttotal: 2m 56s\tremaining: 6m 52s\n",
      "60:\tlearn: 16.5831333\ttotal: 2m 59s\tremaining: 6m 49s\n",
      "61:\tlearn: 16.5756319\ttotal: 3m 2s\tremaining: 6m 46s\n",
      "62:\tlearn: 16.5694300\ttotal: 3m 5s\tremaining: 6m 43s\n",
      "\n",
      "Iteration with suspicious time 638 sec ignored in overall statistics.\n",
      "63:\tlearn: 16.5598796\ttotal: 3m 5s\tremaining: 6m 43s\n",
      "64:\tlearn: 16.5508390\ttotal: 3m 13s\tremaining: 6m 47s\n",
      "65:\tlearn: 16.5426608\ttotal: 3m 16s\tremaining: 6m 44s\n",
      "66:\tlearn: 16.5374614\ttotal: 3m 19s\tremaining: 6m 42s\n",
      "67:\tlearn: 16.5282863\ttotal: 3m 22s\tremaining: 6m 39s\n",
      "68:\tlearn: 16.5216884\ttotal: 3m 25s\tremaining: 6m 36s\n",
      "69:\tlearn: 16.5182614\ttotal: 3m 29s\tremaining: 6m 34s\n",
      "70:\tlearn: 16.5135818\ttotal: 3m 32s\tremaining: 6m 31s\n",
      "71:\tlearn: 16.5079854\ttotal: 3m 35s\tremaining: 6m 28s\n",
      "72:\tlearn: 16.5006790\ttotal: 3m 38s\tremaining: 6m 25s\n",
      "73:\tlearn: 16.4983640\ttotal: 3m 41s\tremaining: 6m 22s\n",
      "74:\tlearn: 16.4926453\ttotal: 3m 44s\tremaining: 6m 19s\n",
      "75:\tlearn: 16.4873042\ttotal: 3m 48s\tremaining: 6m 17s\n",
      "76:\tlearn: 16.4844165\ttotal: 3m 51s\tremaining: 6m 14s\n",
      "77:\tlearn: 16.4829224\ttotal: 3m 54s\tremaining: 6m 11s\n",
      "78:\tlearn: 16.4772982\ttotal: 3m 58s\tremaining: 6m 9s\n",
      "79:\tlearn: 16.4742769\ttotal: 4m 1s\tremaining: 6m 6s\n",
      "80:\tlearn: 16.4673787\ttotal: 4m 4s\tremaining: 6m 3s\n",
      "81:\tlearn: 16.4640360\ttotal: 4m 7s\tremaining: 6m\n",
      "82:\tlearn: 16.4624144\ttotal: 4m 9s\tremaining: 5m 56s\n",
      "83:\tlearn: 16.4596456\ttotal: 4m 12s\tremaining: 5m 53s\n",
      "84:\tlearn: 16.4557940\ttotal: 4m 15s\tremaining: 5m 49s\n",
      "85:\tlearn: 16.4501605\ttotal: 4m 18s\tremaining: 5m 46s\n",
      "86:\tlearn: 16.4485450\ttotal: 4m 21s\tremaining: 5m 43s\n",
      "87:\tlearn: 16.4461780\ttotal: 4m 24s\tremaining: 5m 40s\n",
      "88:\tlearn: 16.4426790\ttotal: 4m 27s\tremaining: 5m 36s\n",
      "89:\tlearn: 16.4362334\ttotal: 4m 30s\tremaining: 5m 33s\n",
      "90:\tlearn: 16.4331964\ttotal: 4m 33s\tremaining: 5m 30s\n",
      "91:\tlearn: 16.4315376\ttotal: 4m 36s\tremaining: 5m 27s\n",
      "92:\tlearn: 16.4290111\ttotal: 4m 39s\tremaining: 5m 24s\n",
      "93:\tlearn: 16.4232946\ttotal: 4m 42s\tremaining: 5m 21s\n",
      "94:\tlearn: 16.4184316\ttotal: 4m 45s\tremaining: 5m 18s\n",
      "95:\tlearn: 16.4165898\ttotal: 4m 47s\tremaining: 5m 15s\n",
      "96:\tlearn: 16.4151931\ttotal: 4m 50s\tremaining: 5m 11s\n",
      "97:\tlearn: 16.4111846\ttotal: 4m 54s\tremaining: 5m 9s\n",
      "98:\tlearn: 16.4040219\ttotal: 4m 56s\tremaining: 5m 6s\n",
      "99:\tlearn: 16.4021018\ttotal: 5m\tremaining: 5m 3s\n",
      "100:\tlearn: 16.3977636\ttotal: 5m 3s\tremaining: 5m\n",
      "101:\tlearn: 16.3929272\ttotal: 5m 6s\tremaining: 4m 57s\n",
      "102:\tlearn: 16.3901622\ttotal: 5m 10s\tremaining: 4m 54s\n",
      "103:\tlearn: 16.3849663\ttotal: 5m 13s\tremaining: 4m 51s\n",
      "104:\tlearn: 16.3784294\ttotal: 5m 16s\tremaining: 4m 49s\n",
      "105:\tlearn: 16.3737578\ttotal: 5m 19s\tremaining: 4m 46s\n",
      "106:\tlearn: 16.3676665\ttotal: 5m 22s\tremaining: 4m 42s\n",
      "107:\tlearn: 16.3605034\ttotal: 5m 25s\tremaining: 4m 39s\n",
      "108:\tlearn: 16.3538836\ttotal: 5m 28s\tremaining: 4m 36s\n",
      "109:\tlearn: 16.3500020\ttotal: 5m 31s\tremaining: 4m 33s\n",
      "110:\tlearn: 16.3444906\ttotal: 5m 34s\tremaining: 4m 30s\n",
      "111:\tlearn: 16.3399544\ttotal: 5m 37s\tremaining: 4m 27s\n",
      "112:\tlearn: 16.3358644\ttotal: 5m 40s\tremaining: 4m 24s\n",
      "113:\tlearn: 16.3304699\ttotal: 5m 43s\tremaining: 4m 21s\n",
      "114:\tlearn: 16.3271160\ttotal: 5m 46s\tremaining: 4m 18s\n",
      "115:\tlearn: 16.3250103\ttotal: 5m 49s\tremaining: 4m 15s\n",
      "116:\tlearn: 16.3198168\ttotal: 5m 52s\tremaining: 4m 12s\n",
      "117:\tlearn: 16.3164681\ttotal: 5m 55s\tremaining: 4m 9s\n",
      "118:\tlearn: 16.3146375\ttotal: 5m 58s\tremaining: 4m 6s\n",
      "119:\tlearn: 16.3127275\ttotal: 6m 1s\tremaining: 4m 2s\n",
      "120:\tlearn: 16.3108129\ttotal: 6m 4s\tremaining: 4m\n",
      "121:\tlearn: 16.3057873\ttotal: 6m 7s\tremaining: 3m 56s\n",
      "122:\tlearn: 16.3016703\ttotal: 6m 10s\tremaining: 3m 53s\n",
      "123:\tlearn: 16.2995928\ttotal: 6m 13s\tremaining: 3m 50s\n",
      "124:\tlearn: 16.2968792\ttotal: 6m 16s\tremaining: 3m 47s\n",
      "125:\tlearn: 16.2939446\ttotal: 6m 19s\tremaining: 3m 44s\n",
      "126:\tlearn: 16.2913895\ttotal: 6m 22s\tremaining: 3m 41s\n",
      "127:\tlearn: 16.2881326\ttotal: 6m 25s\tremaining: 3m 38s\n",
      "128:\tlearn: 16.2865153\ttotal: 6m 28s\tremaining: 3m 35s\n",
      "129:\tlearn: 16.2854092\ttotal: 6m 30s\tremaining: 3m 32s\n",
      "130:\tlearn: 16.2837068\ttotal: 6m 33s\tremaining: 3m 28s\n",
      "131:\tlearn: 16.2821475\ttotal: 6m 36s\tremaining: 3m 26s\n",
      "132:\tlearn: 16.2783615\ttotal: 6m 40s\tremaining: 3m 23s\n",
      "133:\tlearn: 16.2760833\ttotal: 6m 43s\tremaining: 3m 20s\n",
      "134:\tlearn: 16.2747235\ttotal: 6m 48s\tremaining: 3m 18s\n",
      "135:\tlearn: 16.2688601\ttotal: 6m 51s\tremaining: 3m 15s\n",
      "136:\tlearn: 16.2664534\ttotal: 6m 57s\tremaining: 3m 13s\n",
      "137:\tlearn: 16.2650709\ttotal: 7m\tremaining: 3m 10s\n",
      "138:\tlearn: 16.2638862\ttotal: 7m 4s\tremaining: 3m 7s\n",
      "139:\tlearn: 16.2626755\ttotal: 7m 8s\tremaining: 3m 4s\n",
      "140:\tlearn: 16.2588853\ttotal: 7m 11s\tremaining: 3m 1s\n",
      "141:\tlearn: 16.2559281\ttotal: 7m 14s\tremaining: 2m 58s\n",
      "142:\tlearn: 16.2548774\ttotal: 7m 17s\tremaining: 2m 55s\n",
      "143:\tlearn: 16.2536157\ttotal: 7m 20s\tremaining: 2m 52s\n",
      "144:\tlearn: 16.2517803\ttotal: 7m 23s\tremaining: 2m 49s\n",
      "145:\tlearn: 16.2457077\ttotal: 7m 26s\tremaining: 2m 46s\n",
      "146:\tlearn: 16.2450008\ttotal: 7m 30s\tremaining: 2m 43s\n",
      "147:\tlearn: 16.2382175\ttotal: 7m 33s\tremaining: 2m 40s\n",
      "148:\tlearn: 16.2360720\ttotal: 7m 36s\tremaining: 2m 37s\n",
      "149:\tlearn: 16.2350323\ttotal: 7m 40s\tremaining: 2m 34s\n",
      "150:\tlearn: 16.2317001\ttotal: 7m 43s\tremaining: 2m 31s\n",
      "151:\tlearn: 16.2304330\ttotal: 7m 47s\tremaining: 2m 28s\n"
     ]
    },
    {
     "name": "stdout",
     "output_type": "stream",
     "text": [
      "152:\tlearn: 16.2284682\ttotal: 7m 50s\tremaining: 2m 25s\n",
      "153:\tlearn: 16.2251880\ttotal: 7m 53s\tremaining: 2m 22s\n",
      "154:\tlearn: 16.2209813\ttotal: 7m 56s\tremaining: 2m 19s\n",
      "155:\tlearn: 16.2178059\ttotal: 7m 59s\tremaining: 2m 16s\n",
      "156:\tlearn: 16.2146933\ttotal: 8m 3s\tremaining: 2m 13s\n",
      "157:\tlearn: 16.2123556\ttotal: 8m 6s\tremaining: 2m 10s\n",
      "158:\tlearn: 16.2100156\ttotal: 8m 9s\tremaining: 2m 6s\n",
      "159:\tlearn: 16.2052409\ttotal: 8m 12s\tremaining: 2m 3s\n",
      "160:\tlearn: 16.2035928\ttotal: 8m 15s\tremaining: 2m\n",
      "161:\tlearn: 16.2007892\ttotal: 8m 17s\tremaining: 1m 57s\n",
      "162:\tlearn: 16.1987674\ttotal: 8m 20s\tremaining: 1m 54s\n",
      "163:\tlearn: 16.1961654\ttotal: 8m 24s\tremaining: 1m 51s\n",
      "164:\tlearn: 16.1949071\ttotal: 8m 26s\tremaining: 1m 48s\n",
      "165:\tlearn: 16.1921894\ttotal: 8m 30s\tremaining: 1m 45s\n",
      "166:\tlearn: 16.1908249\ttotal: 8m 33s\tremaining: 1m 42s\n",
      "167:\tlearn: 16.1887927\ttotal: 8m 36s\tremaining: 1m 38s\n",
      "168:\tlearn: 16.1875148\ttotal: 8m 39s\tremaining: 1m 35s\n",
      "169:\tlearn: 16.1856625\ttotal: 8m 43s\tremaining: 1m 32s\n",
      "170:\tlearn: 16.1837497\ttotal: 8m 45s\tremaining: 1m 29s\n",
      "171:\tlearn: 16.1820884\ttotal: 8m 48s\tremaining: 1m 26s\n",
      "172:\tlearn: 16.1782863\ttotal: 8m 51s\tremaining: 1m 23s\n",
      "173:\tlearn: 16.1749951\ttotal: 8m 54s\tremaining: 1m 20s\n",
      "174:\tlearn: 16.1729992\ttotal: 8m 58s\tremaining: 1m 17s\n",
      "175:\tlearn: 16.1710527\ttotal: 9m 1s\tremaining: 1m 14s\n",
      "176:\tlearn: 16.1685954\ttotal: 9m 4s\tremaining: 1m 11s\n",
      "177:\tlearn: 16.1671952\ttotal: 9m 7s\tremaining: 1m 8s\n",
      "178:\tlearn: 16.1653016\ttotal: 9m 10s\tremaining: 1m 4s\n",
      "179:\tlearn: 16.1632024\ttotal: 9m 13s\tremaining: 1m 1s\n",
      "180:\tlearn: 16.1618612\ttotal: 9m 16s\tremaining: 58.8s\n",
      "181:\tlearn: 16.1575194\ttotal: 9m 19s\tremaining: 55.7s\n",
      "182:\tlearn: 16.1563466\ttotal: 9m 22s\tremaining: 52.6s\n",
      "183:\tlearn: 16.1538459\ttotal: 9m 25s\tremaining: 49.5s\n",
      "184:\tlearn: 16.1527916\ttotal: 9m 29s\tremaining: 46.4s\n",
      "185:\tlearn: 16.1515950\ttotal: 9m 32s\tremaining: 43.3s\n",
      "186:\tlearn: 16.1503272\ttotal: 9m 35s\tremaining: 40.2s\n",
      "187:\tlearn: 16.1497079\ttotal: 9m 38s\tremaining: 37.1s\n",
      "188:\tlearn: 16.1477813\ttotal: 9m 41s\tremaining: 34s\n",
      "189:\tlearn: 16.1436161\ttotal: 9m 44s\tremaining: 30.9s\n",
      "190:\tlearn: 16.1421494\ttotal: 9m 47s\tremaining: 27.8s\n",
      "191:\tlearn: 16.1402356\ttotal: 9m 50s\tremaining: 24.7s\n",
      "192:\tlearn: 16.1370055\ttotal: 9m 53s\tremaining: 21.6s\n",
      "193:\tlearn: 16.1355905\ttotal: 9m 56s\tremaining: 18.6s\n",
      "194:\tlearn: 16.1340809\ttotal: 10m\tremaining: 15.5s\n",
      "195:\tlearn: 16.1317743\ttotal: 10m 3s\tremaining: 12.4s\n",
      "196:\tlearn: 16.1283036\ttotal: 10m 6s\tremaining: 9.28s\n",
      "197:\tlearn: 16.1260941\ttotal: 10m 9s\tremaining: 6.19s\n",
      "198:\tlearn: 16.1236311\ttotal: 10m 12s\tremaining: 3.09s\n",
      "199:\tlearn: 16.1212077\ttotal: 10m 15s\tremaining: 0us\n"
     ]
    },
    {
     "data": {
      "text/plain": [
       "<catboost.core.CatBoostRegressor at 0x1a270297b8>"
      ]
     },
     "execution_count": 25,
     "metadata": {},
     "output_type": "execute_result"
    }
   ],
   "source": [
    "model = CatBoostRegressor(iterations=200, depth=10,learning_rate=0.1)\n",
    "model.fit(train_pool)"
   ]
  },
  {
   "cell_type": "code",
   "execution_count": 26,
   "metadata": {},
   "outputs": [
    {
     "data": {
      "text/plain": [
       "15.919319026189518"
      ]
     },
     "execution_count": 26,
     "metadata": {},
     "output_type": "execute_result"
    }
   ],
   "source": [
    "model.score(test_pool, y_test)  #"
   ]
  },
  {
   "cell_type": "code",
   "execution_count": 27,
   "metadata": {},
   "outputs": [],
   "source": [
    "pred = model.predict(test_pool)"
   ]
  },
  {
   "cell_type": "code",
   "execution_count": 28,
   "metadata": {},
   "outputs": [
    {
     "data": {
      "text/html": [
       "<div>\n",
       "<style scoped>\n",
       "    .dataframe tbody tr th:only-of-type {\n",
       "        vertical-align: middle;\n",
       "    }\n",
       "\n",
       "    .dataframe tbody tr th {\n",
       "        vertical-align: top;\n",
       "    }\n",
       "\n",
       "    .dataframe thead th {\n",
       "        text-align: right;\n",
       "    }\n",
       "</style>\n",
       "<table border=\"1\" class=\"dataframe\">\n",
       "  <thead>\n",
       "    <tr style=\"text-align: right;\">\n",
       "      <th></th>\n",
       "      <th>Unit ID</th>\n",
       "      <th>Call Type</th>\n",
       "      <th>Zipcode of Incident</th>\n",
       "      <th>Station Area</th>\n",
       "      <th>Box</th>\n",
       "      <th>Number of Alarms</th>\n",
       "      <th>Unit Type</th>\n",
       "      <th>Unit sequence in call dispatch</th>\n",
       "      <th>Fire Prevention District</th>\n",
       "      <th>Neighborhooods - Analysis Boundaries</th>\n",
       "      <th>Call to Dispatch</th>\n",
       "      <th>Weekofyear</th>\n",
       "      <th>Hours</th>\n",
       "      <th>Minutes</th>\n",
       "      <th>Hospital or Transport</th>\n",
       "      <th>0</th>\n",
       "      <th>1</th>\n",
       "      <th>y_test</th>\n",
       "      <th>y_pred</th>\n",
       "      <th>y_test-y_pred</th>\n",
       "      <th>y_test-y_pred_squared</th>\n",
       "      <th>mean_y</th>\n",
       "      <th>diff</th>\n",
       "    </tr>\n",
       "  </thead>\n",
       "  <tbody>\n",
       "    <tr>\n",
       "      <th>1648585</th>\n",
       "      <td>MA1</td>\n",
       "      <td>Train / Rail Incident</td>\n",
       "      <td>94111</td>\n",
       "      <td>13</td>\n",
       "      <td>2809.0</td>\n",
       "      <td>1</td>\n",
       "      <td>SUPPORT</td>\n",
       "      <td>13</td>\n",
       "      <td>1</td>\n",
       "      <td>Financial District/South Beach</td>\n",
       "      <td>2.083333</td>\n",
       "      <td>23</td>\n",
       "      <td>9</td>\n",
       "      <td>7</td>\n",
       "      <td>0</td>\n",
       "      <td>37.792824</td>\n",
       "      <td>-122.397034</td>\n",
       "      <td>38.966667</td>\n",
       "      <td>74.780001</td>\n",
       "      <td>-35.813334</td>\n",
       "      <td>1282.594884</td>\n",
       "      <td>26.094591</td>\n",
       "      <td>12.872075</td>\n",
       "    </tr>\n",
       "    <tr>\n",
       "      <th>1648586</th>\n",
       "      <td>RC2</td>\n",
       "      <td>Train / Rail Incident</td>\n",
       "      <td>94111</td>\n",
       "      <td>13</td>\n",
       "      <td>2809.0</td>\n",
       "      <td>1</td>\n",
       "      <td>RESCUE CAPTAIN</td>\n",
       "      <td>12</td>\n",
       "      <td>1</td>\n",
       "      <td>Financial District/South Beach</td>\n",
       "      <td>2.083333</td>\n",
       "      <td>23</td>\n",
       "      <td>9</td>\n",
       "      <td>7</td>\n",
       "      <td>0</td>\n",
       "      <td>37.792824</td>\n",
       "      <td>-122.397034</td>\n",
       "      <td>66.266667</td>\n",
       "      <td>54.418434</td>\n",
       "      <td>11.848233</td>\n",
       "      <td>140.380625</td>\n",
       "      <td>26.094591</td>\n",
       "      <td>40.172075</td>\n",
       "    </tr>\n",
       "    <tr>\n",
       "      <th>1648587</th>\n",
       "      <td>RS1</td>\n",
       "      <td>Train / Rail Incident</td>\n",
       "      <td>94111</td>\n",
       "      <td>13</td>\n",
       "      <td>2809.0</td>\n",
       "      <td>1</td>\n",
       "      <td>RESCUE SQUAD</td>\n",
       "      <td>1</td>\n",
       "      <td>1</td>\n",
       "      <td>Financial District/South Beach</td>\n",
       "      <td>2.083333</td>\n",
       "      <td>23</td>\n",
       "      <td>9</td>\n",
       "      <td>7</td>\n",
       "      <td>0</td>\n",
       "      <td>37.792824</td>\n",
       "      <td>-122.397034</td>\n",
       "      <td>47.166667</td>\n",
       "      <td>51.706421</td>\n",
       "      <td>-4.539754</td>\n",
       "      <td>20.609365</td>\n",
       "      <td>26.094591</td>\n",
       "      <td>21.072075</td>\n",
       "    </tr>\n",
       "    <tr>\n",
       "      <th>1648588</th>\n",
       "      <td>T08</td>\n",
       "      <td>Train / Rail Incident</td>\n",
       "      <td>94111</td>\n",
       "      <td>13</td>\n",
       "      <td>2809.0</td>\n",
       "      <td>1</td>\n",
       "      <td>TRUCK</td>\n",
       "      <td>8</td>\n",
       "      <td>1</td>\n",
       "      <td>Financial District/South Beach</td>\n",
       "      <td>2.083333</td>\n",
       "      <td>23</td>\n",
       "      <td>9</td>\n",
       "      <td>7</td>\n",
       "      <td>0</td>\n",
       "      <td>37.792824</td>\n",
       "      <td>-122.397034</td>\n",
       "      <td>62.266667</td>\n",
       "      <td>60.436844</td>\n",
       "      <td>1.829823</td>\n",
       "      <td>3.348253</td>\n",
       "      <td>26.094591</td>\n",
       "      <td>36.172075</td>\n",
       "    </tr>\n",
       "    <tr>\n",
       "      <th>1648589</th>\n",
       "      <td>T13</td>\n",
       "      <td>Train / Rail Incident</td>\n",
       "      <td>94111</td>\n",
       "      <td>13</td>\n",
       "      <td>2809.0</td>\n",
       "      <td>1</td>\n",
       "      <td>TRUCK</td>\n",
       "      <td>4</td>\n",
       "      <td>1</td>\n",
       "      <td>Financial District/South Beach</td>\n",
       "      <td>2.083333</td>\n",
       "      <td>23</td>\n",
       "      <td>9</td>\n",
       "      <td>7</td>\n",
       "      <td>0</td>\n",
       "      <td>37.792824</td>\n",
       "      <td>-122.397034</td>\n",
       "      <td>54.700000</td>\n",
       "      <td>51.415826</td>\n",
       "      <td>3.284174</td>\n",
       "      <td>10.785800</td>\n",
       "      <td>26.094591</td>\n",
       "      <td>28.605409</td>\n",
       "    </tr>\n",
       "  </tbody>\n",
       "</table>\n",
       "</div>"
      ],
      "text/plain": [
       "        Unit ID              Call Type  Zipcode of Incident Station Area  \\\n",
       "1648585     MA1  Train / Rail Incident                94111           13   \n",
       "1648586     RC2  Train / Rail Incident                94111           13   \n",
       "1648587     RS1  Train / Rail Incident                94111           13   \n",
       "1648588     T08  Train / Rail Incident                94111           13   \n",
       "1648589     T13  Train / Rail Incident                94111           13   \n",
       "\n",
       "            Box  Number of Alarms       Unit Type  \\\n",
       "1648585  2809.0                 1         SUPPORT   \n",
       "1648586  2809.0                 1  RESCUE CAPTAIN   \n",
       "1648587  2809.0                 1    RESCUE SQUAD   \n",
       "1648588  2809.0                 1           TRUCK   \n",
       "1648589  2809.0                 1           TRUCK   \n",
       "\n",
       "         Unit sequence in call dispatch Fire Prevention District  \\\n",
       "1648585                              13                        1   \n",
       "1648586                              12                        1   \n",
       "1648587                               1                        1   \n",
       "1648588                               8                        1   \n",
       "1648589                               4                        1   \n",
       "\n",
       "        Neighborhooods - Analysis Boundaries  Call to Dispatch  Weekofyear  \\\n",
       "1648585       Financial District/South Beach          2.083333          23   \n",
       "1648586       Financial District/South Beach          2.083333          23   \n",
       "1648587       Financial District/South Beach          2.083333          23   \n",
       "1648588       Financial District/South Beach          2.083333          23   \n",
       "1648589       Financial District/South Beach          2.083333          23   \n",
       "\n",
       "         Hours  Minutes  Hospital or Transport          0           1  \\\n",
       "1648585      9        7                      0  37.792824 -122.397034   \n",
       "1648586      9        7                      0  37.792824 -122.397034   \n",
       "1648587      9        7                      0  37.792824 -122.397034   \n",
       "1648588      9        7                      0  37.792824 -122.397034   \n",
       "1648589      9        7                      0  37.792824 -122.397034   \n",
       "\n",
       "            y_test     y_pred  y_test-y_pred  y_test-y_pred_squared  \\\n",
       "1648585  38.966667  74.780001     -35.813334            1282.594884   \n",
       "1648586  66.266667  54.418434      11.848233             140.380625   \n",
       "1648587  47.166667  51.706421      -4.539754              20.609365   \n",
       "1648588  62.266667  60.436844       1.829823               3.348253   \n",
       "1648589  54.700000  51.415826       3.284174              10.785800   \n",
       "\n",
       "            mean_y       diff  \n",
       "1648585  26.094591  12.872075  \n",
       "1648586  26.094591  40.172075  \n",
       "1648587  26.094591  21.072075  \n",
       "1648588  26.094591  36.172075  \n",
       "1648589  26.094591  28.605409  "
      ]
     },
     "execution_count": 28,
     "metadata": {},
     "output_type": "execute_result"
    }
   ],
   "source": [
    "XYY = X_test.copy()\n",
    "XYY['y_test'] = y_test\n",
    "XYY['y_pred'] = pred\n",
    "XYY['y_test-y_pred'] = XYY['y_test']-XYY['y_pred']\n",
    "XYY['y_test-y_pred_squared'] = XYY['y_test-y_pred']**2\n",
    "mean_y = XYY['y_pred'].mean()\n",
    "XYY['mean_y'] = mean_y\n",
    "XYY['diff'] = XYY['y_test']-XYY['mean_y']\n",
    "XYY.head(5)"
   ]
  },
  {
   "cell_type": "code",
   "execution_count": 29,
   "metadata": {},
   "outputs": [],
   "source": [
    "mae = (abs(XYY['y_test-y_pred']).sum())/len(XYY['y_test-y_pred'])\n",
    "mse = (XYY['y_test-y_pred']**2).sum()/len(XYY['y_test-y_pred'])\n",
    "rmse = mse**0.5\n",
    "determanation_score = 1-((XYY['y_test-y_pred']**2).sum())/((XYY['diff']**2).sum())"
   ]
  },
  {
   "cell_type": "code",
   "execution_count": 30,
   "metadata": {},
   "outputs": [
    {
     "data": {
      "text/plain": [
       "9.790150183645451"
      ]
     },
     "execution_count": 30,
     "metadata": {},
     "output_type": "execute_result"
    }
   ],
   "source": [
    "mae"
   ]
  },
  {
   "cell_type": "code",
   "execution_count": 31,
   "metadata": {
    "scrolled": true
   },
   "outputs": [
    {
     "data": {
      "text/plain": [
       "253.42471825759958"
      ]
     },
     "execution_count": 31,
     "metadata": {},
     "output_type": "execute_result"
    }
   ],
   "source": [
    "mse"
   ]
  },
  {
   "cell_type": "code",
   "execution_count": 32,
   "metadata": {},
   "outputs": [
    {
     "data": {
      "text/plain": [
       "15.919319026189518"
      ]
     },
     "execution_count": 32,
     "metadata": {},
     "output_type": "execute_result"
    }
   ],
   "source": [
    "rmse"
   ]
  },
  {
   "cell_type": "code",
   "execution_count": 33,
   "metadata": {},
   "outputs": [
    {
     "data": {
      "text/plain": [
       "0.670844903021047"
      ]
     },
     "execution_count": 33,
     "metadata": {},
     "output_type": "execute_result"
    }
   ],
   "source": [
    "determanation_score"
   ]
  },
  {
   "cell_type": "code",
   "execution_count": 25,
   "metadata": {},
   "outputs": [
    {
     "name": "stdout",
     "output_type": "stream",
     "text": [
      "mae_mean: 1321.861401961035\n",
      "mse_mean: 2787813.019818711\n",
      "mrse_mean: 1669.6745251152126\n"
     ]
    }
   ],
   "source": [
    "#scores compare to mean\n",
    "total_mean = y_train.mean()\n",
    "mae_mean = (abs(XYY['y_test']-total_mean).sum())/len(XYY['y_test-y_pred'])\n",
    "print('mae_mean: '+ str(mae_mean))\n",
    "mse_mean = ((XYY['y_test']-total_mean)**2).sum()/len(XYY['y_test-y_pred'])\n",
    "print('mse_mean: '+ str(mse_mean))\n",
    "rmse_mean = mse_mean**0.5\n",
    "print('mrse_mean: '+ str(rmse_mean))"
   ]
  },
  {
   "cell_type": "code",
   "execution_count": 26,
   "metadata": {},
   "outputs": [
    {
     "data": {
      "text/plain": [
       "[('Unit ID', 3.5261619709332623),\n",
       " ('Call Type', 4.846185573847623),\n",
       " ('Zipcode of Incident', 1.7027669113551278),\n",
       " ('Station Area', 1.3459119047897528),\n",
       " ('Box', 2.8370940277866565),\n",
       " ('Number of Alarms', 14.061306561784868),\n",
       " ('Unit Type', 10.852290158303887),\n",
       " ('Unit sequence in call dispatch', 6.814616897523427),\n",
       " ('Fire Prevention District', 1.5079524017537211),\n",
       " ('Neighborhooods - Analysis Boundaries', 1.4758541918679036),\n",
       " ('Call to Dispatch', 3.4364287588214983),\n",
       " ('Weekofyear', 1.1681765828665176),\n",
       " ('Hours', 3.6451127079461307),\n",
       " ('Minutes', 1.133360747710849),\n",
       " ('Hospital or Transport', 36.29725153999676),\n",
       " (0, 2.80335721626495),\n",
       " (1, 2.546171846447061)]"
      ]
     },
     "execution_count": 26,
     "metadata": {},
     "output_type": "execute_result"
    }
   ],
   "source": [
    "val = model.get_feature_importance()\n",
    "feat = X_test.columns\n",
    "\n",
    "list(zip(feat,val))"
   ]
  },
  {
   "cell_type": "markdown",
   "metadata": {},
   "source": [
    "[('Battalion', 0.5078027445356504),\n",
    " ('Station Area', 6.135001357254266),\n",
    " ('Box', 9.114046028348575),\n",
    " ('Original Priority', 1.9631004892661137),\n",
    " ('ALS Unit', 0.8674294353822795),\n",
    " ('Call Type Group', 3.333459641176911),\n",
    " ('Unit Type', 41.73743300645736),\n",
    " ('Fire Prevention District', 1.5738692854230882),\n",
    " ('Supervisor District', 1.5693252610655513),\n",
    " ('Month', 0.5003596981995669),\n",
    " ('WeekDay', 0.7519625648056559),\n",
    " ('Weekofyear', 1.623724419771495),\n",
    " ('Hours', 8.179958110857296),\n",
    " ('Minutes', 1.0530441606569498),\n",
    " ('Call Type Merged', 21.08948379679924)]\n",
    " \n",
    " [('Station Area', 6.994516107181966),\n",
    " ('Box', 5.876354709490432),\n",
    " ('Original Priority', 0.9627007503785607),\n",
    " ('Call Type Group', 1.29599635276719),\n",
    " ('Unit Type', 60.51084666020504),\n",
    " ('Fire Prevention District', 0.3122714646717646),\n",
    " ('Supervisor District', 0.5588749902917611),\n",
    " ('Weekofyear', 0.0),\n",
    " ('Hours', 3.0604472528149556),\n",
    " ('Minutes', 0.0),\n",
    " ('Call Type Merged', 20.427991712198327)]"
   ]
  },
  {
   "cell_type": "code",
   "execution_count": null,
   "metadata": {},
   "outputs": [],
   "source": []
  },
  {
   "cell_type": "code",
   "execution_count": 27,
   "metadata": {},
   "outputs": [],
   "source": [
    "import matplotlib.pyplot as plt\n",
    "%matplotlib inline"
   ]
  },
  {
   "cell_type": "code",
   "execution_count": 28,
   "metadata": {},
   "outputs": [
    {
     "data": {
      "image/png": "[encoded data removed]",
      "text/plain": [
       "<matplotlib.figure.Figure at 0x1a2054c588>"
      ]
     },
     "metadata": {},
     "output_type": "display_data"
    }
   ],
   "source": [
    "XYY = XYY.sort_values('y_test')\n",
    "plt.figure(figsize=(15,10))\n",
    "plt.scatter(XYY.index, XYY['y_test'].sort_values(), color='b')\n",
    "plt.scatter(XYY.index, XYY['y_pred'], color='g')\n",
    "plt.show()"
   ]
  },
  {
   "cell_type": "code",
   "execution_count": 47,
   "metadata": {},
   "outputs": [
    {
     "data": {
      "text/plain": [
       "<matplotlib.collections.PathCollection at 0x1a1f67da90>"
      ]
     },
     "execution_count": 47,
     "metadata": {},
     "output_type": "execute_result"
    },
    {
     "data": {
      "image/png": "[encoded data removed]",
      "text/plain": [
       "<matplotlib.figure.Figure at 0x1a1f21a550>"
      ]
     },
     "metadata": {},
     "output_type": "display_data"
    }
   ],
   "source": [
    "plt.scatter(range(0,12957), df1['Respond to Available'].value_counts())"
   ]
  },
  {
   "cell_type": "code",
   "execution_count": 82,
   "metadata": {},
   "outputs": [
    {
     "data": {
      "text/plain": [
       "Unit ID                                 191\n",
       "Call Type                               191\n",
       "Zipcode of Incident                     191\n",
       "Station Area                            191\n",
       "Box                                     191\n",
       "Number of Alarms                        191\n",
       "Unit Type                               191\n",
       "Unit sequence in call dispatch          191\n",
       "Fire Prevention District                191\n",
       "Neighborhooods - Analysis Boundaries    191\n",
       "Respond to Available                    191\n",
       "Call to Dispatch                        191\n",
       "Weekofyear                              191\n",
       "Hours                                   191\n",
       "Minutes                                 191\n",
       "Hospital or Transport                   191\n",
       "0                                       191\n",
       "1                                       191\n",
       "dtype: int64"
      ]
     },
     "execution_count": 82,
     "metadata": {},
     "output_type": "execute_result"
    }
   ],
   "source": [
    "df1[df1['Respond to Available']> 25n000].count()  #2046293"
   ]
  },
  {
   "cell_type": "markdown",
   "metadata": {},
   "source": [
    "###### df1[df['Respond to Available']==0]"
   ]
  },
  {
   "cell_type": "code",
   "execution_count": 65,
   "metadata": {},
   "outputs": [
    {
     "data": {
      "text/plain": [
       "389"
      ]
     },
     "execution_count": 65,
     "metadata": {},
     "output_type": "execute_result"
    }
   ],
   "source": []
  }
 ],
 "metadata": {
  "kernelspec": {
   "display_name": "Python 3",
   "language": "python",
   "name": "python3"
  },
  "language_info": {
   "codemirror_mode": {
    "name": "ipython",
    "version": 3
   },
   "file_extension": ".py",
   "mimetype": "text/x-python",
   "name": "python",
   "nbconvert_exporter": "python",
   "pygments_lexer": "ipython3",
   "version": "3.6.5"
  }
 },
 "nbformat": 4,
 "nbformat_minor": 2
}
