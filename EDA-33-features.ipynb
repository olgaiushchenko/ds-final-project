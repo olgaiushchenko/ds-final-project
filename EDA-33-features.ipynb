{
 "cells": [
  {
   "cell_type": "code",
   "execution_count": 1,
   "metadata": {},
   "outputs": [],
   "source": [
    "import pandas as pd\n",
    "import numpy as np\n",
    "from datetime import datetime\n",
    "pd.set_option('display.max_columns', 999)"
   ]
  },
  {
   "cell_type": "code",
   "execution_count": null,
   "metadata": {},
   "outputs": [],
   "source": [
    "#int,str, int, str, datetime, datetime, datetime, datetime, datetime, datetime, datetime, datetime, datetime, str, datetime, str, str, int,str,str,str,str,str, int, bool, str,int,str,float,str, str, str, float, str\n",
    "# headers =['Call Number', 'Unit ID', 'Incident Number', 'Call Type', 'Call Date',\n",
    "#        'Watch Date', 'Received DtTm', 'Entry DtTm', 'Dispatch DtTm',\n",
    "#        'Response DtTm', 'On Scene DtTm', 'Transport DtTm', 'Hospital DtTm',\n",
    "#        'Call Final Disposition', 'Available DtTm', 'Address', 'City',\n",
    "#        'Zipcode of Incident', 'Battalion', 'Station Area', 'Box',\n",
    "#        'Original Priority', 'Priority', 'Final Priority', 'ALS Unit',\n",
    "#        'Call Type Group', 'Number of Alarms', 'Unit Type',\n",
    "#        'Unit sequence in call dispatch', 'Fire Prevention District',\n",
    "#        'Supervisor District', 'Neighborhooods - Analysis Boundaries',\n",
    "#        'Location', 'RowID']\n",
    "# dateCols = [ 'Call Date', 'Watch Date', 'Received DtTm', 'Entry DtTm', 'Dispatch DtTm','Response DtTm', \n",
    "#             'On Scene DtTm', 'Transport DtTm', 'Hospital DtTm', 'Available DtTm']\n",
    "# dtypes = [int,str, int, str, datetime, datetime, datetime, datetime, datetime, datetime, datetime, datetime, \n",
    "#           datetime, str, datetime, str, str, int,str,str,str,str,str, int, bool, str,int,str,float,str, str, str, float, str] \n",
    "\n"
   ]
  },
  {
   "cell_type": "code",
   "execution_count": 2,
   "metadata": {
    "scrolled": true
   },
   "outputs": [
    {
     "name": "stderr",
     "output_type": "stream",
     "text": [
      "/anaconda3/lib/python3.6/site-packages/IPython/core/interactiveshell.py:2728: DtypeWarning: Columns (19,20) have mixed types. Specify dtype option on import or set low_memory=False.\n",
      "  interactivity=interactivity, compiler=compiler, result=result)\n"
     ]
    }
   ],
   "source": [
    "df = pd.read_csv('Fire_Dep_Call_33%.csv')"
   ]
  },
  {
   "cell_type": "code",
   "execution_count": 3,
   "metadata": {},
   "outputs": [
    {
     "data": {
      "text/html": [
       "<div>\n",
       "<style scoped>\n",
       "    .dataframe tbody tr th:only-of-type {\n",
       "        vertical-align: middle;\n",
       "    }\n",
       "\n",
       "    .dataframe tbody tr th {\n",
       "        vertical-align: top;\n",
       "    }\n",
       "\n",
       "    .dataframe thead th {\n",
       "        text-align: right;\n",
       "    }\n",
       "</style>\n",
       "<table border=\"1\" class=\"dataframe\">\n",
       "  <thead>\n",
       "    <tr style=\"text-align: right;\">\n",
       "      <th></th>\n",
       "      <th>0</th>\n",
       "      <th>1</th>\n",
       "      <th>2</th>\n",
       "      <th>3</th>\n",
       "      <th>4</th>\n",
       "    </tr>\n",
       "  </thead>\n",
       "  <tbody>\n",
       "    <tr>\n",
       "      <th>131220350</th>\n",
       "      <td>131220351</td>\n",
       "      <td>131220352</td>\n",
       "      <td>131220352</td>\n",
       "      <td>131220353</td>\n",
       "      <td>131220353</td>\n",
       "    </tr>\n",
       "    <tr>\n",
       "      <th>E15</th>\n",
       "      <td>AM06</td>\n",
       "      <td>77</td>\n",
       "      <td>E01</td>\n",
       "      <td>83</td>\n",
       "      <td>AM22</td>\n",
       "    </tr>\n",
       "    <tr>\n",
       "      <th>13041162</th>\n",
       "      <td>13041163</td>\n",
       "      <td>13041164</td>\n",
       "      <td>13041164</td>\n",
       "      <td>13041165</td>\n",
       "      <td>13041165</td>\n",
       "    </tr>\n",
       "    <tr>\n",
       "      <th>Traffic Collision</th>\n",
       "      <td>Medical Incident</td>\n",
       "      <td>Medical Incident</td>\n",
       "      <td>Medical Incident</td>\n",
       "      <td>Medical Incident</td>\n",
       "      <td>Medical Incident</td>\n",
       "    </tr>\n",
       "    <tr>\n",
       "      <th>05/02/2013</th>\n",
       "      <td>05/02/2013</td>\n",
       "      <td>05/02/2013</td>\n",
       "      <td>05/02/2013</td>\n",
       "      <td>05/02/2013</td>\n",
       "      <td>05/02/2013</td>\n",
       "    </tr>\n",
       "    <tr>\n",
       "      <th>05/02/2013.1</th>\n",
       "      <td>05/02/2013</td>\n",
       "      <td>05/02/2013</td>\n",
       "      <td>05/02/2013</td>\n",
       "      <td>05/02/2013</td>\n",
       "      <td>05/02/2013</td>\n",
       "    </tr>\n",
       "    <tr>\n",
       "      <th>05/02/2013 05:26:07 PM</th>\n",
       "      <td>05/02/2013 05:26:10 PM</td>\n",
       "      <td>05/02/2013 05:29:32 PM</td>\n",
       "      <td>05/02/2013 05:29:32 PM</td>\n",
       "      <td>05/02/2013 05:32:02 PM</td>\n",
       "      <td>05/02/2013 05:32:02 PM</td>\n",
       "    </tr>\n",
       "    <tr>\n",
       "      <th>05/02/2013 05:26:07 PM.1</th>\n",
       "      <td>05/02/2013 05:26:52 PM</td>\n",
       "      <td>05/02/2013 05:29:58 PM</td>\n",
       "      <td>05/02/2013 05:29:58 PM</td>\n",
       "      <td>05/02/2013 05:32:08 PM</td>\n",
       "      <td>05/02/2013 05:32:08 PM</td>\n",
       "    </tr>\n",
       "    <tr>\n",
       "      <th>05/02/2013 05:26:07 PM.2</th>\n",
       "      <td>05/02/2013 05:28:58 PM</td>\n",
       "      <td>05/02/2013 05:30:23 PM</td>\n",
       "      <td>05/02/2013 05:30:23 PM</td>\n",
       "      <td>05/02/2013 05:33:53 PM</td>\n",
       "      <td>05/02/2013 06:03:15 PM</td>\n",
       "    </tr>\n",
       "    <tr>\n",
       "      <th>Unnamed: 9</th>\n",
       "      <td>05/02/2013 05:30:38 PM</td>\n",
       "      <td>05/02/2013 05:32:00 PM</td>\n",
       "      <td>05/02/2013 05:30:35 PM</td>\n",
       "      <td>05/02/2013 05:34:00 PM</td>\n",
       "      <td>05/02/2013 06:08:05 PM</td>\n",
       "    </tr>\n",
       "    <tr>\n",
       "      <th>Unnamed: 10</th>\n",
       "      <td>05/02/2013 05:39:28 PM</td>\n",
       "      <td>05/02/2013 05:35:35 PM</td>\n",
       "      <td>05/02/2013 05:35:34 PM</td>\n",
       "      <td>05/02/2013 05:41:58 PM</td>\n",
       "      <td>05/02/2013 06:14:07 PM</td>\n",
       "    </tr>\n",
       "    <tr>\n",
       "      <th>Unnamed: 11</th>\n",
       "      <td>NaN</td>\n",
       "      <td>05/02/2013 05:49:58 PM</td>\n",
       "      <td>NaN</td>\n",
       "      <td>05/02/2013 06:06:22 PM</td>\n",
       "      <td>05/02/2013 06:25:13 PM</td>\n",
       "    </tr>\n",
       "    <tr>\n",
       "      <th>Unnamed: 12</th>\n",
       "      <td>NaN</td>\n",
       "      <td>05/02/2013 06:18:06 PM</td>\n",
       "      <td>NaN</td>\n",
       "      <td>05/02/2013 06:15:37 PM</td>\n",
       "      <td>05/02/2013 06:34:18 PM</td>\n",
       "    </tr>\n",
       "    <tr>\n",
       "      <th>Fire</th>\n",
       "      <td>No Merit</td>\n",
       "      <td>Code 2 Transport</td>\n",
       "      <td>Other</td>\n",
       "      <td>Code 2 Transport</td>\n",
       "      <td>Code 2 Transport</td>\n",
       "    </tr>\n",
       "    <tr>\n",
       "      <th>05/02/2013 05:37:38 PM</th>\n",
       "      <td>05/02/2013 05:42:45 PM</td>\n",
       "      <td>05/02/2013 06:32:31 PM</td>\n",
       "      <td>05/02/2013 05:42:44 PM</td>\n",
       "      <td>05/02/2013 06:45:53 PM</td>\n",
       "      <td>05/02/2013 07:20:39 PM</td>\n",
       "    </tr>\n",
       "    <tr>\n",
       "      <th>OCEAN AV/GENEVA AV</th>\n",
       "      <td>900 Block of HAMPSHIRE ST</td>\n",
       "      <td>700 Block of TEHAMA ST</td>\n",
       "      <td>700 Block of TEHAMA ST</td>\n",
       "      <td>2200 Block of FOLSOM ST</td>\n",
       "      <td>2200 Block of FOLSOM ST</td>\n",
       "    </tr>\n",
       "    <tr>\n",
       "      <th>SF</th>\n",
       "      <td>SF</td>\n",
       "      <td>SF</td>\n",
       "      <td>SF</td>\n",
       "      <td>SF</td>\n",
       "      <td>SF</td>\n",
       "    </tr>\n",
       "    <tr>\n",
       "      <th>94112</th>\n",
       "      <td>94110</td>\n",
       "      <td>94103</td>\n",
       "      <td>94103</td>\n",
       "      <td>94110</td>\n",
       "      <td>94110</td>\n",
       "    </tr>\n",
       "    <tr>\n",
       "      <th>B09</th>\n",
       "      <td>B10</td>\n",
       "      <td>B02</td>\n",
       "      <td>B02</td>\n",
       "      <td>B02</td>\n",
       "      <td>B02</td>\n",
       "    </tr>\n",
       "    <tr>\n",
       "      <th>15</th>\n",
       "      <td>7</td>\n",
       "      <td>29</td>\n",
       "      <td>29</td>\n",
       "      <td>7</td>\n",
       "      <td>7</td>\n",
       "    </tr>\n",
       "    <tr>\n",
       "      <th>8472</th>\n",
       "      <td>2553</td>\n",
       "      <td>2322</td>\n",
       "      <td>2322</td>\n",
       "      <td>5424</td>\n",
       "      <td>5424</td>\n",
       "    </tr>\n",
       "    <tr>\n",
       "      <th>2</th>\n",
       "      <td>2</td>\n",
       "      <td>3</td>\n",
       "      <td>3</td>\n",
       "      <td>3</td>\n",
       "      <td>3</td>\n",
       "    </tr>\n",
       "    <tr>\n",
       "      <th>2.1</th>\n",
       "      <td>2</td>\n",
       "      <td>3</td>\n",
       "      <td>3</td>\n",
       "      <td>3</td>\n",
       "      <td>3</td>\n",
       "    </tr>\n",
       "    <tr>\n",
       "      <th>2.2</th>\n",
       "      <td>2</td>\n",
       "      <td>3</td>\n",
       "      <td>3</td>\n",
       "      <td>3</td>\n",
       "      <td>3</td>\n",
       "    </tr>\n",
       "    <tr>\n",
       "      <th>true</th>\n",
       "      <td>False</td>\n",
       "      <td>True</td>\n",
       "      <td>True</td>\n",
       "      <td>False</td>\n",
       "      <td>False</td>\n",
       "    </tr>\n",
       "    <tr>\n",
       "      <th>Non Life-threatening</th>\n",
       "      <td>Non Life-threatening</td>\n",
       "      <td>Potentially Life-Threatening</td>\n",
       "      <td>Potentially Life-Threatening</td>\n",
       "      <td>Potentially Life-Threatening</td>\n",
       "      <td>Potentially Life-Threatening</td>\n",
       "    </tr>\n",
       "    <tr>\n",
       "      <th>1</th>\n",
       "      <td>1</td>\n",
       "      <td>1</td>\n",
       "      <td>1</td>\n",
       "      <td>1</td>\n",
       "      <td>1</td>\n",
       "    </tr>\n",
       "    <tr>\n",
       "      <th>ENGINE</th>\n",
       "      <td>PRIVATE</td>\n",
       "      <td>MEDIC</td>\n",
       "      <td>ENGINE</td>\n",
       "      <td>MEDIC</td>\n",
       "      <td>PRIVATE</td>\n",
       "    </tr>\n",
       "    <tr>\n",
       "      <th>1.1</th>\n",
       "      <td>1</td>\n",
       "      <td>2</td>\n",
       "      <td>1</td>\n",
       "      <td>2</td>\n",
       "      <td>3</td>\n",
       "    </tr>\n",
       "    <tr>\n",
       "      <th>9</th>\n",
       "      <td>6</td>\n",
       "      <td>2</td>\n",
       "      <td>2</td>\n",
       "      <td>6</td>\n",
       "      <td>6</td>\n",
       "    </tr>\n",
       "    <tr>\n",
       "      <th>7</th>\n",
       "      <td>9</td>\n",
       "      <td>6</td>\n",
       "      <td>6</td>\n",
       "      <td>9</td>\n",
       "      <td>9</td>\n",
       "    </tr>\n",
       "    <tr>\n",
       "      <th>West of Twin Peaks</th>\n",
       "      <td>Mission</td>\n",
       "      <td>South of Market</td>\n",
       "      <td>South of Market</td>\n",
       "      <td>Mission</td>\n",
       "      <td>Mission</td>\n",
       "    </tr>\n",
       "    <tr>\n",
       "      <th>(37.7230802451635, -122.452331558779)</th>\n",
       "      <td>(37.7569026636256, -122.407747149414)</td>\n",
       "      <td>(37.775140430753, -122.411799525568)</td>\n",
       "      <td>(37.775140430753, -122.411799525568)</td>\n",
       "      <td>(37.7613032756102, -122.414851275684)</td>\n",
       "      <td>(37.7613032756102, -122.414851275684)</td>\n",
       "    </tr>\n",
       "    <tr>\n",
       "      <th>131220350-E15</th>\n",
       "      <td>131220351-AM06</td>\n",
       "      <td>131220352-77</td>\n",
       "      <td>131220352-E01</td>\n",
       "      <td>131220353-83</td>\n",
       "      <td>131220353-AM22</td>\n",
       "    </tr>\n",
       "  </tbody>\n",
       "</table>\n",
       "</div>"
      ],
      "text/plain": [
       "                                                                           0  \\\n",
       "131220350                                                          131220351   \n",
       "E15                                                                     AM06   \n",
       "13041162                                                            13041163   \n",
       "Traffic Collision                                           Medical Incident   \n",
       "05/02/2013                                                        05/02/2013   \n",
       "05/02/2013.1                                                      05/02/2013   \n",
       "05/02/2013 05:26:07 PM                                05/02/2013 05:26:10 PM   \n",
       "05/02/2013 05:26:07 PM.1                              05/02/2013 05:26:52 PM   \n",
       "05/02/2013 05:26:07 PM.2                              05/02/2013 05:28:58 PM   \n",
       "Unnamed: 9                                            05/02/2013 05:30:38 PM   \n",
       "Unnamed: 10                                           05/02/2013 05:39:28 PM   \n",
       "Unnamed: 11                                                              NaN   \n",
       "Unnamed: 12                                                              NaN   \n",
       "Fire                                                                No Merit   \n",
       "05/02/2013 05:37:38 PM                                05/02/2013 05:42:45 PM   \n",
       "OCEAN AV/GENEVA AV                                 900 Block of HAMPSHIRE ST   \n",
       "SF                                                                        SF   \n",
       "94112                                                                  94110   \n",
       "B09                                                                      B10   \n",
       "15                                                                         7   \n",
       "8472                                                                    2553   \n",
       "2                                                                          2   \n",
       "2.1                                                                        2   \n",
       "2.2                                                                        2   \n",
       "true                                                                   False   \n",
       "Non Life-threatening                                    Non Life-threatening   \n",
       "1                                                                          1   \n",
       "ENGINE                                                               PRIVATE   \n",
       "1.1                                                                        1   \n",
       "9                                                                          6   \n",
       "7                                                                          9   \n",
       "West of Twin Peaks                                                   Mission   \n",
       "(37.7230802451635, -122.452331558779)  (37.7569026636256, -122.407747149414)   \n",
       "131220350-E15                                                 131220351-AM06   \n",
       "\n",
       "                                                                          1  \\\n",
       "131220350                                                         131220352   \n",
       "E15                                                                      77   \n",
       "13041162                                                           13041164   \n",
       "Traffic Collision                                          Medical Incident   \n",
       "05/02/2013                                                       05/02/2013   \n",
       "05/02/2013.1                                                     05/02/2013   \n",
       "05/02/2013 05:26:07 PM                               05/02/2013 05:29:32 PM   \n",
       "05/02/2013 05:26:07 PM.1                             05/02/2013 05:29:58 PM   \n",
       "05/02/2013 05:26:07 PM.2                             05/02/2013 05:30:23 PM   \n",
       "Unnamed: 9                                           05/02/2013 05:32:00 PM   \n",
       "Unnamed: 10                                          05/02/2013 05:35:35 PM   \n",
       "Unnamed: 11                                          05/02/2013 05:49:58 PM   \n",
       "Unnamed: 12                                          05/02/2013 06:18:06 PM   \n",
       "Fire                                                       Code 2 Transport   \n",
       "05/02/2013 05:37:38 PM                               05/02/2013 06:32:31 PM   \n",
       "OCEAN AV/GENEVA AV                                   700 Block of TEHAMA ST   \n",
       "SF                                                                       SF   \n",
       "94112                                                                 94103   \n",
       "B09                                                                     B02   \n",
       "15                                                                       29   \n",
       "8472                                                                   2322   \n",
       "2                                                                         3   \n",
       "2.1                                                                       3   \n",
       "2.2                                                                       3   \n",
       "true                                                                   True   \n",
       "Non Life-threatening                           Potentially Life-Threatening   \n",
       "1                                                                         1   \n",
       "ENGINE                                                                MEDIC   \n",
       "1.1                                                                       2   \n",
       "9                                                                         2   \n",
       "7                                                                         6   \n",
       "West of Twin Peaks                                          South of Market   \n",
       "(37.7230802451635, -122.452331558779)  (37.775140430753, -122.411799525568)   \n",
       "131220350-E15                                                  131220352-77   \n",
       "\n",
       "                                                                          2  \\\n",
       "131220350                                                         131220352   \n",
       "E15                                                                     E01   \n",
       "13041162                                                           13041164   \n",
       "Traffic Collision                                          Medical Incident   \n",
       "05/02/2013                                                       05/02/2013   \n",
       "05/02/2013.1                                                     05/02/2013   \n",
       "05/02/2013 05:26:07 PM                               05/02/2013 05:29:32 PM   \n",
       "05/02/2013 05:26:07 PM.1                             05/02/2013 05:29:58 PM   \n",
       "05/02/2013 05:26:07 PM.2                             05/02/2013 05:30:23 PM   \n",
       "Unnamed: 9                                           05/02/2013 05:30:35 PM   \n",
       "Unnamed: 10                                          05/02/2013 05:35:34 PM   \n",
       "Unnamed: 11                                                             NaN   \n",
       "Unnamed: 12                                                             NaN   \n",
       "Fire                                                                  Other   \n",
       "05/02/2013 05:37:38 PM                               05/02/2013 05:42:44 PM   \n",
       "OCEAN AV/GENEVA AV                                   700 Block of TEHAMA ST   \n",
       "SF                                                                       SF   \n",
       "94112                                                                 94103   \n",
       "B09                                                                     B02   \n",
       "15                                                                       29   \n",
       "8472                                                                   2322   \n",
       "2                                                                         3   \n",
       "2.1                                                                       3   \n",
       "2.2                                                                       3   \n",
       "true                                                                   True   \n",
       "Non Life-threatening                           Potentially Life-Threatening   \n",
       "1                                                                         1   \n",
       "ENGINE                                                               ENGINE   \n",
       "1.1                                                                       1   \n",
       "9                                                                         2   \n",
       "7                                                                         6   \n",
       "West of Twin Peaks                                          South of Market   \n",
       "(37.7230802451635, -122.452331558779)  (37.775140430753, -122.411799525568)   \n",
       "131220350-E15                                                 131220352-E01   \n",
       "\n",
       "                                                                           3  \\\n",
       "131220350                                                          131220353   \n",
       "E15                                                                       83   \n",
       "13041162                                                            13041165   \n",
       "Traffic Collision                                           Medical Incident   \n",
       "05/02/2013                                                        05/02/2013   \n",
       "05/02/2013.1                                                      05/02/2013   \n",
       "05/02/2013 05:26:07 PM                                05/02/2013 05:32:02 PM   \n",
       "05/02/2013 05:26:07 PM.1                              05/02/2013 05:32:08 PM   \n",
       "05/02/2013 05:26:07 PM.2                              05/02/2013 05:33:53 PM   \n",
       "Unnamed: 9                                            05/02/2013 05:34:00 PM   \n",
       "Unnamed: 10                                           05/02/2013 05:41:58 PM   \n",
       "Unnamed: 11                                           05/02/2013 06:06:22 PM   \n",
       "Unnamed: 12                                           05/02/2013 06:15:37 PM   \n",
       "Fire                                                        Code 2 Transport   \n",
       "05/02/2013 05:37:38 PM                                05/02/2013 06:45:53 PM   \n",
       "OCEAN AV/GENEVA AV                                   2200 Block of FOLSOM ST   \n",
       "SF                                                                        SF   \n",
       "94112                                                                  94110   \n",
       "B09                                                                      B02   \n",
       "15                                                                         7   \n",
       "8472                                                                    5424   \n",
       "2                                                                          3   \n",
       "2.1                                                                        3   \n",
       "2.2                                                                        3   \n",
       "true                                                                   False   \n",
       "Non Life-threatening                            Potentially Life-Threatening   \n",
       "1                                                                          1   \n",
       "ENGINE                                                                 MEDIC   \n",
       "1.1                                                                        2   \n",
       "9                                                                          6   \n",
       "7                                                                          9   \n",
       "West of Twin Peaks                                                   Mission   \n",
       "(37.7230802451635, -122.452331558779)  (37.7613032756102, -122.414851275684)   \n",
       "131220350-E15                                                   131220353-83   \n",
       "\n",
       "                                                                           4  \n",
       "131220350                                                          131220353  \n",
       "E15                                                                     AM22  \n",
       "13041162                                                            13041165  \n",
       "Traffic Collision                                           Medical Incident  \n",
       "05/02/2013                                                        05/02/2013  \n",
       "05/02/2013.1                                                      05/02/2013  \n",
       "05/02/2013 05:26:07 PM                                05/02/2013 05:32:02 PM  \n",
       "05/02/2013 05:26:07 PM.1                              05/02/2013 05:32:08 PM  \n",
       "05/02/2013 05:26:07 PM.2                              05/02/2013 06:03:15 PM  \n",
       "Unnamed: 9                                            05/02/2013 06:08:05 PM  \n",
       "Unnamed: 10                                           05/02/2013 06:14:07 PM  \n",
       "Unnamed: 11                                           05/02/2013 06:25:13 PM  \n",
       "Unnamed: 12                                           05/02/2013 06:34:18 PM  \n",
       "Fire                                                        Code 2 Transport  \n",
       "05/02/2013 05:37:38 PM                                05/02/2013 07:20:39 PM  \n",
       "OCEAN AV/GENEVA AV                                   2200 Block of FOLSOM ST  \n",
       "SF                                                                        SF  \n",
       "94112                                                                  94110  \n",
       "B09                                                                      B02  \n",
       "15                                                                         7  \n",
       "8472                                                                    5424  \n",
       "2                                                                          3  \n",
       "2.1                                                                        3  \n",
       "2.2                                                                        3  \n",
       "true                                                                   False  \n",
       "Non Life-threatening                            Potentially Life-Threatening  \n",
       "1                                                                          1  \n",
       "ENGINE                                                               PRIVATE  \n",
       "1.1                                                                        3  \n",
       "9                                                                          6  \n",
       "7                                                                          9  \n",
       "West of Twin Peaks                                                   Mission  \n",
       "(37.7230802451635, -122.452331558779)  (37.7613032756102, -122.414851275684)  \n",
       "131220350-E15                                                 131220353-AM22  "
      ]
     },
     "execution_count": 3,
     "metadata": {},
     "output_type": "execute_result"
    }
   ],
   "source": [
    "df.head().T"
   ]
  },
  {
   "cell_type": "markdown",
   "metadata": {},
   "source": [
    "Dataframe consists of 1.556.179 rows and 34 columns."
   ]
  },
  {
   "cell_type": "code",
   "execution_count": 29,
   "metadata": {},
   "outputs": [
    {
     "data": {
      "text/plain": [
       "(1556179, 34)"
      ]
     },
     "execution_count": 29,
     "metadata": {},
     "output_type": "execute_result"
    }
   ],
   "source": [
    "df.shape"
   ]
  },
  {
   "cell_type": "code",
   "execution_count": 3,
   "metadata": {},
   "outputs": [],
   "source": [
    "#set names of columns since it is bottom part of original csv\n",
    "df.columns = ['Call Number', 'Unit ID', 'Incident Number', 'Call Type', 'Call Date',\n",
    "       'Watch Date', 'Received DtTm', 'Entry DtTm', 'Dispatch DtTm',\n",
    "       'Response DtTm', 'On Scene DtTm', 'Transport DtTm', 'Hospital DtTm',\n",
    "       'Call Final Disposition', 'Available DtTm', 'Address', 'City',\n",
    "       'Zipcode of Incident', 'Battalion', 'Station Area', 'Box',\n",
    "       'Original Priority', 'Priority', 'Final Priority', 'ALS Unit',\n",
    "       'Call Type Group', 'Number of Alarms', 'Unit Type',\n",
    "       'Unit sequence in call dispatch', 'Fire Prevention District',\n",
    "       'Supervisor District', 'Neighborhooods - Analysis Boundaries',\n",
    "       'Location', 'RowID']"
   ]
  },
  {
   "cell_type": "code",
   "execution_count": 4,
   "metadata": {},
   "outputs": [
    {
     "data": {
      "text/html": [
       "<div>\n",
       "<style scoped>\n",
       "    .dataframe tbody tr th:only-of-type {\n",
       "        vertical-align: middle;\n",
       "    }\n",
       "\n",
       "    .dataframe tbody tr th {\n",
       "        vertical-align: top;\n",
       "    }\n",
       "\n",
       "    .dataframe thead th {\n",
       "        text-align: right;\n",
       "    }\n",
       "</style>\n",
       "<table border=\"1\" class=\"dataframe\">\n",
       "  <thead>\n",
       "    <tr style=\"text-align: right;\">\n",
       "      <th></th>\n",
       "      <th>Call Date</th>\n",
       "      <th>Watch Date</th>\n",
       "      <th>Received DtTm</th>\n",
       "      <th>Entry DtTm</th>\n",
       "      <th>Dispatch DtTm</th>\n",
       "    </tr>\n",
       "  </thead>\n",
       "  <tbody>\n",
       "    <tr>\n",
       "      <th>0</th>\n",
       "      <td>05/02/2013</td>\n",
       "      <td>05/02/2013</td>\n",
       "      <td>05/02/2013 05:26:10 PM</td>\n",
       "      <td>05/02/2013 05:26:52 PM</td>\n",
       "      <td>05/02/2013 05:28:58 PM</td>\n",
       "    </tr>\n",
       "    <tr>\n",
       "      <th>1</th>\n",
       "      <td>05/02/2013</td>\n",
       "      <td>05/02/2013</td>\n",
       "      <td>05/02/2013 05:29:32 PM</td>\n",
       "      <td>05/02/2013 05:29:58 PM</td>\n",
       "      <td>05/02/2013 05:30:23 PM</td>\n",
       "    </tr>\n",
       "    <tr>\n",
       "      <th>2</th>\n",
       "      <td>05/02/2013</td>\n",
       "      <td>05/02/2013</td>\n",
       "      <td>05/02/2013 05:29:32 PM</td>\n",
       "      <td>05/02/2013 05:29:58 PM</td>\n",
       "      <td>05/02/2013 05:30:23 PM</td>\n",
       "    </tr>\n",
       "    <tr>\n",
       "      <th>3</th>\n",
       "      <td>05/02/2013</td>\n",
       "      <td>05/02/2013</td>\n",
       "      <td>05/02/2013 05:32:02 PM</td>\n",
       "      <td>05/02/2013 05:32:08 PM</td>\n",
       "      <td>05/02/2013 05:33:53 PM</td>\n",
       "    </tr>\n",
       "    <tr>\n",
       "      <th>4</th>\n",
       "      <td>05/02/2013</td>\n",
       "      <td>05/02/2013</td>\n",
       "      <td>05/02/2013 05:32:02 PM</td>\n",
       "      <td>05/02/2013 05:32:08 PM</td>\n",
       "      <td>05/02/2013 06:03:15 PM</td>\n",
       "    </tr>\n",
       "  </tbody>\n",
       "</table>\n",
       "</div>"
      ],
      "text/plain": [
       "    Call Date  Watch Date           Received DtTm              Entry DtTm  \\\n",
       "0  05/02/2013  05/02/2013  05/02/2013 05:26:10 PM  05/02/2013 05:26:52 PM   \n",
       "1  05/02/2013  05/02/2013  05/02/2013 05:29:32 PM  05/02/2013 05:29:58 PM   \n",
       "2  05/02/2013  05/02/2013  05/02/2013 05:29:32 PM  05/02/2013 05:29:58 PM   \n",
       "3  05/02/2013  05/02/2013  05/02/2013 05:32:02 PM  05/02/2013 05:32:08 PM   \n",
       "4  05/02/2013  05/02/2013  05/02/2013 05:32:02 PM  05/02/2013 05:32:08 PM   \n",
       "\n",
       "            Dispatch DtTm  \n",
       "0  05/02/2013 05:28:58 PM  \n",
       "1  05/02/2013 05:30:23 PM  \n",
       "2  05/02/2013 05:30:23 PM  \n",
       "3  05/02/2013 05:33:53 PM  \n",
       "4  05/02/2013 06:03:15 PM  "
      ]
     },
     "execution_count": 4,
     "metadata": {},
     "output_type": "execute_result"
    }
   ],
   "source": [
    "df[['Call Date','Watch Date', 'Received DtTm', 'Entry DtTm', 'Dispatch DtTm']].head()"
   ]
  },
  {
   "cell_type": "code",
   "execution_count": 6,
   "metadata": {},
   "outputs": [
    {
     "data": {
      "text/plain": [
       "Call Number                                   0\n",
       "Unit ID                                       0\n",
       "Incident Number                               0\n",
       "Call Type                                     0\n",
       "Call Date                                     0\n",
       "Watch Date                                    0\n",
       "Received DtTm                                 0\n",
       "Entry DtTm                                    0\n",
       "Dispatch DtTm                                 0\n",
       "Response DtTm                             56580\n",
       "On Scene DtTm                            322118\n",
       "Transport DtTm                          1131571\n",
       "Hospital DtTm                           1141874\n",
       "Call Final Disposition                        0\n",
       "Available DtTm                             5214\n",
       "Address                                       0\n",
       "City                                       7033\n",
       "Zipcode of Incident                        3153\n",
       "Battalion                                     0\n",
       "Station Area                               2296\n",
       "Box                                          77\n",
       "Original Priority                         25528\n",
       "Priority                                      2\n",
       "Final Priority                                0\n",
       "ALS Unit                                      0\n",
       "Call Type Group                             902\n",
       "Number of Alarms                              0\n",
       "Unit Type                                     0\n",
       "Unit sequence in call dispatch               63\n",
       "Fire Prevention District                      0\n",
       "Supervisor District                           0\n",
       "Neighborhooods - Analysis Boundaries          0\n",
       "Location                                      0\n",
       "RowID                                         0\n",
       "dtype: int64"
      ]
     },
     "execution_count": 6,
     "metadata": {},
     "output_type": "execute_result"
    }
   ],
   "source": [
    "df.isnull().sum()"
   ]
  },
  {
   "cell_type": "code",
   "execution_count": 21,
   "metadata": {},
   "outputs": [
    {
     "data": {
      "text/plain": [
       "Index(['Call Number', 'Unit ID', 'Incident Number', 'Call Type', 'Call Date',\n",
       "       'Watch Date', 'Received DtTm', 'Entry DtTm', 'Dispatch DtTm',\n",
       "       'Response DtTm', 'On Scene DtTm', 'Transport DtTm', 'Hospital DtTm',\n",
       "       'Call Final Disposition', 'Available DtTm', 'Address', 'City',\n",
       "       'Zipcode of Incident', 'Battalion', 'Station Area', 'Box',\n",
       "       'Original Priority', 'Priority', 'Final Priority', 'ALS Unit',\n",
       "       'Call Type Group', 'Number of Alarms', 'Unit Type',\n",
       "       'Unit sequence in call dispatch', 'Fire Prevention District',\n",
       "       'Supervisor District', 'Neighborhooods - Analysis Boundaries',\n",
       "       'Location', 'RowID'],\n",
       "      dtype='object')"
      ]
     },
     "execution_count": 21,
     "metadata": {},
     "output_type": "execute_result"
    }
   ],
   "source": [
    "df.columns"
   ]
  },
  {
   "cell_type": "code",
   "execution_count": 66,
   "metadata": {},
   "outputs": [
    {
     "name": "stdout",
     "output_type": "stream",
     "text": [
      "<class 'pandas.core.frame.DataFrame'>\n",
      "RangeIndex: 1556179 entries, 0 to 1556178\n",
      "Data columns (total 34 columns):\n",
      "Call Number                             1556179 non-null int64\n",
      "Unit ID                                 1556179 non-null object\n",
      "Incident Number                         1556179 non-null int64\n",
      "Call Type                               1556179 non-null object\n",
      "Call Date                               1556179 non-null object\n",
      "Watch Date                              1556179 non-null object\n",
      "Received DtTm                           1556179 non-null object\n",
      "Entry DtTm                              1556179 non-null object\n",
      "Dispatch DtTm                           1556179 non-null object\n",
      "Response DtTm                           1499599 non-null object\n",
      "On Scene DtTm                           1234061 non-null object\n",
      "Transport DtTm                          424608 non-null object\n",
      "Hospital DtTm                           414305 non-null object\n",
      "Call Final Disposition                  1556179 non-null object\n",
      "Available DtTm                          1550965 non-null object\n",
      "Address                                 1556179 non-null object\n",
      "City                                    1549146 non-null object\n",
      "Zipcode of Incident                     1553026 non-null float64\n",
      "Battalion                               1556179 non-null object\n",
      "Station Area                            1553883 non-null object\n",
      "Box                                     1556102 non-null object\n",
      "Original Priority                       1530651 non-null object\n",
      "Priority                                1556177 non-null object\n",
      "Final Priority                          1556179 non-null int64\n",
      "ALS Unit                                1556179 non-null bool\n",
      "Call Type Group                         1555277 non-null object\n",
      "Number of Alarms                        1556179 non-null int64\n",
      "Unit Type                               1556179 non-null object\n",
      "Unit sequence in call dispatch          1556116 non-null float64\n",
      "Fire Prevention District                1556179 non-null object\n",
      "Supervisor District                     1556179 non-null object\n",
      "Neighborhooods - Analysis Boundaries    1556179 non-null object\n",
      "Location                                1556179 non-null object\n",
      "RowID                                   1556179 non-null object\n",
      "dtypes: bool(1), float64(2), int64(4), object(27)\n",
      "memory usage: 393.3+ MB\n"
     ]
    }
   ],
   "source": [
    "df.info()"
   ]
  },
  {
   "cell_type": "markdown",
   "metadata": {},
   "source": [
    "# FILLING NA FOR ZIPCODES"
   ]
  },
  {
   "cell_type": "code",
   "execution_count": 8,
   "metadata": {},
   "outputs": [
    {
     "data": {
      "text/plain": [
       "27"
      ]
     },
     "execution_count": 8,
     "metadata": {},
     "output_type": "execute_result"
    }
   ],
   "source": [
    "df['Zipcode of Incident'].nunique()"
   ]
  },
  {
   "cell_type": "code",
   "execution_count": 9,
   "metadata": {},
   "outputs": [
    {
     "data": {
      "text/plain": [
       "42"
      ]
     },
     "execution_count": 9,
     "metadata": {},
     "output_type": "execute_result"
    }
   ],
   "source": [
    "df['Neighborhooods - Analysis Boundaries'].nunique()"
   ]
  },
  {
   "cell_type": "code",
   "execution_count": 10,
   "metadata": {},
   "outputs": [],
   "source": [
    "zipcodes = df[['Neighborhooods - Analysis Boundaries','Zipcode of Incident']]\n",
    "zipcodes = zipcodes[zipcodes['Zipcode of Incident'].notnull()]\n",
    "zipcodes['Zipcode of Incident'] = zipcodes['Zipcode of Incident'].astype(int)"
   ]
  },
  {
   "cell_type": "code",
   "execution_count": 11,
   "metadata": {},
   "outputs": [],
   "source": [
    "zips= list(zipcodes['Zipcode of Incident'].values)\n",
    "#zips"
   ]
  },
  {
   "cell_type": "code",
   "execution_count": 12,
   "metadata": {},
   "outputs": [],
   "source": [
    "nbhds= list(zipcodes['Neighborhooods - Analysis Boundaries'].values)\n",
    "#nbhds"
   ]
  },
  {
   "cell_type": "code",
   "execution_count": 13,
   "metadata": {
    "scrolled": true
   },
   "outputs": [
    {
     "data": {
      "text/plain": [
       "(1553026, 1553026)"
      ]
     },
     "execution_count": 13,
     "metadata": {},
     "output_type": "execute_result"
    }
   ],
   "source": [
    "len(zips), len(nbhds)"
   ]
  },
  {
   "cell_type": "code",
   "execution_count": 14,
   "metadata": {},
   "outputs": [],
   "source": [
    "zipcodes_dict=dict(zip(nbhds,zips))\n",
    "#zipcodes_dict"
   ]
  },
  {
   "cell_type": "code",
   "execution_count": 15,
   "metadata": {},
   "outputs": [],
   "source": [
    "df['Zipcode of Incident']=df['Zipcode of Incident'].fillna(df['Neighborhooods - Analysis Boundaries'].map(zipcodes_dict))"
   ]
  },
  {
   "cell_type": "code",
   "execution_count": 16,
   "metadata": {},
   "outputs": [
    {
     "data": {
      "text/plain": [
       "Call Number                                   0\n",
       "Unit ID                                       0\n",
       "Incident Number                               0\n",
       "Call Type                                     0\n",
       "Call Date                                     0\n",
       "Watch Date                                    0\n",
       "Received DtTm                                 0\n",
       "Entry DtTm                                    0\n",
       "Dispatch DtTm                                 0\n",
       "Response DtTm                             56580\n",
       "On Scene DtTm                            322118\n",
       "Transport DtTm                          1131571\n",
       "Hospital DtTm                           1141874\n",
       "Call Final Disposition                        0\n",
       "Available DtTm                             5214\n",
       "Address                                       0\n",
       "City                                       7033\n",
       "Zipcode of Incident                           0\n",
       "Battalion                                     0\n",
       "Station Area                               2296\n",
       "Box                                          77\n",
       "Original Priority                         25528\n",
       "Priority                                      2\n",
       "Final Priority                                0\n",
       "ALS Unit                                      0\n",
       "Call Type Group                             902\n",
       "Number of Alarms                              0\n",
       "Unit Type                                     0\n",
       "Unit sequence in call dispatch               63\n",
       "Fire Prevention District                      0\n",
       "Supervisor District                           0\n",
       "Neighborhooods - Analysis Boundaries          0\n",
       "Location                                      0\n",
       "RowID                                         0\n",
       "dtype: int64"
      ]
     },
     "execution_count": 16,
     "metadata": {},
     "output_type": "execute_result"
    }
   ],
   "source": [
    "df.isnull().sum()"
   ]
  },
  {
   "cell_type": "markdown",
   "metadata": {},
   "source": [
    "# ORIGINAL PRIORITY RANDOM SHARE"
   ]
  },
  {
   "cell_type": "code",
   "execution_count": 17,
   "metadata": {},
   "outputs": [],
   "source": [
    "#df[(df['Original Priority'].isnull() == True) & (df['On Scene DtTm'].isnull() != True)]"
   ]
  },
  {
   "cell_type": "code",
   "execution_count": 18,
   "metadata": {},
   "outputs": [],
   "source": [
    "df['Original Priority'].value_counts() #counts all values in column w/o N/A\n",
    "df['Original Priority'].value_counts(normalize=True, dropna=False) #counts share of valeus in col including N/A\n",
    "q = df['Original Priority'].value_counts(normalize=True) #counts share of valeus in col w/o N/A\n",
    "orig_prio_list = q.index.tolist()  #makes indeces(priorities types) to a list\n",
    "orig_prio_shares = q.tolist() #makes values of shares a list"
   ]
  },
  {
   "cell_type": "code",
   "execution_count": 19,
   "metadata": {},
   "outputs": [],
   "source": [
    "#same as above but longer, though useful for code script\n",
    "#df['Original Priority'].value_counts(normalize=True).index.tolist()\n",
    "#df['Original Priority'].value_counts(normalize=True).tolist()"
   ]
  },
  {
   "cell_type": "code",
   "execution_count": 20,
   "metadata": {},
   "outputs": [],
   "source": [
    "df['Original Priority'] = df['Original Priority'].fillna(pd.Series(np.random.choice(orig_prio_list, \n",
    "                                                      p=orig_prio_shares, size=len(df))))"
   ]
  },
  {
   "cell_type": "code",
   "execution_count": null,
   "metadata": {},
   "outputs": [],
   "source": []
  },
  {
   "cell_type": "code",
   "execution_count": null,
   "metadata": {},
   "outputs": [],
   "source": []
  },
  {
   "cell_type": "markdown",
   "metadata": {},
   "source": [
    "# Time NAs"
   ]
  },
  {
   "cell_type": "code",
   "execution_count": 5,
   "metadata": {},
   "outputs": [],
   "source": [
    "time_df = df[['Call Date', 'Received DtTm', 'Entry DtTm', 'Dispatch DtTm', 'Response DtTm', \n",
    "              'On Scene DtTm', 'Transport DtTm', 'Hospital DtTm', 'Available DtTm']]\n",
    "time_df_small = df[['Call Date']]"
   ]
  },
  {
   "cell_type": "code",
   "execution_count": 17,
   "metadata": {},
   "outputs": [
    {
     "data": {
      "text/plain": [
       "0    05/02/2013\n",
       "1    05/02/2013\n",
       "2    05/02/2013\n",
       "3    05/02/2013\n",
       "4    05/02/2013\n",
       "Name: Call Date, dtype: object"
      ]
     },
     "execution_count": 17,
     "metadata": {},
     "output_type": "execute_result"
    }
   ],
   "source": [
    "s = pd.Series(df['Call Date'])"
   ]
  },
  {
   "cell_type": "code",
   "execution_count": 20,
   "metadata": {},
   "outputs": [
    {
     "name": "stdout",
     "output_type": "stream",
     "text": [
      "3.66 s ± 14.6 ms per loop (mean ± std. dev. of 7 runs, 1 loop each)\n"
     ]
    }
   ],
   "source": [
    "%timeit pd.to_datetime(s,infer_datetime_format=True)"
   ]
  },
  {
   "cell_type": "code",
   "execution_count": null,
   "metadata": {},
   "outputs": [],
   "source": [
    "%timeit pd.to_datetime(s, format='%d%m%Y', errors='ignore',infer_datetime_format=True)"
   ]
  },
  {
   "cell_type": "code",
   "execution_count": 6,
   "metadata": {},
   "outputs": [],
   "source": [
    "#time_df.info()"
   ]
  },
  {
   "cell_type": "code",
   "execution_count": 7,
   "metadata": {},
   "outputs": [
    {
     "name": "stdout",
     "output_type": "stream",
     "text": [
      "<class 'pandas.core.frame.DataFrame'>\n",
      "RangeIndex: 1556179 entries, 0 to 1556178\n",
      "Data columns (total 1 columns):\n",
      "Call Date    1556179 non-null object\n",
      "dtypes: object(1)\n",
      "memory usage: 11.9+ MB\n"
     ]
    }
   ],
   "source": [
    "time_df_small.info()"
   ]
  },
  {
   "cell_type": "code",
   "execution_count": 3,
   "metadata": {},
   "outputs": [],
   "source": [
    "#dateparse = lambda x: pd.datetime.strptime(x, '%d-%m-%Y %H:%M:%S')\n",
    "#dateparse = lambda x: pd.datetime.strptime(x, '%d-%m-%Y %H:%M:%S')\n"
   ]
  },
  {
   "cell_type": "code",
   "execution_count": 7,
   "metadata": {},
   "outputs": [],
   "source": [
    "#time_df['Call Date'] = pd.to_datetime(time_df['Call Date'])"
   ]
  },
  {
   "cell_type": "code",
   "execution_count": null,
   "metadata": {},
   "outputs": [],
   "source": [
    "pd.to_datetime(time_df_small.stack()).unstack()"
   ]
  },
  {
   "cell_type": "code",
   "execution_count": null,
   "metadata": {},
   "outputs": [],
   "source": [
    "#dtd = time_df_small.apply(pd.to_datetime)"
   ]
  },
  {
   "cell_type": "markdown",
   "metadata": {},
   "source": [
    "# Call TYPE NA  filling"
   ]
  },
  {
   "cell_type": "code",
   "execution_count": 130,
   "metadata": {},
   "outputs": [],
   "source": [
    "call_types = df[['Call Type', 'Call Type Group', 'Original Priority']]\n",
    "gr_types = call_types.groupby('Call Type')"
   ]
  },
  {
   "cell_type": "code",
   "execution_count": 132,
   "metadata": {
    "scrolled": true
   },
   "outputs": [
    {
     "data": {
      "text/html": [
       "<div>\n",
       "<style scoped>\n",
       "    .dataframe tbody tr th:only-of-type {\n",
       "        vertical-align: middle;\n",
       "    }\n",
       "\n",
       "    .dataframe tbody tr th {\n",
       "        vertical-align: top;\n",
       "    }\n",
       "\n",
       "    .dataframe thead th {\n",
       "        text-align: right;\n",
       "    }\n",
       "</style>\n",
       "<table border=\"1\" class=\"dataframe\">\n",
       "  <thead>\n",
       "    <tr style=\"text-align: right;\">\n",
       "      <th></th>\n",
       "      <th>Call Type</th>\n",
       "      <th>Call Type Group</th>\n",
       "      <th>Original Priority</th>\n",
       "    </tr>\n",
       "  </thead>\n",
       "  <tbody>\n",
       "    <tr>\n",
       "      <th>0</th>\n",
       "      <td>Medical Incident</td>\n",
       "      <td>Non Life-threatening</td>\n",
       "      <td>2</td>\n",
       "    </tr>\n",
       "    <tr>\n",
       "      <th>1</th>\n",
       "      <td>Medical Incident</td>\n",
       "      <td>Potentially Life-Threatening</td>\n",
       "      <td>3</td>\n",
       "    </tr>\n",
       "    <tr>\n",
       "      <th>2</th>\n",
       "      <td>Medical Incident</td>\n",
       "      <td>Potentially Life-Threatening</td>\n",
       "      <td>3</td>\n",
       "    </tr>\n",
       "    <tr>\n",
       "      <th>3</th>\n",
       "      <td>Medical Incident</td>\n",
       "      <td>Potentially Life-Threatening</td>\n",
       "      <td>3</td>\n",
       "    </tr>\n",
       "    <tr>\n",
       "      <th>4</th>\n",
       "      <td>Medical Incident</td>\n",
       "      <td>Potentially Life-Threatening</td>\n",
       "      <td>3</td>\n",
       "    </tr>\n",
       "  </tbody>\n",
       "</table>\n",
       "</div>"
      ],
      "text/plain": [
       "          Call Type               Call Type Group Original Priority\n",
       "0  Medical Incident          Non Life-threatening                 2\n",
       "1  Medical Incident  Potentially Life-Threatening                 3\n",
       "2  Medical Incident  Potentially Life-Threatening                 3\n",
       "3  Medical Incident  Potentially Life-Threatening                 3\n",
       "4  Medical Incident  Potentially Life-Threatening                 3"
      ]
     },
     "execution_count": 132,
     "metadata": {},
     "output_type": "execute_result"
    }
   ],
   "source": [
    "call_types[call_types['Call Type']=='Medical Incident'].head()"
   ]
  },
  {
   "cell_type": "code",
   "execution_count": 13,
   "metadata": {},
   "outputs": [],
   "source": [
    "df_model = df[df['On Scene DtTm'].notnull()]"
   ]
  },
  {
   "cell_type": "code",
   "execution_count": 14,
   "metadata": {},
   "outputs": [],
   "source": [
    "df_model = df_model.drop(columns =['Call Number','Incident Number', 'Watch Date','Call Final Disposition', 'Address',\n",
    "                                   'City', 'Battalion','Station Area', 'Box', 'Fire Prevention District',\n",
    "                                   'Supervisor District'])"
   ]
  }
 ],
 "metadata": {
  "kernelspec": {
   "display_name": "Python 3",
   "language": "python",
   "name": "python3"
  },
  "language_info": {
   "codemirror_mode": {
    "name": "ipython",
    "version": 3
   },
   "file_extension": ".py",
   "mimetype": "text/x-python",
   "name": "python",
   "nbconvert_exporter": "python",
   "pygments_lexer": "ipython3",
   "version": "3.6.5"
  }
 },
 "nbformat": 4,
 "nbformat_minor": 2
}
