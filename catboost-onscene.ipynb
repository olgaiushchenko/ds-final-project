{
 "cells": [
  {
   "cell_type": "code",
   "execution_count": 1,
   "metadata": {},
   "outputs": [],
   "source": [
    "%load_ext autoreload\n",
    "%autoreload 2\n",
    "\n",
    "import pandas as pd\n",
    "import numpy as np\n",
    "pd.set_option('display.max_columns', 999)"
   ]
  },
  {
   "cell_type": "code",
   "execution_count": 2,
   "metadata": {},
   "outputs": [],
   "source": [
    "from sklearn.model_selection import train_test_split\n",
    "from catboost import Pool, CatBoostRegressor"
   ]
  },
  {
   "cell_type": "code",
   "execution_count": 3,
   "metadata": {
    "scrolled": true
   },
   "outputs": [
    {
     "name": "stderr",
     "output_type": "stream",
     "text": [
      "/anaconda3/lib/python3.6/site-packages/IPython/core/interactiveshell.py:2728: DtypeWarning: Columns (19,25) have mixed types. Specify dtype option on import or set low_memory=False.\n",
      "  interactivity=interactivity, compiler=compiler, result=result)\n"
     ]
    }
   ],
   "source": [
    "df = pd.read_csv('Fire_Dep_Call_50%.csv')"
   ]
  },
  {
   "cell_type": "code",
   "execution_count": 4,
   "metadata": {},
   "outputs": [],
   "source": [
    "cols = ['Available DtTm', 'Response DtTm', 'Dispatch DtTm', 'Received DtTm', 'On Scene DtTm']\n",
    "for col in cols:\n",
    "    df[col] = pd.to_datetime(df[col], format='%m/%d/%Y %I:%M:%S %p', infer_datetime_format=True)\n",
    "\n",
    "df['On Scene to Available'] = df['Available DtTm'] - df['On Scene DtTm']\n",
    "df['Call to Dispatch'] = df['Dispatch DtTm'] - df['Received DtTm']\n",
    "df['Dispatch to Respond'] = df['Response DtTm'] - df['Dispatch DtTm']\n",
    "\n",
    "\n",
    "time_cols = ['On Scene to Available', 'Call to Dispatch', 'Dispatch to Respond']\n",
    "df[time_cols] = df[time_cols].applymap(lambda t: t.total_seconds())\n",
    "df[time_cols] = df[time_cols].applymap(lambda x: max(x,0))"
   ]
  },
  {
   "cell_type": "code",
   "execution_count": 5,
   "metadata": {},
   "outputs": [],
   "source": [
    "df['Month'] = df['Received DtTm'].dt.month\n",
    "df['WeekDay'] = df['Received DtTm'].dt.weekday\n",
    "df['Weekofyear'] = df['Received DtTm'].dt.weekofyear\n",
    "df['Hours'] = df['Received DtTm'].dt.hour\n",
    "df['Minutes'] = df['Received DtTm'].dt.minute\n",
    "\n",
    "#---------added----------columns for hospital or transport\n",
    "df['Hospital or Transport'] = (~(df['Transport DtTm'].isna() & df['Hospital DtTm'].isna())).astype('int')"
   ]
  },
  {
   "cell_type": "code",
   "execution_count": 7,
   "metadata": {},
   "outputs": [],
   "source": [
    "def fill_na(df):\n",
    "    q = df['Original Priority'].value_counts(normalize=True) #counts share of valeus in col w/o N/A\n",
    "    orig_prio_list = q.index.tolist()  #makes indeces(priorities types) to a list\n",
    "    orig_prio_shares = q.tolist() #makes values of shares a list\n",
    "    df['Original Priority'] = df['Original Priority'].fillna(pd.Series(np.random.choice(orig_prio_list, p=orig_prio_shares, size=len(df))))\n",
    "\n",
    "    w = df['Call Type Group'].value_counts(normalize=True) #counts share of values in col w/o N/A\n",
    "    call_types_list = w.index.tolist()  #makes indeces(priorities types) to a list\n",
    "    call_types_shares = w.tolist() #makes values of shares a list\n",
    "    df['Call Type Group'] = df['Call Type Group'].fillna(pd.Series(np.random.choice(call_types_list, p=call_types_shares, size=len(df))))\n",
    "    \n",
    "fill_na(df)\n",
    "\n",
    "if((df['Zipcode of Incident'].nunique()) <= (df['Neighborhooods - Analysis Boundaries'].nunique())):\n",
    "    zipcodes = df[['Neighborhooods - Analysis Boundaries','Zipcode of Incident']]\n",
    "    zipcodes = zipcodes[zipcodes['Zipcode of Incident'].notnull()]\n",
    "    zips= list(zipcodes['Zipcode of Incident'].values)\n",
    "    nbhds= list(zipcodes['Neighborhooods - Analysis Boundaries'].values)\n",
    "    if len(zips) == len(nbhds):\n",
    "        zipcodes_dict=dict(zip(nbhds,zips))\n",
    "\n",
    "    else: \n",
    "        print('Count unique zipcodes != count neighborhooods, something went wrong.')\n",
    "else:\n",
    "    print('More zipcodes than neighborhooods, we need new strategy!')\n",
    "\n",
    "df['Zipcode of Incident'] = df['Zipcode of Incident'].fillna(df['Neighborhooods - Analysis Boundaries'].map(zipcodes_dict))\n",
    "df['Zipcode of Incident'] = df['Zipcode of Incident'].astype(int)"
   ]
  },
  {
   "cell_type": "code",
   "execution_count": 73,
   "metadata": {},
   "outputs": [],
   "source": [
    "df1 = df[(df['On Scene to Available'].notnull()) & (df['On Scene to Available'] <= 30000)  & (df['On Scene to Available']!=0)]\n",
    "\n",
    "#only not null, not zero and less 10 hours\n",
    "#(df['Respond to Available'] <= 36000) "
   ]
  },
  {
   "cell_type": "code",
   "execution_count": 74,
   "metadata": {},
   "outputs": [],
   "source": [
    "#------cancelled d\n",
    "df1 = df1.drop(columns=['Call Number','Unit ID', 'Incident Number', 'Call Date', 'Watch Date', \n",
    "                      'Received DtTm', 'Entry DtTm', 'Dispatch DtTm','Response DtTm', 'On Scene DtTm',\n",
    "                      'Transport DtTm','Hospital DtTm', 'Call Final Disposition', 'Available DtTm',\n",
    "                      'Address', 'City', 'Priority', 'Final Priority', 'Neighborhooods - Analysis Boundaries', \n",
    "                       'Location', 'RowID', 'Battalion', 'ALS Unit', 'Weekofyear','Month', 'WeekDay', 'Minutes',\n",
    "                        'Original Priority', 'Station Area', 'Call Type Group',\n",
    "                      'Fire Prevention District', 'Supervisor District'], errors='ignore')"
   ]
  },
  {
   "cell_type": "code",
   "execution_count": 75,
   "metadata": {},
   "outputs": [],
   "source": [
    "df1 = df1.dropna(how='any') "
   ]
  },
  {
   "cell_type": "code",
   "execution_count": 78,
   "metadata": {},
   "outputs": [
    {
     "data": {
      "text/html": [
       "<div>\n",
       "<style scoped>\n",
       "    .dataframe tbody tr th:only-of-type {\n",
       "        vertical-align: middle;\n",
       "    }\n",
       "\n",
       "    .dataframe tbody tr th {\n",
       "        vertical-align: top;\n",
       "    }\n",
       "\n",
       "    .dataframe thead th {\n",
       "        text-align: right;\n",
       "    }\n",
       "</style>\n",
       "<table border=\"1\" class=\"dataframe\">\n",
       "  <thead>\n",
       "    <tr style=\"text-align: right;\">\n",
       "      <th></th>\n",
       "      <th>Call Type</th>\n",
       "      <th>Zipcode of Incident</th>\n",
       "      <th>Box</th>\n",
       "      <th>Number of Alarms</th>\n",
       "      <th>Unit Type</th>\n",
       "      <th>Unit sequence in call dispatch</th>\n",
       "      <th>On Scene to Available</th>\n",
       "      <th>Call to Dispatch</th>\n",
       "      <th>Dispatch to Respond</th>\n",
       "      <th>Hours</th>\n",
       "      <th>Hospital or Transport</th>\n",
       "    </tr>\n",
       "  </thead>\n",
       "  <tbody>\n",
       "    <tr>\n",
       "      <th>1</th>\n",
       "      <td>Medical Incident</td>\n",
       "      <td>94122</td>\n",
       "      <td>7651.0</td>\n",
       "      <td>1</td>\n",
       "      <td>MEDIC</td>\n",
       "      <td>2</td>\n",
       "      <td>3861.0</td>\n",
       "      <td>87.0</td>\n",
       "      <td>102.0</td>\n",
       "      <td>21</td>\n",
       "      <td>1</td>\n",
       "    </tr>\n",
       "    <tr>\n",
       "      <th>3</th>\n",
       "      <td>Alarms</td>\n",
       "      <td>94102</td>\n",
       "      <td>1456.0</td>\n",
       "      <td>1</td>\n",
       "      <td>ENGINE</td>\n",
       "      <td>3</td>\n",
       "      <td>247.0</td>\n",
       "      <td>26.0</td>\n",
       "      <td>105.0</td>\n",
       "      <td>21</td>\n",
       "      <td>0</td>\n",
       "    </tr>\n",
       "    <tr>\n",
       "      <th>4</th>\n",
       "      <td>Medical Incident</td>\n",
       "      <td>94108</td>\n",
       "      <td>1322.0</td>\n",
       "      <td>1</td>\n",
       "      <td>RESCUE SQUAD</td>\n",
       "      <td>2</td>\n",
       "      <td>28.0</td>\n",
       "      <td>101.0</td>\n",
       "      <td>116.0</td>\n",
       "      <td>21</td>\n",
       "      <td>0</td>\n",
       "    </tr>\n",
       "    <tr>\n",
       "      <th>5</th>\n",
       "      <td>Citizen Assist / Service Call</td>\n",
       "      <td>94109</td>\n",
       "      <td>1463.0</td>\n",
       "      <td>1</td>\n",
       "      <td>TRUCK</td>\n",
       "      <td>1</td>\n",
       "      <td>842.0</td>\n",
       "      <td>43.0</td>\n",
       "      <td>120.0</td>\n",
       "      <td>21</td>\n",
       "      <td>0</td>\n",
       "    </tr>\n",
       "    <tr>\n",
       "      <th>6</th>\n",
       "      <td>Electrical Hazard</td>\n",
       "      <td>94109</td>\n",
       "      <td>3155.0</td>\n",
       "      <td>1</td>\n",
       "      <td>ENGINE</td>\n",
       "      <td>1</td>\n",
       "      <td>498.0</td>\n",
       "      <td>171.0</td>\n",
       "      <td>73.0</td>\n",
       "      <td>21</td>\n",
       "      <td>0</td>\n",
       "    </tr>\n",
       "  </tbody>\n",
       "</table>\n",
       "</div>"
      ],
      "text/plain": [
       "                       Call Type  Zipcode of Incident     Box  \\\n",
       "1               Medical Incident                94122  7651.0   \n",
       "3                         Alarms                94102  1456.0   \n",
       "4               Medical Incident                94108  1322.0   \n",
       "5  Citizen Assist / Service Call                94109  1463.0   \n",
       "6              Electrical Hazard                94109  3155.0   \n",
       "\n",
       "   Number of Alarms     Unit Type  Unit sequence in call dispatch  \\\n",
       "1                 1         MEDIC                               2   \n",
       "3                 1        ENGINE                               3   \n",
       "4                 1  RESCUE SQUAD                               2   \n",
       "5                 1         TRUCK                               1   \n",
       "6                 1        ENGINE                               1   \n",
       "\n",
       "   On Scene to Available  Call to Dispatch  Dispatch to Respond  Hours  \\\n",
       "1                 3861.0              87.0                102.0     21   \n",
       "3                  247.0              26.0                105.0     21   \n",
       "4                   28.0             101.0                116.0     21   \n",
       "5                  842.0              43.0                120.0     21   \n",
       "6                  498.0             171.0                 73.0     21   \n",
       "\n",
       "   Hospital or Transport  \n",
       "1                      1  \n",
       "3                      0  \n",
       "4                      0  \n",
       "5                      0  \n",
       "6                      0  "
      ]
     },
     "execution_count": 78,
     "metadata": {},
     "output_type": "execute_result"
    }
   ],
   "source": [
    "df1.head()"
   ]
  },
  {
   "cell_type": "code",
   "execution_count": 79,
   "metadata": {},
   "outputs": [],
   "source": [
    "y = df1['On Scene to Available']\n",
    "X = df1.drop(columns=['On Scene to Available'])\n",
    "X_train, X_test, y_train, y_test = train_test_split(X, y, test_size=0.3, shuffle=False)"
   ]
  },
  {
   "cell_type": "code",
   "execution_count": 80,
   "metadata": {},
   "outputs": [
    {
     "name": "stdout",
     "output_type": "stream",
     "text": [
      "<class 'pandas.core.frame.DataFrame'>\n",
      "Int64Index: 1127231 entries, 1 to 1664516\n",
      "Data columns (total 10 columns):\n",
      "Call Type                         1127231 non-null object\n",
      "Zipcode of Incident               1127231 non-null int64\n",
      "Box                               1127231 non-null float64\n",
      "Number of Alarms                  1127231 non-null int64\n",
      "Unit Type                         1127231 non-null object\n",
      "Unit sequence in call dispatch    1127231 non-null int64\n",
      "Call to Dispatch                  1127231 non-null float64\n",
      "Dispatch to Respond               1127231 non-null float64\n",
      "Hours                             1127231 non-null int64\n",
      "Hospital or Transport             1127231 non-null int64\n",
      "dtypes: float64(3), int64(5), object(2)\n",
      "memory usage: 94.6+ MB\n"
     ]
    }
   ],
   "source": [
    "X_train.info()"
   ]
  },
  {
   "cell_type": "code",
   "execution_count": 81,
   "metadata": {},
   "outputs": [],
   "source": [
    "cat_features=[\n",
    "    0,\n",
    "    4\n",
    "]"
   ]
  },
  {
   "cell_type": "code",
   "execution_count": 82,
   "metadata": {},
   "outputs": [],
   "source": [
    "train_pool = Pool(X_train, y_train, cat_features=cat_features)\n",
    "test_pool = Pool(X_test, cat_features=cat_features)"
   ]
  },
  {
   "cell_type": "code",
   "execution_count": 83,
   "metadata": {},
   "outputs": [
    {
     "name": "stdout",
     "output_type": "stream",
     "text": [
      "0:\tlearn: 2026.1305222\ttotal: 816ms\tremaining: 4m 3s\n",
      "1:\tlearn: 1928.4008914\ttotal: 1.28s\tremaining: 3m 10s\n",
      "2:\tlearn: 1839.7170215\ttotal: 2.03s\tremaining: 3m 21s\n",
      "3:\tlearn: 1759.2719155\ttotal: 3.03s\tremaining: 3m 44s\n",
      "4:\tlearn: 1686.5223902\ttotal: 3.63s\tremaining: 3m 33s\n",
      "5:\tlearn: 1620.9441949\ttotal: 4.42s\tremaining: 3m 36s\n",
      "6:\tlearn: 1562.0156668\ttotal: 5.21s\tremaining: 3m 38s\n",
      "7:\tlearn: 1508.9778492\ttotal: 5.73s\tremaining: 3m 29s\n",
      "8:\tlearn: 1461.5171535\ttotal: 6.21s\tremaining: 3m 20s\n",
      "9:\tlearn: 1419.1429819\ttotal: 6.8s\tremaining: 3m 17s\n",
      "10:\tlearn: 1381.3854416\ttotal: 7.2s\tremaining: 3m 9s\n",
      "11:\tlearn: 1347.8776193\ttotal: 7.64s\tremaining: 3m 3s\n",
      "12:\tlearn: 1318.0230060\ttotal: 8.1s\tremaining: 2m 58s\n",
      "13:\tlearn: 1289.7892298\ttotal: 8.53s\tremaining: 2m 54s\n",
      "14:\tlearn: 1264.6777854\ttotal: 9.02s\tremaining: 2m 51s\n",
      "15:\tlearn: 1242.4920179\ttotal: 9.36s\tremaining: 2m 46s\n",
      "16:\tlearn: 1222.9385948\ttotal: 9.84s\tremaining: 2m 43s\n",
      "17:\tlearn: 1205.6934953\ttotal: 10.3s\tremaining: 2m 41s\n",
      "18:\tlearn: 1190.4866813\ttotal: 10.8s\tremaining: 2m 40s\n",
      "19:\tlearn: 1177.1493593\ttotal: 11.3s\tremaining: 2m 37s\n",
      "20:\tlearn: 1165.4259157\ttotal: 11.7s\tremaining: 2m 35s\n",
      "21:\tlearn: 1155.0956213\ttotal: 12.2s\tremaining: 2m 34s\n",
      "22:\tlearn: 1146.0455942\ttotal: 12.6s\tremaining: 2m 31s\n",
      "23:\tlearn: 1138.0745824\ttotal: 13s\tremaining: 2m 29s\n",
      "24:\tlearn: 1131.0720912\ttotal: 13.4s\tremaining: 2m 27s\n",
      "25:\tlearn: 1124.9378432\ttotal: 13.9s\tremaining: 2m 26s\n",
      "26:\tlearn: 1119.5822512\ttotal: 14.3s\tremaining: 2m 24s\n",
      "27:\tlearn: 1114.8459766\ttotal: 14.7s\tremaining: 2m 23s\n",
      "28:\tlearn: 1110.6552729\ttotal: 15.3s\tremaining: 2m 22s\n",
      "29:\tlearn: 1106.9427700\ttotal: 15.8s\tremaining: 2m 22s\n",
      "30:\tlearn: 1103.7429997\ttotal: 16.2s\tremaining: 2m 20s\n",
      "31:\tlearn: 1100.5720966\ttotal: 16.6s\tremaining: 2m 19s\n",
      "32:\tlearn: 1097.8772950\ttotal: 17s\tremaining: 2m 17s\n",
      "33:\tlearn: 1095.6352418\ttotal: 17.4s\tremaining: 2m 16s\n",
      "34:\tlearn: 1093.5850205\ttotal: 17.9s\tremaining: 2m 15s\n",
      "35:\tlearn: 1091.4964165\ttotal: 18.3s\tremaining: 2m 14s\n",
      "36:\tlearn: 1089.5610418\ttotal: 18.7s\tremaining: 2m 12s\n",
      "37:\tlearn: 1087.6404808\ttotal: 19.1s\tremaining: 2m 11s\n",
      "38:\tlearn: 1085.6952089\ttotal: 19.6s\tremaining: 2m 11s\n",
      "39:\tlearn: 1084.1168055\ttotal: 20s\tremaining: 2m 9s\n",
      "40:\tlearn: 1082.4095869\ttotal: 20.4s\tremaining: 2m 9s\n",
      "41:\tlearn: 1080.9633245\ttotal: 20.9s\tremaining: 2m 8s\n",
      "42:\tlearn: 1079.7546526\ttotal: 21.3s\tremaining: 2m 7s\n",
      "43:\tlearn: 1078.5774579\ttotal: 21.8s\tremaining: 2m 6s\n",
      "44:\tlearn: 1077.6230833\ttotal: 22.3s\tremaining: 2m 6s\n",
      "45:\tlearn: 1076.8220713\ttotal: 22.8s\tremaining: 2m 5s\n",
      "46:\tlearn: 1075.6811369\ttotal: 23.2s\tremaining: 2m 4s\n",
      "47:\tlearn: 1074.8946757\ttotal: 23.7s\tremaining: 2m 4s\n",
      "48:\tlearn: 1074.2812331\ttotal: 24.2s\tremaining: 2m 3s\n",
      "49:\tlearn: 1073.6813535\ttotal: 24.6s\tremaining: 2m 3s\n",
      "50:\tlearn: 1073.0836515\ttotal: 25.2s\tremaining: 2m 3s\n",
      "51:\tlearn: 1072.2841825\ttotal: 25.8s\tremaining: 2m 2s\n",
      "52:\tlearn: 1071.7260982\ttotal: 26.4s\tremaining: 2m 3s\n",
      "53:\tlearn: 1071.2037991\ttotal: 27.3s\tremaining: 2m 4s\n",
      "54:\tlearn: 1070.6370513\ttotal: 27.8s\tremaining: 2m 3s\n",
      "55:\tlearn: 1070.1522861\ttotal: 28.3s\tremaining: 2m 3s\n",
      "56:\tlearn: 1069.5659242\ttotal: 28.9s\tremaining: 2m 3s\n",
      "57:\tlearn: 1069.1022913\ttotal: 29.4s\tremaining: 2m 2s\n",
      "58:\tlearn: 1068.6248965\ttotal: 30.1s\tremaining: 2m 2s\n",
      "59:\tlearn: 1068.0862627\ttotal: 30.6s\tremaining: 2m 2s\n",
      "60:\tlearn: 1067.7633433\ttotal: 31.1s\tremaining: 2m 2s\n",
      "61:\tlearn: 1067.3925505\ttotal: 31.9s\tremaining: 2m 2s\n",
      "62:\tlearn: 1066.9131448\ttotal: 32.4s\tremaining: 2m 1s\n",
      "63:\tlearn: 1066.4251375\ttotal: 33s\tremaining: 2m 1s\n",
      "64:\tlearn: 1066.2202823\ttotal: 33.6s\tremaining: 2m 1s\n",
      "65:\tlearn: 1065.8128972\ttotal: 34.2s\tremaining: 2m 1s\n",
      "66:\tlearn: 1065.5080827\ttotal: 34.9s\tremaining: 2m 1s\n",
      "67:\tlearn: 1065.1437921\ttotal: 35.5s\tremaining: 2m 1s\n",
      "68:\tlearn: 1064.8717189\ttotal: 36s\tremaining: 2m\n",
      "69:\tlearn: 1064.4923938\ttotal: 36.3s\tremaining: 1m 59s\n",
      "70:\tlearn: 1064.2032348\ttotal: 36.8s\tremaining: 1m 58s\n",
      "71:\tlearn: 1063.9390558\ttotal: 37.2s\tremaining: 1m 57s\n",
      "72:\tlearn: 1063.5220847\ttotal: 37.8s\tremaining: 1m 57s\n",
      "73:\tlearn: 1063.2916993\ttotal: 38.2s\tremaining: 1m 56s\n",
      "74:\tlearn: 1063.1143025\ttotal: 38.6s\tremaining: 1m 55s\n",
      "75:\tlearn: 1062.8414417\ttotal: 39s\tremaining: 1m 55s\n",
      "76:\tlearn: 1062.6373698\ttotal: 39.5s\tremaining: 1m 54s\n",
      "77:\tlearn: 1062.4391820\ttotal: 40.1s\tremaining: 1m 54s\n",
      "78:\tlearn: 1062.1110450\ttotal: 40.6s\tremaining: 1m 53s\n",
      "79:\tlearn: 1061.7898572\ttotal: 41s\tremaining: 1m 52s\n",
      "80:\tlearn: 1061.5639409\ttotal: 41.5s\tremaining: 1m 52s\n",
      "81:\tlearn: 1061.2573126\ttotal: 42s\tremaining: 1m 51s\n",
      "82:\tlearn: 1060.8874400\ttotal: 42.5s\tremaining: 1m 51s\n",
      "83:\tlearn: 1060.6999643\ttotal: 43s\tremaining: 1m 50s\n",
      "84:\tlearn: 1060.3193737\ttotal: 43.5s\tremaining: 1m 50s\n",
      "85:\tlearn: 1060.0150746\ttotal: 44s\tremaining: 1m 49s\n",
      "86:\tlearn: 1059.8365039\ttotal: 44.5s\tremaining: 1m 49s\n",
      "87:\tlearn: 1059.6017267\ttotal: 45s\tremaining: 1m 48s\n",
      "88:\tlearn: 1059.2955787\ttotal: 45.5s\tremaining: 1m 47s\n",
      "89:\tlearn: 1059.1404599\ttotal: 45.9s\tremaining: 1m 47s\n",
      "90:\tlearn: 1058.8413158\ttotal: 46.4s\tremaining: 1m 46s\n",
      "91:\tlearn: 1058.6102796\ttotal: 46.9s\tremaining: 1m 45s\n",
      "92:\tlearn: 1058.2513457\ttotal: 47.3s\tremaining: 1m 45s\n",
      "93:\tlearn: 1058.0266109\ttotal: 47.7s\tremaining: 1m 44s\n",
      "94:\tlearn: 1057.8015386\ttotal: 48.3s\tremaining: 1m 44s\n",
      "95:\tlearn: 1057.6549306\ttotal: 48.7s\tremaining: 1m 43s\n",
      "96:\tlearn: 1057.4930641\ttotal: 49.3s\tremaining: 1m 43s\n",
      "97:\tlearn: 1057.3358011\ttotal: 49.7s\tremaining: 1m 42s\n",
      "98:\tlearn: 1057.0940004\ttotal: 50.2s\tremaining: 1m 41s\n",
      "99:\tlearn: 1056.8089083\ttotal: 50.6s\tremaining: 1m 41s\n",
      "100:\tlearn: 1056.7006459\ttotal: 51.1s\tremaining: 1m 40s\n",
      "101:\tlearn: 1056.3096540\ttotal: 51.7s\tremaining: 1m 40s\n",
      "102:\tlearn: 1056.1639599\ttotal: 52.2s\tremaining: 1m 39s\n",
      "103:\tlearn: 1056.0697355\ttotal: 52.7s\tremaining: 1m 39s\n",
      "104:\tlearn: 1056.0044960\ttotal: 53.1s\tremaining: 1m 38s\n",
      "105:\tlearn: 1055.8730278\ttotal: 53.7s\tremaining: 1m 38s\n",
      "106:\tlearn: 1055.7751810\ttotal: 54.1s\tremaining: 1m 37s\n",
      "107:\tlearn: 1055.6913258\ttotal: 54.6s\tremaining: 1m 37s\n",
      "108:\tlearn: 1055.4772245\ttotal: 55.1s\tremaining: 1m 36s\n",
      "109:\tlearn: 1055.2247088\ttotal: 55.5s\tremaining: 1m 35s\n",
      "110:\tlearn: 1055.1371174\ttotal: 56s\tremaining: 1m 35s\n",
      "111:\tlearn: 1054.9357632\ttotal: 56.5s\tremaining: 1m 34s\n",
      "112:\tlearn: 1054.8253609\ttotal: 56.9s\tremaining: 1m 34s\n",
      "113:\tlearn: 1054.7305561\ttotal: 57.4s\tremaining: 1m 33s\n",
      "114:\tlearn: 1054.6009062\ttotal: 57.8s\tremaining: 1m 32s\n",
      "115:\tlearn: 1054.5610325\ttotal: 58.5s\tremaining: 1m 32s\n",
      "116:\tlearn: 1054.3588092\ttotal: 59.2s\tremaining: 1m 32s\n",
      "117:\tlearn: 1054.2759494\ttotal: 1m\tremaining: 1m 32s\n",
      "118:\tlearn: 1054.0850801\ttotal: 1m\tremaining: 1m 32s\n",
      "119:\tlearn: 1053.9956777\ttotal: 1m 1s\tremaining: 1m 32s\n",
      "120:\tlearn: 1053.8743824\ttotal: 1m 2s\tremaining: 1m 31s\n",
      "121:\tlearn: 1053.6499594\ttotal: 1m 2s\tremaining: 1m 31s\n",
      "122:\tlearn: 1053.5179026\ttotal: 1m 3s\tremaining: 1m 31s\n",
      "123:\tlearn: 1053.2355804\ttotal: 1m 4s\tremaining: 1m 31s\n",
      "124:\tlearn: 1053.0766455\ttotal: 1m 4s\tremaining: 1m 30s\n",
      "125:\tlearn: 1052.9491131\ttotal: 1m 5s\tremaining: 1m 30s\n",
      "126:\tlearn: 1052.6964470\ttotal: 1m 5s\tremaining: 1m 29s\n",
      "127:\tlearn: 1052.6233138\ttotal: 1m 6s\tremaining: 1m 29s\n",
      "128:\tlearn: 1052.5481286\ttotal: 1m 7s\tremaining: 1m 28s\n",
      "129:\tlearn: 1052.3651817\ttotal: 1m 7s\tremaining: 1m 28s\n",
      "130:\tlearn: 1052.2885708\ttotal: 1m 8s\tremaining: 1m 28s\n",
      "131:\tlearn: 1052.0982193\ttotal: 1m 9s\tremaining: 1m 28s\n",
      "132:\tlearn: 1051.9875924\ttotal: 1m 10s\tremaining: 1m 28s\n",
      "133:\tlearn: 1051.9156500\ttotal: 1m 11s\tremaining: 1m 28s\n",
      "134:\tlearn: 1051.7715636\ttotal: 1m 11s\tremaining: 1m 27s\n",
      "135:\tlearn: 1051.7233009\ttotal: 1m 12s\tremaining: 1m 27s\n",
      "136:\tlearn: 1051.6104923\ttotal: 1m 13s\tremaining: 1m 27s\n",
      "137:\tlearn: 1051.3952798\ttotal: 1m 14s\tremaining: 1m 26s\n",
      "138:\tlearn: 1051.2460763\ttotal: 1m 14s\tremaining: 1m 26s\n",
      "139:\tlearn: 1051.0356782\ttotal: 1m 15s\tremaining: 1m 26s\n",
      "140:\tlearn: 1050.8424207\ttotal: 1m 16s\tremaining: 1m 25s\n",
      "141:\tlearn: 1050.7294414\ttotal: 1m 16s\tremaining: 1m 25s\n",
      "142:\tlearn: 1050.6450219\ttotal: 1m 17s\tremaining: 1m 25s\n",
      "143:\tlearn: 1050.5884551\ttotal: 1m 18s\tremaining: 1m 24s\n",
      "144:\tlearn: 1050.5010731\ttotal: 1m 18s\tremaining: 1m 24s\n",
      "145:\tlearn: 1050.4055138\ttotal: 1m 19s\tremaining: 1m 23s\n",
      "146:\tlearn: 1050.3219508\ttotal: 1m 19s\tremaining: 1m 22s\n",
      "147:\tlearn: 1050.2153435\ttotal: 1m 20s\tremaining: 1m 22s\n",
      "148:\tlearn: 1050.0859143\ttotal: 1m 20s\tremaining: 1m 21s\n",
      "149:\tlearn: 1049.9621203\ttotal: 1m 21s\tremaining: 1m 21s\n"
     ]
    },
    {
     "name": "stdout",
     "output_type": "stream",
     "text": [
      "150:\tlearn: 1049.8104721\ttotal: 1m 22s\tremaining: 1m 21s\n",
      "151:\tlearn: 1049.6172894\ttotal: 1m 22s\tremaining: 1m 20s\n",
      "152:\tlearn: 1049.4678743\ttotal: 1m 23s\tremaining: 1m 20s\n",
      "153:\tlearn: 1049.4015727\ttotal: 1m 24s\tremaining: 1m 19s\n",
      "154:\tlearn: 1049.3468705\ttotal: 1m 24s\tremaining: 1m 19s\n",
      "155:\tlearn: 1049.0684459\ttotal: 1m 24s\tremaining: 1m 18s\n",
      "156:\tlearn: 1049.0273227\ttotal: 1m 25s\tremaining: 1m 17s\n",
      "157:\tlearn: 1048.8995976\ttotal: 1m 25s\tremaining: 1m 17s\n",
      "158:\tlearn: 1048.8007272\ttotal: 1m 26s\tremaining: 1m 16s\n",
      "159:\tlearn: 1048.6646867\ttotal: 1m 26s\tremaining: 1m 16s\n",
      "160:\tlearn: 1048.5956315\ttotal: 1m 27s\tremaining: 1m 15s\n",
      "161:\tlearn: 1048.5378842\ttotal: 1m 27s\tremaining: 1m 14s\n",
      "162:\tlearn: 1048.4581132\ttotal: 1m 28s\tremaining: 1m 14s\n",
      "163:\tlearn: 1048.4194116\ttotal: 1m 28s\tremaining: 1m 13s\n",
      "164:\tlearn: 1048.3689321\ttotal: 1m 29s\tremaining: 1m 13s\n",
      "165:\tlearn: 1048.2838652\ttotal: 1m 29s\tremaining: 1m 12s\n",
      "166:\tlearn: 1048.2335181\ttotal: 1m 30s\tremaining: 1m 11s\n",
      "167:\tlearn: 1048.1901608\ttotal: 1m 30s\tremaining: 1m 11s\n",
      "168:\tlearn: 1048.0912427\ttotal: 1m 31s\tremaining: 1m 10s\n",
      "169:\tlearn: 1048.0345725\ttotal: 1m 31s\tremaining: 1m 10s\n",
      "170:\tlearn: 1047.9935542\ttotal: 1m 32s\tremaining: 1m 9s\n",
      "171:\tlearn: 1047.8361549\ttotal: 1m 32s\tremaining: 1m 9s\n",
      "172:\tlearn: 1047.7643539\ttotal: 1m 33s\tremaining: 1m 8s\n",
      "173:\tlearn: 1047.6678812\ttotal: 1m 33s\tremaining: 1m 7s\n",
      "174:\tlearn: 1047.6058063\ttotal: 1m 34s\tremaining: 1m 7s\n",
      "175:\tlearn: 1047.5461413\ttotal: 1m 34s\tremaining: 1m 6s\n",
      "176:\tlearn: 1047.4911308\ttotal: 1m 35s\tremaining: 1m 6s\n",
      "177:\tlearn: 1047.3613234\ttotal: 1m 35s\tremaining: 1m 5s\n",
      "178:\tlearn: 1047.2478917\ttotal: 1m 36s\tremaining: 1m 5s\n",
      "179:\tlearn: 1047.0354952\ttotal: 1m 36s\tremaining: 1m 4s\n",
      "180:\tlearn: 1046.9241842\ttotal: 1m 37s\tremaining: 1m 4s\n",
      "181:\tlearn: 1046.8416874\ttotal: 1m 37s\tremaining: 1m 3s\n",
      "182:\tlearn: 1046.7521491\ttotal: 1m 38s\tremaining: 1m 2s\n",
      "183:\tlearn: 1046.6799165\ttotal: 1m 39s\tremaining: 1m 2s\n",
      "184:\tlearn: 1046.6136481\ttotal: 1m 39s\tremaining: 1m 1s\n",
      "185:\tlearn: 1046.5669565\ttotal: 1m 40s\tremaining: 1m 1s\n",
      "186:\tlearn: 1046.4664969\ttotal: 1m 40s\tremaining: 1m\n",
      "187:\tlearn: 1046.3524385\ttotal: 1m 41s\tremaining: 1m\n",
      "188:\tlearn: 1046.3159775\ttotal: 1m 41s\tremaining: 59.7s\n",
      "189:\tlearn: 1046.2993320\ttotal: 1m 42s\tremaining: 59.2s\n",
      "190:\tlearn: 1046.2002722\ttotal: 1m 42s\tremaining: 58.6s\n",
      "191:\tlearn: 1046.0903991\ttotal: 1m 43s\tremaining: 58.1s\n",
      "192:\tlearn: 1045.9644235\ttotal: 1m 43s\tremaining: 57.5s\n",
      "193:\tlearn: 1045.9149681\ttotal: 1m 44s\tremaining: 56.9s\n",
      "194:\tlearn: 1045.8688964\ttotal: 1m 44s\tremaining: 56.4s\n",
      "195:\tlearn: 1045.7557738\ttotal: 1m 45s\tremaining: 55.9s\n",
      "196:\tlearn: 1045.7077667\ttotal: 1m 45s\tremaining: 55.3s\n",
      "197:\tlearn: 1045.6376575\ttotal: 1m 46s\tremaining: 54.8s\n",
      "198:\tlearn: 1045.4881631\ttotal: 1m 46s\tremaining: 54.2s\n",
      "199:\tlearn: 1045.4217504\ttotal: 1m 47s\tremaining: 53.5s\n",
      "200:\tlearn: 1045.2640227\ttotal: 1m 47s\tremaining: 53s\n",
      "201:\tlearn: 1045.2071531\ttotal: 1m 48s\tremaining: 52.5s\n",
      "202:\tlearn: 1045.0476277\ttotal: 1m 48s\tremaining: 51.9s\n",
      "203:\tlearn: 1044.8758069\ttotal: 1m 48s\tremaining: 51.3s\n",
      "204:\tlearn: 1044.7159449\ttotal: 1m 49s\tremaining: 50.7s\n",
      "205:\tlearn: 1044.6431360\ttotal: 1m 49s\tremaining: 50.2s\n",
      "206:\tlearn: 1044.5584171\ttotal: 1m 50s\tremaining: 49.6s\n",
      "207:\tlearn: 1044.5385475\ttotal: 1m 50s\tremaining: 49s\n",
      "208:\tlearn: 1044.4698654\ttotal: 1m 51s\tremaining: 48.5s\n",
      "209:\tlearn: 1044.3979046\ttotal: 1m 51s\tremaining: 47.9s\n",
      "210:\tlearn: 1044.2716286\ttotal: 1m 52s\tremaining: 47.4s\n",
      "211:\tlearn: 1044.1506580\ttotal: 1m 52s\tremaining: 46.8s\n",
      "212:\tlearn: 1044.1120734\ttotal: 1m 53s\tremaining: 46.3s\n",
      "213:\tlearn: 1044.0808079\ttotal: 1m 53s\tremaining: 45.7s\n",
      "214:\tlearn: 1044.0031213\ttotal: 1m 54s\tremaining: 45.2s\n",
      "215:\tlearn: 1043.9595533\ttotal: 1m 54s\tremaining: 44.6s\n",
      "216:\tlearn: 1043.9142145\ttotal: 1m 55s\tremaining: 44.1s\n",
      "217:\tlearn: 1043.8138487\ttotal: 1m 55s\tremaining: 43.5s\n",
      "218:\tlearn: 1043.7408208\ttotal: 1m 56s\tremaining: 42.9s\n",
      "219:\tlearn: 1043.7007791\ttotal: 1m 56s\tremaining: 42.4s\n",
      "220:\tlearn: 1043.4997330\ttotal: 1m 57s\tremaining: 41.9s\n",
      "221:\tlearn: 1043.3561651\ttotal: 1m 57s\tremaining: 41.4s\n",
      "222:\tlearn: 1043.3357567\ttotal: 1m 58s\tremaining: 41.1s\n",
      "223:\tlearn: 1043.2528146\ttotal: 1m 59s\tremaining: 40.6s\n",
      "224:\tlearn: 1043.1973751\ttotal: 1m 59s\tremaining: 40s\n",
      "225:\tlearn: 1043.1329127\ttotal: 2m\tremaining: 39.4s\n",
      "226:\tlearn: 1043.1137381\ttotal: 2m\tremaining: 38.9s\n",
      "227:\tlearn: 1043.0805573\ttotal: 2m 1s\tremaining: 38.4s\n",
      "228:\tlearn: 1042.9962819\ttotal: 2m 1s\tremaining: 37.8s\n",
      "229:\tlearn: 1042.8986971\ttotal: 2m 2s\tremaining: 37.2s\n",
      "230:\tlearn: 1042.7821073\ttotal: 2m 2s\tremaining: 36.7s\n",
      "231:\tlearn: 1042.7640216\ttotal: 2m 3s\tremaining: 36.2s\n",
      "232:\tlearn: 1042.6988805\ttotal: 2m 3s\tremaining: 35.7s\n",
      "233:\tlearn: 1042.6623439\ttotal: 2m 4s\tremaining: 35.1s\n",
      "234:\tlearn: 1042.5914879\ttotal: 2m 4s\tremaining: 34.6s\n",
      "235:\tlearn: 1042.5210514\ttotal: 2m 5s\tremaining: 34s\n",
      "236:\tlearn: 1042.4842672\ttotal: 2m 5s\tremaining: 33.5s\n",
      "237:\tlearn: 1042.3773642\ttotal: 2m 6s\tremaining: 32.9s\n",
      "238:\tlearn: 1042.3224165\ttotal: 2m 6s\tremaining: 32.4s\n",
      "239:\tlearn: 1042.2688243\ttotal: 2m 7s\tremaining: 31.8s\n",
      "240:\tlearn: 1042.1890416\ttotal: 2m 7s\tremaining: 31.3s\n",
      "241:\tlearn: 1042.1624144\ttotal: 2m 8s\tremaining: 30.8s\n",
      "242:\tlearn: 1042.1336537\ttotal: 2m 8s\tremaining: 30.2s\n",
      "243:\tlearn: 1042.1087782\ttotal: 2m 9s\tremaining: 29.7s\n",
      "244:\tlearn: 1042.0431503\ttotal: 2m 9s\tremaining: 29.2s\n",
      "245:\tlearn: 1041.8941814\ttotal: 2m 10s\tremaining: 28.6s\n",
      "246:\tlearn: 1041.8709876\ttotal: 2m 10s\tremaining: 28.1s\n",
      "247:\tlearn: 1041.7227082\ttotal: 2m 11s\tremaining: 27.6s\n",
      "248:\tlearn: 1041.7062694\ttotal: 2m 11s\tremaining: 27s\n",
      "249:\tlearn: 1041.6791558\ttotal: 2m 12s\tremaining: 26.5s\n",
      "250:\tlearn: 1041.6515587\ttotal: 2m 12s\tremaining: 25.9s\n",
      "251:\tlearn: 1041.6191004\ttotal: 2m 13s\tremaining: 25.4s\n",
      "252:\tlearn: 1041.5437814\ttotal: 2m 13s\tremaining: 24.8s\n",
      "253:\tlearn: 1041.5074984\ttotal: 2m 14s\tremaining: 24.3s\n",
      "254:\tlearn: 1041.4076000\ttotal: 2m 14s\tremaining: 23.8s\n",
      "255:\tlearn: 1041.3905780\ttotal: 2m 15s\tremaining: 23.2s\n",
      "256:\tlearn: 1041.3626907\ttotal: 2m 15s\tremaining: 22.7s\n",
      "257:\tlearn: 1041.3202163\ttotal: 2m 16s\tremaining: 22.2s\n",
      "258:\tlearn: 1041.2869361\ttotal: 2m 17s\tremaining: 21.7s\n",
      "259:\tlearn: 1041.1661859\ttotal: 2m 17s\tremaining: 21.2s\n",
      "260:\tlearn: 1041.1406740\ttotal: 2m 18s\tremaining: 20.6s\n",
      "261:\tlearn: 1041.1255843\ttotal: 2m 18s\tremaining: 20.1s\n",
      "262:\tlearn: 1041.1098871\ttotal: 2m 19s\tremaining: 19.6s\n",
      "263:\tlearn: 1040.9846223\ttotal: 2m 20s\tremaining: 19.1s\n",
      "264:\tlearn: 1040.9720896\ttotal: 2m 21s\tremaining: 18.7s\n",
      "265:\tlearn: 1040.9432482\ttotal: 2m 22s\tremaining: 18.2s\n",
      "266:\tlearn: 1040.9347708\ttotal: 2m 22s\tremaining: 17.6s\n",
      "267:\tlearn: 1040.8505513\ttotal: 2m 23s\tremaining: 17.1s\n",
      "268:\tlearn: 1040.8222423\ttotal: 2m 24s\tremaining: 16.6s\n",
      "269:\tlearn: 1040.7803868\ttotal: 2m 24s\tremaining: 16.1s\n",
      "270:\tlearn: 1040.6649889\ttotal: 2m 25s\tremaining: 15.6s\n",
      "271:\tlearn: 1040.6065997\ttotal: 2m 26s\tremaining: 15.1s\n",
      "272:\tlearn: 1040.5274757\ttotal: 2m 27s\tremaining: 14.6s\n",
      "273:\tlearn: 1040.4987647\ttotal: 2m 27s\tremaining: 14s\n",
      "274:\tlearn: 1040.4200015\ttotal: 2m 28s\tremaining: 13.5s\n",
      "275:\tlearn: 1040.3918177\ttotal: 2m 29s\tremaining: 13s\n",
      "276:\tlearn: 1040.3355999\ttotal: 2m 29s\tremaining: 12.4s\n",
      "277:\tlearn: 1040.1966481\ttotal: 2m 30s\tremaining: 11.9s\n",
      "278:\tlearn: 1040.1828295\ttotal: 2m 30s\tremaining: 11.4s\n",
      "279:\tlearn: 1040.1420202\ttotal: 2m 31s\tremaining: 10.8s\n",
      "280:\tlearn: 1040.1382570\ttotal: 2m 32s\tremaining: 10.3s\n",
      "281:\tlearn: 1040.0968242\ttotal: 2m 33s\tremaining: 9.77s\n",
      "282:\tlearn: 1040.0544397\ttotal: 2m 33s\tremaining: 9.23s\n",
      "283:\tlearn: 1039.9915903\ttotal: 2m 34s\tremaining: 8.69s\n",
      "284:\tlearn: 1039.9745300\ttotal: 2m 34s\tremaining: 8.15s\n",
      "285:\tlearn: 1039.9245642\ttotal: 2m 35s\tremaining: 7.6s\n",
      "286:\tlearn: 1039.9052659\ttotal: 2m 35s\tremaining: 7.07s\n",
      "287:\tlearn: 1039.8403292\ttotal: 2m 36s\tremaining: 6.53s\n",
      "288:\tlearn: 1039.7957479\ttotal: 2m 37s\tremaining: 5.99s\n",
      "289:\tlearn: 1039.7187852\ttotal: 2m 37s\tremaining: 5.45s\n",
      "290:\tlearn: 1039.6881010\ttotal: 2m 38s\tremaining: 4.9s\n",
      "291:\tlearn: 1039.6633284\ttotal: 2m 39s\tremaining: 4.36s\n",
      "292:\tlearn: 1039.6415681\ttotal: 2m 39s\tremaining: 3.81s\n",
      "293:\tlearn: 1039.5965665\ttotal: 2m 40s\tremaining: 3.27s\n",
      "294:\tlearn: 1039.5450889\ttotal: 2m 40s\tremaining: 2.73s\n",
      "295:\tlearn: 1039.4810883\ttotal: 2m 41s\tremaining: 2.18s\n",
      "296:\tlearn: 1039.4564867\ttotal: 2m 42s\tremaining: 1.64s\n"
     ]
    },
    {
     "name": "stdout",
     "output_type": "stream",
     "text": [
      "297:\tlearn: 1039.3860386\ttotal: 2m 42s\tremaining: 1.09s\n",
      "298:\tlearn: 1039.3713722\ttotal: 2m 43s\tremaining: 547ms\n",
      "299:\tlearn: 1039.2387035\ttotal: 2m 44s\tremaining: 0us\n"
     ]
    },
    {
     "data": {
      "text/plain": [
       "<catboost.core.CatBoostRegressor at 0x110954780>"
      ]
     },
     "execution_count": 83,
     "metadata": {},
     "output_type": "execute_result"
    }
   ],
   "source": [
    "model = CatBoostRegressor(iterations=300, depth=5,learning_rate=0.07)\n",
    "model.fit(train_pool)"
   ]
  },
  {
   "cell_type": "code",
   "execution_count": 84,
   "metadata": {},
   "outputs": [
    {
     "data": {
      "text/plain": [
       "1001.8113025415801"
      ]
     },
     "execution_count": 84,
     "metadata": {},
     "output_type": "execute_result"
    }
   ],
   "source": [
    "model.score(test_pool, y_test)  #rmse score. "
   ]
  },
  {
   "cell_type": "code",
   "execution_count": 85,
   "metadata": {},
   "outputs": [],
   "source": [
    "pred = model.predict(test_pool)"
   ]
  },
  {
   "cell_type": "code",
   "execution_count": 86,
   "metadata": {},
   "outputs": [
    {
     "data": {
      "text/html": [
       "<div>\n",
       "<style scoped>\n",
       "    .dataframe tbody tr th:only-of-type {\n",
       "        vertical-align: middle;\n",
       "    }\n",
       "\n",
       "    .dataframe tbody tr th {\n",
       "        vertical-align: top;\n",
       "    }\n",
       "\n",
       "    .dataframe thead th {\n",
       "        text-align: right;\n",
       "    }\n",
       "</style>\n",
       "<table border=\"1\" class=\"dataframe\">\n",
       "  <thead>\n",
       "    <tr style=\"text-align: right;\">\n",
       "      <th></th>\n",
       "      <th>Call Type</th>\n",
       "      <th>Zipcode of Incident</th>\n",
       "      <th>Box</th>\n",
       "      <th>Number of Alarms</th>\n",
       "      <th>Unit Type</th>\n",
       "      <th>Unit sequence in call dispatch</th>\n",
       "      <th>Call to Dispatch</th>\n",
       "      <th>Dispatch to Respond</th>\n",
       "      <th>Hours</th>\n",
       "      <th>Hospital or Transport</th>\n",
       "      <th>y_test</th>\n",
       "      <th>y_pred</th>\n",
       "      <th>y_test-y_pred</th>\n",
       "      <th>y_test-y_pred_squared</th>\n",
       "      <th>mean_y</th>\n",
       "      <th>diff</th>\n",
       "    </tr>\n",
       "  </thead>\n",
       "  <tbody>\n",
       "    <tr>\n",
       "      <th>1664518</th>\n",
       "      <td>Structure Fire</td>\n",
       "      <td>94112</td>\n",
       "      <td>8263.0</td>\n",
       "      <td>1</td>\n",
       "      <td>ENGINE</td>\n",
       "      <td>1</td>\n",
       "      <td>40.0</td>\n",
       "      <td>37.0</td>\n",
       "      <td>12</td>\n",
       "      <td>0</td>\n",
       "      <td>44.0</td>\n",
       "      <td>774.523991</td>\n",
       "      <td>-730.523991</td>\n",
       "      <td>533665.301376</td>\n",
       "      <td>1466.06557</td>\n",
       "      <td>-1422.06557</td>\n",
       "    </tr>\n",
       "    <tr>\n",
       "      <th>1664521</th>\n",
       "      <td>Medical Incident</td>\n",
       "      <td>94115</td>\n",
       "      <td>3541.0</td>\n",
       "      <td>1</td>\n",
       "      <td>ENGINE</td>\n",
       "      <td>1</td>\n",
       "      <td>102.0</td>\n",
       "      <td>220.0</td>\n",
       "      <td>12</td>\n",
       "      <td>0</td>\n",
       "      <td>652.0</td>\n",
       "      <td>794.637715</td>\n",
       "      <td>-142.637715</td>\n",
       "      <td>20345.517773</td>\n",
       "      <td>1466.06557</td>\n",
       "      <td>-814.06557</td>\n",
       "    </tr>\n",
       "    <tr>\n",
       "      <th>1664524</th>\n",
       "      <td>Alarms</td>\n",
       "      <td>94109</td>\n",
       "      <td>1625.0</td>\n",
       "      <td>1</td>\n",
       "      <td>ENGINE</td>\n",
       "      <td>1</td>\n",
       "      <td>52.0</td>\n",
       "      <td>61.0</td>\n",
       "      <td>12</td>\n",
       "      <td>0</td>\n",
       "      <td>591.0</td>\n",
       "      <td>452.790966</td>\n",
       "      <td>138.209034</td>\n",
       "      <td>19101.737094</td>\n",
       "      <td>1466.06557</td>\n",
       "      <td>-875.06557</td>\n",
       "    </tr>\n",
       "  </tbody>\n",
       "</table>\n",
       "</div>"
      ],
      "text/plain": [
       "                Call Type  Zipcode of Incident     Box  Number of Alarms  \\\n",
       "1664518    Structure Fire                94112  8263.0                 1   \n",
       "1664521  Medical Incident                94115  3541.0                 1   \n",
       "1664524            Alarms                94109  1625.0                 1   \n",
       "\n",
       "        Unit Type  Unit sequence in call dispatch  Call to Dispatch  \\\n",
       "1664518    ENGINE                               1              40.0   \n",
       "1664521    ENGINE                               1             102.0   \n",
       "1664524    ENGINE                               1              52.0   \n",
       "\n",
       "         Dispatch to Respond  Hours  Hospital or Transport  y_test  \\\n",
       "1664518                 37.0     12                      0    44.0   \n",
       "1664521                220.0     12                      0   652.0   \n",
       "1664524                 61.0     12                      0   591.0   \n",
       "\n",
       "             y_pred  y_test-y_pred  y_test-y_pred_squared      mean_y  \\\n",
       "1664518  774.523991    -730.523991          533665.301376  1466.06557   \n",
       "1664521  794.637715    -142.637715           20345.517773  1466.06557   \n",
       "1664524  452.790966     138.209034           19101.737094  1466.06557   \n",
       "\n",
       "               diff  \n",
       "1664518 -1422.06557  \n",
       "1664521  -814.06557  \n",
       "1664524  -875.06557  "
      ]
     },
     "execution_count": 86,
     "metadata": {},
     "output_type": "execute_result"
    }
   ],
   "source": [
    "XYY = X_test.copy()\n",
    "XYY['y_test'] = y_test\n",
    "XYY['y_pred'] = pred\n",
    "XYY['y_test-y_pred'] = XYY['y_test']-XYY['y_pred']\n",
    "XYY['y_test-y_pred_squared'] = XYY['y_test-y_pred']**2\n",
    "mean_y = XYY['y_pred'].mean()\n",
    "XYY['mean_y'] = mean_y\n",
    "XYY['diff'] = XYY['y_test']-XYY['mean_y']\n",
    "XYY.head(3)"
   ]
  },
  {
   "cell_type": "code",
   "execution_count": 87,
   "metadata": {},
   "outputs": [],
   "source": [
    "mae = (abs(XYY['y_test-y_pred']).sum())/len(XYY['y_test-y_pred'])\n",
    "mse = (XYY['y_test-y_pred']**2).sum()/len(XYY['y_test-y_pred'])\n",
    "rmse = mse**0.5\n",
    "determanation_score = 1-((XYY['y_test-y_pred']**2).sum())/((XYY['diff']**2).sum())"
   ]
  },
  {
   "cell_type": "code",
   "execution_count": 96,
   "metadata": {},
   "outputs": [
    {
     "data": {
      "text/plain": [
       "617.0563034652848"
      ]
     },
     "execution_count": 96,
     "metadata": {},
     "output_type": "execute_result"
    }
   ],
   "source": [
    "mae"
   ]
  },
  {
   "cell_type": "code",
   "execution_count": 98,
   "metadata": {},
   "outputs": [
    {
     "data": {
      "text/plain": [
       "1003625.8859000573"
      ]
     },
     "execution_count": 98,
     "metadata": {},
     "output_type": "execute_result"
    }
   ],
   "source": [
    "mse"
   ]
  },
  {
   "cell_type": "code",
   "execution_count": 90,
   "metadata": {},
   "outputs": [
    {
     "data": {
      "text/plain": [
       "1001.8113025415801"
      ]
     },
     "execution_count": 90,
     "metadata": {},
     "output_type": "execute_result"
    }
   ],
   "source": [
    "rmse"
   ]
  },
  {
   "cell_type": "code",
   "execution_count": 91,
   "metadata": {},
   "outputs": [
    {
     "data": {
      "text/plain": [
       "0.6216254136773545"
      ]
     },
     "execution_count": 91,
     "metadata": {},
     "output_type": "execute_result"
    }
   ],
   "source": [
    "determanation_score"
   ]
  },
  {
   "cell_type": "code",
   "execution_count": 50,
   "metadata": {},
   "outputs": [
    {
     "name": "stdout",
     "output_type": "stream",
     "text": [
      "mae_mean: 1306.9332468946413\n",
      "mse_mean: 2933754.717806271\n",
      "mrse_mean: 1712.820690500401\n"
     ]
    }
   ],
   "source": [
    "#scores compare to mean\n",
    "total_mean = y_train.mean()\n",
    "mae_mean = (abs(XYY['y_test']-total_mean).sum())/len(XYY['y_test-y_pred'])\n",
    "print('mae_mean: '+ str(mae_mean))\n",
    "mse_mean = ((XYY['y_test']-total_mean)**2).sum()/len(XYY['y_test-y_pred'])\n",
    "print('mse_mean: '+ str(mse_mean))\n",
    "rmse_mean = mse_mean**0.5\n",
    "print('mrse_mean: '+ str(rmse_mean))"
   ]
  },
  {
   "cell_type": "code",
   "execution_count": 92,
   "metadata": {},
   "outputs": [
    {
     "data": {
      "text/plain": [
       "[('Call Type', 2.882022215321412),\n",
       " ('Zipcode of Incident', 1.4040424286849649),\n",
       " ('Box', 2.0526352121421723),\n",
       " ('Number of Alarms', 12.402517761270108),\n",
       " ('Unit Type', 5.846063753488031),\n",
       " ('Unit sequence in call dispatch', 2.5608182076554664),\n",
       " ('Call to Dispatch', 1.1608316991002354),\n",
       " ('Dispatch to Respond', 2.4740677320884616),\n",
       " ('Hours', 1.621410652897152),\n",
       " ('Hospital or Transport', 67.59559033735201)]"
      ]
     },
     "execution_count": 92,
     "metadata": {},
     "output_type": "execute_result"
    }
   ],
   "source": [
    "val = model.get_feature_importance()\n",
    "feat = X_test.columns\n",
    "\n",
    "list(zip(feat,val))"
   ]
  },
  {
   "cell_type": "code",
   "execution_count": null,
   "metadata": {},
   "outputs": [],
   "source": []
  },
  {
   "cell_type": "code",
   "execution_count": 93,
   "metadata": {},
   "outputs": [],
   "source": [
    "import matplotlib.pyplot as plt\n",
    "%matplotlib inline"
   ]
  },
  {
   "cell_type": "code",
   "execution_count": 94,
   "metadata": {},
   "outputs": [
    {
     "data": {
      "image/png": "[encoded data removed]",
      "text/plain": [
       "<matplotlib.figure.Figure at 0x110954c18>"
      ]
     },
     "metadata": {},
     "output_type": "display_data"
    }
   ],
   "source": [
    "XYY = XYY.sort_values('y_test')\n",
    "plt.figure(figsize=(15,10))\n",
    "plt.scatter(XYY.index, XYY['y_test'].sort_values(), color='b')\n",
    "plt.scatter(XYY.index, XYY['y_pred'], color='g')\n",
    "plt.show()"
   ]
  },
  {
   "cell_type": "code",
   "execution_count": 57,
   "metadata": {},
   "outputs": [
    {
     "data": {
      "text/plain": [
       "842790         1.0\n",
       "728963         1.0\n",
       "1494980        1.0\n",
       "412998         1.0\n",
       "1203326        1.0\n",
       "412961         1.0\n",
       "86863          1.0\n",
       "5085           1.0\n",
       "833880         1.0\n",
       "833882         1.0\n",
       "98282          1.0\n",
       "605596         1.0\n",
       "1264307        1.0\n",
       "284705         1.0\n",
       "945352         1.0\n",
       "1217738        1.0\n",
       "373575         1.0\n",
       "993846         1.0\n",
       "571450         1.0\n",
       "850765         1.0\n",
       "292804         1.0\n",
       "850764         1.0\n",
       "850763         1.0\n",
       "639723         1.0\n",
       "850761         1.0\n",
       "447295         1.0\n",
       "1039249        1.0\n",
       "467458         1.0\n",
       "67827          1.0\n",
       "1525705        1.0\n",
       "            ...   \n",
       "1197106    30245.0\n",
       "1549183    30314.0\n",
       "909507     30341.0\n",
       "655547     30554.0\n",
       "1197149    30585.0\n",
       "911475     30593.0\n",
       "272752     30698.0\n",
       "614851     30845.0\n",
       "655522     31130.0\n",
       "909472     31204.0\n",
       "909471     31637.0\n",
       "909508     31774.0\n",
       "909483     31898.0\n",
       "1197150    32180.0\n",
       "1549184    32245.0\n",
       "427276     32363.0\n",
       "1197110    32436.0\n",
       "290417     32486.0\n",
       "909482     33212.0\n",
       "113914     33348.0\n",
       "303646     33622.0\n",
       "1351362    33646.0\n",
       "427281     34193.0\n",
       "1240633    34247.0\n",
       "633600     34502.0\n",
       "122770     34554.0\n",
       "1197148    34563.0\n",
       "1637313    34832.0\n",
       "1637339    35410.0\n",
       "826564     35951.0\n",
       "Name: On Scene to Available, Length: 1127270, dtype: float64"
      ]
     },
     "execution_count": 57,
     "metadata": {},
     "output_type": "execute_result"
    }
   ],
   "source": [
    "y_train.sort_values()"
   ]
  },
  {
   "cell_type": "code",
   "execution_count": null,
   "metadata": {},
   "outputs": [],
   "source": []
  }
 ],
 "metadata": {
  "kernelspec": {
   "display_name": "Python 3",
   "language": "python",
   "name": "python3"
  },
  "language_info": {
   "codemirror_mode": {
    "name": "ipython",
    "version": 3
   },
   "file_extension": ".py",
   "mimetype": "text/x-python",
   "name": "python",
   "nbconvert_exporter": "python",
   "pygments_lexer": "ipython3",
   "version": "3.6.5"
  }
 },
 "nbformat": 4,
 "nbformat_minor": 2
}
